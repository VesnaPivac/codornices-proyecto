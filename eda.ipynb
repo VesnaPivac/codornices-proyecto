{
 "cells": [
  {
   "cell_type": "code",
   "execution_count": 116,
   "metadata": {},
   "outputs": [],
   "source": [
    "import pandas as pd\n",
    "import numpy as np\n",
    "import matplotlib.pyplot as plt\n",
    "import plotly.express as px\n",
    "from datetime import datetime, time\n",
    "import seaborn as sns"
   ]
  },
  {
   "cell_type": "markdown",
   "metadata": {},
   "source": [
    "## Datos"
   ]
  },
  {
   "cell_type": "code",
   "execution_count": 55,
   "metadata": {},
   "outputs": [
    {
     "data": {
      "text/plain": [
       "(319, 146)"
      ]
     },
     "execution_count": 55,
     "metadata": {},
     "output_type": "execute_result"
    }
   ],
   "source": [
    "df = pd.read_excel('./data/dieta_oscar_MCD.xlsx')\n",
    "df.shape"
   ]
  },
  {
   "cell_type": "code",
   "execution_count": 56,
   "metadata": {},
   "outputs": [
    {
     "data": {
      "text/html": [
       "<div>\n",
       "<style scoped>\n",
       "    .dataframe tbody tr th:only-of-type {\n",
       "        vertical-align: middle;\n",
       "    }\n",
       "\n",
       "    .dataframe tbody tr th {\n",
       "        vertical-align: top;\n",
       "    }\n",
       "\n",
       "    .dataframe thead th {\n",
       "        text-align: right;\n",
       "    }\n",
       "</style>\n",
       "<table border=\"1\" class=\"dataframe\">\n",
       "  <thead>\n",
       "    <tr style=\"text-align: right;\">\n",
       "      <th></th>\n",
       "      <th>id</th>\n",
       "      <th>edad</th>\n",
       "      <th>sexo</th>\n",
       "      <th>estado</th>\n",
       "      <th>peso total</th>\n",
       "      <th>Oxalis</th>\n",
       "      <th>Quercus</th>\n",
       "      <th>Cyp.bulb</th>\n",
       "      <th>Phaseolus</th>\n",
       "      <th>Tephoria</th>\n",
       "      <th>...</th>\n",
       "      <th>covey</th>\n",
       "      <th>dist camino</th>\n",
       "      <th>ppanual17</th>\n",
       "      <th>tmedia17</th>\n",
       "      <th>altitud</th>\n",
       "      <th>lat</th>\n",
       "      <th>lon</th>\n",
       "      <th>hcrop</th>\n",
       "      <th>hland</th>\n",
       "      <th>gap</th>\n",
       "    </tr>\n",
       "  </thead>\n",
       "  <tbody>\n",
       "    <tr>\n",
       "      <th>170</th>\n",
       "      <td>2016-211</td>\n",
       "      <td>A</td>\n",
       "      <td>Male</td>\n",
       "      <td>AZ</td>\n",
       "      <td>2.5398</td>\n",
       "      <td>0.0</td>\n",
       "      <td>0.0</td>\n",
       "      <td>0.0000</td>\n",
       "      <td>0.0292</td>\n",
       "      <td>0.0</td>\n",
       "      <td>...</td>\n",
       "      <td>NaN</td>\n",
       "      <td>NaN</td>\n",
       "      <td>NaN</td>\n",
       "      <td>NaN</td>\n",
       "      <td>NaN</td>\n",
       "      <td>NaN</td>\n",
       "      <td>NaN</td>\n",
       "      <td>0.217779</td>\n",
       "      <td>NaN</td>\n",
       "      <td>NaN</td>\n",
       "    </tr>\n",
       "    <tr>\n",
       "      <th>252</th>\n",
       "      <td>2014-60</td>\n",
       "      <td>A</td>\n",
       "      <td>Female</td>\n",
       "      <td>NM</td>\n",
       "      <td>2.0904</td>\n",
       "      <td>0.0</td>\n",
       "      <td>0.0</td>\n",
       "      <td>0.0000</td>\n",
       "      <td>0.0000</td>\n",
       "      <td>0.0</td>\n",
       "      <td>...</td>\n",
       "      <td>10.0</td>\n",
       "      <td>611.16</td>\n",
       "      <td>347.0</td>\n",
       "      <td>14.020833</td>\n",
       "      <td>1643.0</td>\n",
       "      <td>32.381441</td>\n",
       "      <td>-108.357641</td>\n",
       "      <td>0.850354</td>\n",
       "      <td>0.688753</td>\n",
       "      <td>Apacherian-Chihuahuan Piedmont Semi-Desert Gra...</td>\n",
       "    </tr>\n",
       "    <tr>\n",
       "      <th>255</th>\n",
       "      <td>2014-65</td>\n",
       "      <td>J</td>\n",
       "      <td>Female</td>\n",
       "      <td>NM</td>\n",
       "      <td>2.1685</td>\n",
       "      <td>0.0</td>\n",
       "      <td>0.0</td>\n",
       "      <td>1.8085</td>\n",
       "      <td>0.0000</td>\n",
       "      <td>0.0</td>\n",
       "      <td>...</td>\n",
       "      <td>15.0</td>\n",
       "      <td>6.40</td>\n",
       "      <td>431.0</td>\n",
       "      <td>11.070833</td>\n",
       "      <td>2027.0</td>\n",
       "      <td>32.897620</td>\n",
       "      <td>-107.944433</td>\n",
       "      <td>0.616340</td>\n",
       "      <td>0.849663</td>\n",
       "      <td>Rocky Mountain Ponderosa Pine Woodland</td>\n",
       "    </tr>\n",
       "  </tbody>\n",
       "</table>\n",
       "<p>3 rows × 146 columns</p>\n",
       "</div>"
      ],
      "text/plain": [
       "           id edad    sexo estado  peso total  Oxalis  Quercus  Cyp.bulb  \\\n",
       "170  2016-211    A    Male     AZ      2.5398     0.0      0.0    0.0000   \n",
       "252   2014-60    A  Female     NM      2.0904     0.0      0.0    0.0000   \n",
       "255   2014-65    J  Female     NM      2.1685     0.0      0.0    1.8085   \n",
       "\n",
       "     Phaseolus  Tephoria  ...  covey  dist camino  ppanual17   tmedia17  \\\n",
       "170     0.0292       0.0  ...    NaN          NaN        NaN        NaN   \n",
       "252     0.0000       0.0  ...   10.0       611.16      347.0  14.020833   \n",
       "255     0.0000       0.0  ...   15.0         6.40      431.0  11.070833   \n",
       "\n",
       "     altitud        lat         lon     hcrop     hland  \\\n",
       "170      NaN        NaN         NaN  0.217779       NaN   \n",
       "252   1643.0  32.381441 -108.357641  0.850354  0.688753   \n",
       "255   2027.0  32.897620 -107.944433  0.616340  0.849663   \n",
       "\n",
       "                                                   gap  \n",
       "170                                                NaN  \n",
       "252  Apacherian-Chihuahuan Piedmont Semi-Desert Gra...  \n",
       "255             Rocky Mountain Ponderosa Pine Woodland  \n",
       "\n",
       "[3 rows x 146 columns]"
      ]
     },
     "execution_count": 56,
     "metadata": {},
     "output_type": "execute_result"
    }
   ],
   "source": [
    "df.sample(3)"
   ]
  },
  {
   "cell_type": "markdown",
   "metadata": {},
   "source": [
    "## Separacion de datos"
   ]
  },
  {
   "cell_type": "code",
   "execution_count": 57,
   "metadata": {},
   "outputs": [],
   "source": [
    "columnas = df.columns.to_list()\n",
    "\n",
    "var_name = columnas[:5] + columnas[-11:]\n",
    "var_name.remove('gap')\n",
    "vars_dieta_codorniz = columnas[5:-11]"
   ]
  },
  {
   "cell_type": "code",
   "execution_count": 58,
   "metadata": {},
   "outputs": [
    {
     "data": {
      "text/html": [
       "<div>\n",
       "<style scoped>\n",
       "    .dataframe tbody tr th:only-of-type {\n",
       "        vertical-align: middle;\n",
       "    }\n",
       "\n",
       "    .dataframe tbody tr th {\n",
       "        vertical-align: top;\n",
       "    }\n",
       "\n",
       "    .dataframe thead th {\n",
       "        text-align: right;\n",
       "    }\n",
       "</style>\n",
       "<table border=\"1\" class=\"dataframe\">\n",
       "  <thead>\n",
       "    <tr style=\"text-align: right;\">\n",
       "      <th></th>\n",
       "      <th>id</th>\n",
       "      <th>edad</th>\n",
       "      <th>sexo</th>\n",
       "      <th>estado</th>\n",
       "      <th>peso total</th>\n",
       "      <th>time</th>\n",
       "      <th>covey</th>\n",
       "      <th>dist camino</th>\n",
       "      <th>ppanual17</th>\n",
       "      <th>tmedia17</th>\n",
       "      <th>altitud</th>\n",
       "      <th>lat</th>\n",
       "      <th>lon</th>\n",
       "      <th>hcrop</th>\n",
       "      <th>hland</th>\n",
       "    </tr>\n",
       "  </thead>\n",
       "  <tbody>\n",
       "    <tr>\n",
       "      <th>0</th>\n",
       "      <td>2014-104</td>\n",
       "      <td>J</td>\n",
       "      <td>Female</td>\n",
       "      <td>NM</td>\n",
       "      <td>9.7584</td>\n",
       "      <td>1420.0</td>\n",
       "      <td>6.0</td>\n",
       "      <td>251.86</td>\n",
       "      <td>462.0</td>\n",
       "      <td>7.054167</td>\n",
       "      <td>2518.0</td>\n",
       "      <td>34.037969</td>\n",
       "      <td>-108.963777</td>\n",
       "      <td>0.000000</td>\n",
       "      <td>0.798600</td>\n",
       "    </tr>\n",
       "    <tr>\n",
       "      <th>1</th>\n",
       "      <td>2014-105</td>\n",
       "      <td>J</td>\n",
       "      <td>Male</td>\n",
       "      <td>NM</td>\n",
       "      <td>3.9632</td>\n",
       "      <td>1420.0</td>\n",
       "      <td>6.0</td>\n",
       "      <td>251.86</td>\n",
       "      <td>462.0</td>\n",
       "      <td>7.054167</td>\n",
       "      <td>2518.0</td>\n",
       "      <td>34.037969</td>\n",
       "      <td>-108.963777</td>\n",
       "      <td>0.000000</td>\n",
       "      <td>0.798600</td>\n",
       "    </tr>\n",
       "    <tr>\n",
       "      <th>2</th>\n",
       "      <td>2016-133</td>\n",
       "      <td>A</td>\n",
       "      <td>Female</td>\n",
       "      <td>AZ</td>\n",
       "      <td>5.4562</td>\n",
       "      <td>1700.0</td>\n",
       "      <td>10.0</td>\n",
       "      <td>574.06</td>\n",
       "      <td>515.0</td>\n",
       "      <td>15.954167</td>\n",
       "      <td>1527.0</td>\n",
       "      <td>31.375725</td>\n",
       "      <td>-110.530491</td>\n",
       "      <td>0.785803</td>\n",
       "      <td>1.245916</td>\n",
       "    </tr>\n",
       "    <tr>\n",
       "      <th>3</th>\n",
       "      <td>2014-28</td>\n",
       "      <td>J</td>\n",
       "      <td>Female</td>\n",
       "      <td>NM</td>\n",
       "      <td>4.4976</td>\n",
       "      <td>1610.0</td>\n",
       "      <td>8.0</td>\n",
       "      <td>23.07</td>\n",
       "      <td>385.0</td>\n",
       "      <td>10.979167</td>\n",
       "      <td>1952.0</td>\n",
       "      <td>33.176791</td>\n",
       "      <td>-107.735593</td>\n",
       "      <td>0.464732</td>\n",
       "      <td>0.764466</td>\n",
       "    </tr>\n",
       "    <tr>\n",
       "      <th>4</th>\n",
       "      <td>2016-132</td>\n",
       "      <td>J</td>\n",
       "      <td>Male</td>\n",
       "      <td>AZ</td>\n",
       "      <td>5.4630</td>\n",
       "      <td>1600.0</td>\n",
       "      <td>8.0</td>\n",
       "      <td>236.76</td>\n",
       "      <td>521.0</td>\n",
       "      <td>16.133333</td>\n",
       "      <td>1507.0</td>\n",
       "      <td>31.353053</td>\n",
       "      <td>-110.531060</td>\n",
       "      <td>1.680150</td>\n",
       "      <td>1.541562</td>\n",
       "    </tr>\n",
       "    <tr>\n",
       "      <th>...</th>\n",
       "      <td>...</td>\n",
       "      <td>...</td>\n",
       "      <td>...</td>\n",
       "      <td>...</td>\n",
       "      <td>...</td>\n",
       "      <td>...</td>\n",
       "      <td>...</td>\n",
       "      <td>...</td>\n",
       "      <td>...</td>\n",
       "      <td>...</td>\n",
       "      <td>...</td>\n",
       "      <td>...</td>\n",
       "      <td>...</td>\n",
       "      <td>...</td>\n",
       "      <td>...</td>\n",
       "    </tr>\n",
       "    <tr>\n",
       "      <th>314</th>\n",
       "      <td>2015-59</td>\n",
       "      <td>A</td>\n",
       "      <td>Female</td>\n",
       "      <td>NM</td>\n",
       "      <td>0.3501</td>\n",
       "      <td>1300.0</td>\n",
       "      <td>12.0</td>\n",
       "      <td>86.99</td>\n",
       "      <td>315.0</td>\n",
       "      <td>14.458333</td>\n",
       "      <td>1543.0</td>\n",
       "      <td>32.590956</td>\n",
       "      <td>-107.920563</td>\n",
       "      <td>0.112925</td>\n",
       "      <td>1.628812</td>\n",
       "    </tr>\n",
       "    <tr>\n",
       "      <th>315</th>\n",
       "      <td>2015-6</td>\n",
       "      <td>J</td>\n",
       "      <td>Female</td>\n",
       "      <td>NM</td>\n",
       "      <td>0.1977</td>\n",
       "      <td>1230.0</td>\n",
       "      <td>3.0</td>\n",
       "      <td>127.25</td>\n",
       "      <td>324.0</td>\n",
       "      <td>11.175000</td>\n",
       "      <td>2023.0</td>\n",
       "      <td>33.688852</td>\n",
       "      <td>-107.330940</td>\n",
       "      <td>0.000000</td>\n",
       "      <td>1.796301</td>\n",
       "    </tr>\n",
       "    <tr>\n",
       "      <th>316</th>\n",
       "      <td>2015-60</td>\n",
       "      <td>J</td>\n",
       "      <td>Female</td>\n",
       "      <td>NM</td>\n",
       "      <td>2.6084</td>\n",
       "      <td>1300.0</td>\n",
       "      <td>12.0</td>\n",
       "      <td>86.99</td>\n",
       "      <td>315.0</td>\n",
       "      <td>14.458333</td>\n",
       "      <td>1543.0</td>\n",
       "      <td>32.590956</td>\n",
       "      <td>-107.920563</td>\n",
       "      <td>0.065394</td>\n",
       "      <td>1.628812</td>\n",
       "    </tr>\n",
       "    <tr>\n",
       "      <th>317</th>\n",
       "      <td>2015-61</td>\n",
       "      <td>A</td>\n",
       "      <td>Male</td>\n",
       "      <td>NM</td>\n",
       "      <td>7.3265</td>\n",
       "      <td>1430.0</td>\n",
       "      <td>8.0</td>\n",
       "      <td>763.38</td>\n",
       "      <td>332.0</td>\n",
       "      <td>14.225000</td>\n",
       "      <td>1560.0</td>\n",
       "      <td>32.592245</td>\n",
       "      <td>-107.930243</td>\n",
       "      <td>0.000000</td>\n",
       "      <td>0.761439</td>\n",
       "    </tr>\n",
       "    <tr>\n",
       "      <th>318</th>\n",
       "      <td>2015-63</td>\n",
       "      <td>J</td>\n",
       "      <td>Female</td>\n",
       "      <td>NM</td>\n",
       "      <td>5.9750</td>\n",
       "      <td>1430.0</td>\n",
       "      <td>8.0</td>\n",
       "      <td>763.38</td>\n",
       "      <td>332.0</td>\n",
       "      <td>14.225000</td>\n",
       "      <td>1560.0</td>\n",
       "      <td>32.592245</td>\n",
       "      <td>-107.930243</td>\n",
       "      <td>0.116640</td>\n",
       "      <td>0.761439</td>\n",
       "    </tr>\n",
       "  </tbody>\n",
       "</table>\n",
       "<p>319 rows × 15 columns</p>\n",
       "</div>"
      ],
      "text/plain": [
       "           id edad    sexo estado  peso total    time  covey  dist camino  \\\n",
       "0    2014-104    J  Female     NM      9.7584  1420.0    6.0       251.86   \n",
       "1    2014-105    J    Male     NM      3.9632  1420.0    6.0       251.86   \n",
       "2    2016-133    A  Female     AZ      5.4562  1700.0   10.0       574.06   \n",
       "3     2014-28    J  Female     NM      4.4976  1610.0    8.0        23.07   \n",
       "4    2016-132    J    Male     AZ      5.4630  1600.0    8.0       236.76   \n",
       "..        ...  ...     ...    ...         ...     ...    ...          ...   \n",
       "314   2015-59    A  Female     NM      0.3501  1300.0   12.0        86.99   \n",
       "315    2015-6    J  Female     NM      0.1977  1230.0    3.0       127.25   \n",
       "316   2015-60    J  Female     NM      2.6084  1300.0   12.0        86.99   \n",
       "317   2015-61    A    Male     NM      7.3265  1430.0    8.0       763.38   \n",
       "318   2015-63    J  Female     NM      5.9750  1430.0    8.0       763.38   \n",
       "\n",
       "     ppanual17   tmedia17  altitud        lat         lon     hcrop     hland  \n",
       "0        462.0   7.054167   2518.0  34.037969 -108.963777  0.000000  0.798600  \n",
       "1        462.0   7.054167   2518.0  34.037969 -108.963777  0.000000  0.798600  \n",
       "2        515.0  15.954167   1527.0  31.375725 -110.530491  0.785803  1.245916  \n",
       "3        385.0  10.979167   1952.0  33.176791 -107.735593  0.464732  0.764466  \n",
       "4        521.0  16.133333   1507.0  31.353053 -110.531060  1.680150  1.541562  \n",
       "..         ...        ...      ...        ...         ...       ...       ...  \n",
       "314      315.0  14.458333   1543.0  32.590956 -107.920563  0.112925  1.628812  \n",
       "315      324.0  11.175000   2023.0  33.688852 -107.330940  0.000000  1.796301  \n",
       "316      315.0  14.458333   1543.0  32.590956 -107.920563  0.065394  1.628812  \n",
       "317      332.0  14.225000   1560.0  32.592245 -107.930243  0.000000  0.761439  \n",
       "318      332.0  14.225000   1560.0  32.592245 -107.930243  0.116640  0.761439  \n",
       "\n",
       "[319 rows x 15 columns]"
      ]
     },
     "execution_count": 58,
     "metadata": {},
     "output_type": "execute_result"
    }
   ],
   "source": [
    "df[var_name]"
   ]
  },
  {
   "cell_type": "code",
   "execution_count": 59,
   "metadata": {},
   "outputs": [
    {
     "data": {
      "text/html": [
       "<div>\n",
       "<style scoped>\n",
       "    .dataframe tbody tr th:only-of-type {\n",
       "        vertical-align: middle;\n",
       "    }\n",
       "\n",
       "    .dataframe tbody tr th {\n",
       "        vertical-align: top;\n",
       "    }\n",
       "\n",
       "    .dataframe thead th {\n",
       "        text-align: right;\n",
       "    }\n",
       "</style>\n",
       "<table border=\"1\" class=\"dataframe\">\n",
       "  <thead>\n",
       "    <tr style=\"text-align: right;\">\n",
       "      <th></th>\n",
       "      <th>Oxalis</th>\n",
       "      <th>Quercus</th>\n",
       "      <th>Cyp.bulb</th>\n",
       "      <th>Phaseolus</th>\n",
       "      <th>Tephoria</th>\n",
       "      <th>Caracoles</th>\n",
       "      <th>Insectos</th>\n",
       "      <th>Physalis</th>\n",
       "      <th>Vitis.arizonica</th>\n",
       "      <th>Lupinus</th>\n",
       "      <th>...</th>\n",
       "      <th>Bothriochloa.1</th>\n",
       "      <th>Euphorbia.2</th>\n",
       "      <th>SPA60</th>\n",
       "      <th>SPA61</th>\n",
       "      <th>SPA62</th>\n",
       "      <th>Phaseolus.1</th>\n",
       "      <th>SPA64</th>\n",
       "      <th>SPA65</th>\n",
       "      <th>Arachnida</th>\n",
       "      <th>Juniperus prob. deppeana</th>\n",
       "    </tr>\n",
       "  </thead>\n",
       "  <tbody>\n",
       "    <tr>\n",
       "      <th>190</th>\n",
       "      <td>0.0</td>\n",
       "      <td>0.0</td>\n",
       "      <td>0.0</td>\n",
       "      <td>0.0210</td>\n",
       "      <td>0.0234</td>\n",
       "      <td>0.0</td>\n",
       "      <td>0.0023</td>\n",
       "      <td>0.0</td>\n",
       "      <td>0.0</td>\n",
       "      <td>0.0</td>\n",
       "      <td>...</td>\n",
       "      <td>0.0</td>\n",
       "      <td>0.0</td>\n",
       "      <td>0.0</td>\n",
       "      <td>0.0</td>\n",
       "      <td>0.0</td>\n",
       "      <td>0.0</td>\n",
       "      <td>0.0</td>\n",
       "      <td>0.0</td>\n",
       "      <td>0.0</td>\n",
       "      <td>0.0</td>\n",
       "    </tr>\n",
       "    <tr>\n",
       "      <th>139</th>\n",
       "      <td>0.0</td>\n",
       "      <td>0.0</td>\n",
       "      <td>0.0</td>\n",
       "      <td>0.0281</td>\n",
       "      <td>0.0000</td>\n",
       "      <td>0.0</td>\n",
       "      <td>0.0000</td>\n",
       "      <td>0.0</td>\n",
       "      <td>0.0</td>\n",
       "      <td>0.0</td>\n",
       "      <td>...</td>\n",
       "      <td>0.0</td>\n",
       "      <td>0.0</td>\n",
       "      <td>0.0</td>\n",
       "      <td>0.0</td>\n",
       "      <td>0.0</td>\n",
       "      <td>0.0</td>\n",
       "      <td>0.0</td>\n",
       "      <td>0.0</td>\n",
       "      <td>0.0</td>\n",
       "      <td>0.0</td>\n",
       "    </tr>\n",
       "    <tr>\n",
       "      <th>263</th>\n",
       "      <td>0.0</td>\n",
       "      <td>0.0</td>\n",
       "      <td>0.0</td>\n",
       "      <td>1.2051</td>\n",
       "      <td>0.0899</td>\n",
       "      <td>0.0</td>\n",
       "      <td>0.1300</td>\n",
       "      <td>0.0</td>\n",
       "      <td>0.0</td>\n",
       "      <td>0.0</td>\n",
       "      <td>...</td>\n",
       "      <td>0.0</td>\n",
       "      <td>0.0</td>\n",
       "      <td>0.0</td>\n",
       "      <td>0.0</td>\n",
       "      <td>0.0</td>\n",
       "      <td>0.0</td>\n",
       "      <td>0.0</td>\n",
       "      <td>0.0</td>\n",
       "      <td>0.0</td>\n",
       "      <td>0.0</td>\n",
       "    </tr>\n",
       "  </tbody>\n",
       "</table>\n",
       "<p>3 rows × 130 columns</p>\n",
       "</div>"
      ],
      "text/plain": [
       "     Oxalis  Quercus  Cyp.bulb  Phaseolus  Tephoria  Caracoles  Insectos  \\\n",
       "190     0.0      0.0       0.0     0.0210    0.0234        0.0    0.0023   \n",
       "139     0.0      0.0       0.0     0.0281    0.0000        0.0    0.0000   \n",
       "263     0.0      0.0       0.0     1.2051    0.0899        0.0    0.1300   \n",
       "\n",
       "     Physalis  Vitis.arizonica  Lupinus  ...  Bothriochloa.1  Euphorbia.2  \\\n",
       "190       0.0              0.0      0.0  ...             0.0          0.0   \n",
       "139       0.0              0.0      0.0  ...             0.0          0.0   \n",
       "263       0.0              0.0      0.0  ...             0.0          0.0   \n",
       "\n",
       "     SPA60  SPA61  SPA62  Phaseolus.1  SPA64  SPA65  Arachnida  \\\n",
       "190    0.0    0.0    0.0          0.0    0.0    0.0        0.0   \n",
       "139    0.0    0.0    0.0          0.0    0.0    0.0        0.0   \n",
       "263    0.0    0.0    0.0          0.0    0.0    0.0        0.0   \n",
       "\n",
       "     Juniperus prob. deppeana  \n",
       "190                       0.0  \n",
       "139                       0.0  \n",
       "263                       0.0  \n",
       "\n",
       "[3 rows x 130 columns]"
      ]
     },
     "execution_count": 59,
     "metadata": {},
     "output_type": "execute_result"
    }
   ],
   "source": [
    "df[vars_dieta_codorniz].sample(3)"
   ]
  },
  {
   "cell_type": "code",
   "execution_count": 60,
   "metadata": {},
   "outputs": [
    {
     "data": {
      "text/html": [
       "<div>\n",
       "<style scoped>\n",
       "    .dataframe tbody tr th:only-of-type {\n",
       "        vertical-align: middle;\n",
       "    }\n",
       "\n",
       "    .dataframe tbody tr th {\n",
       "        vertical-align: top;\n",
       "    }\n",
       "\n",
       "    .dataframe thead th {\n",
       "        text-align: right;\n",
       "    }\n",
       "</style>\n",
       "<table border=\"1\" class=\"dataframe\">\n",
       "  <thead>\n",
       "    <tr style=\"text-align: right;\">\n",
       "      <th></th>\n",
       "      <th>id</th>\n",
       "      <th>edad</th>\n",
       "      <th>sexo</th>\n",
       "      <th>estado</th>\n",
       "      <th>peso total</th>\n",
       "      <th>time</th>\n",
       "      <th>covey</th>\n",
       "      <th>dist camino</th>\n",
       "      <th>ppanual17</th>\n",
       "      <th>tmedia17</th>\n",
       "      <th>altitud</th>\n",
       "      <th>lat</th>\n",
       "      <th>lon</th>\n",
       "      <th>hcrop</th>\n",
       "      <th>hland</th>\n",
       "    </tr>\n",
       "  </thead>\n",
       "  <tbody>\n",
       "    <tr>\n",
       "      <th>18</th>\n",
       "      <td>2016-152</td>\n",
       "      <td>J</td>\n",
       "      <td>Male</td>\n",
       "      <td>AZ</td>\n",
       "      <td>3.0839</td>\n",
       "      <td>1500.0</td>\n",
       "      <td>NaN</td>\n",
       "      <td>57.94</td>\n",
       "      <td>482.0</td>\n",
       "      <td>17.0000</td>\n",
       "      <td>1226.0</td>\n",
       "      <td>31.380497</td>\n",
       "      <td>-111.072099</td>\n",
       "      <td>1.841076</td>\n",
       "      <td>1.067677</td>\n",
       "    </tr>\n",
       "    <tr>\n",
       "      <th>211</th>\n",
       "      <td>2014-22</td>\n",
       "      <td>J</td>\n",
       "      <td>Female</td>\n",
       "      <td>NM</td>\n",
       "      <td>0.8383</td>\n",
       "      <td>1530.0</td>\n",
       "      <td>8.0</td>\n",
       "      <td>253.42</td>\n",
       "      <td>355.0</td>\n",
       "      <td>13.7875</td>\n",
       "      <td>1641.0</td>\n",
       "      <td>32.799302</td>\n",
       "      <td>-107.593281</td>\n",
       "      <td>1.002555</td>\n",
       "      <td>0.852203</td>\n",
       "    </tr>\n",
       "    <tr>\n",
       "      <th>110</th>\n",
       "      <td>2015-62</td>\n",
       "      <td>A</td>\n",
       "      <td>Male</td>\n",
       "      <td>NM</td>\n",
       "      <td>5.1539</td>\n",
       "      <td>1430.0</td>\n",
       "      <td>8.0</td>\n",
       "      <td>763.38</td>\n",
       "      <td>332.0</td>\n",
       "      <td>14.2250</td>\n",
       "      <td>1560.0</td>\n",
       "      <td>32.592245</td>\n",
       "      <td>-107.930243</td>\n",
       "      <td>0.154973</td>\n",
       "      <td>0.761439</td>\n",
       "    </tr>\n",
       "  </tbody>\n",
       "</table>\n",
       "</div>"
      ],
      "text/plain": [
       "           id edad    sexo estado  peso total    time  covey  dist camino  \\\n",
       "18   2016-152    J    Male     AZ      3.0839  1500.0    NaN        57.94   \n",
       "211   2014-22    J  Female     NM      0.8383  1530.0    8.0       253.42   \n",
       "110   2015-62    A    Male     NM      5.1539  1430.0    8.0       763.38   \n",
       "\n",
       "     ppanual17  tmedia17  altitud        lat         lon     hcrop     hland  \n",
       "18       482.0   17.0000   1226.0  31.380497 -111.072099  1.841076  1.067677  \n",
       "211      355.0   13.7875   1641.0  32.799302 -107.593281  1.002555  0.852203  \n",
       "110      332.0   14.2250   1560.0  32.592245 -107.930243  0.154973  0.761439  "
      ]
     },
     "execution_count": 60,
     "metadata": {},
     "output_type": "execute_result"
    }
   ],
   "source": [
    "df[var_name].sample(3)"
   ]
  },
  {
   "cell_type": "markdown",
   "metadata": {},
   "source": [
    "## Transformación"
   ]
  },
  {
   "cell_type": "code",
   "execution_count": 61,
   "metadata": {},
   "outputs": [
    {
     "data": {
      "text/plain": [
       "edad\n",
       "J      165\n",
       "NaN     87\n",
       "A       67\n",
       "Name: count, dtype: int64"
      ]
     },
     "execution_count": 61,
     "metadata": {},
     "output_type": "execute_result"
    }
   ],
   "source": [
    "df['edad'].value_counts(dropna=False)"
   ]
  },
  {
   "cell_type": "code",
   "execution_count": 62,
   "metadata": {},
   "outputs": [],
   "source": [
    "# Variable: time\n",
    "# Pasa el formato actual a tipo time con formato hh:mm:ss\n",
    "def convertir_a_formato_de_24_horas(valor):\n",
    "    if pd.isna(valor):\n",
    "        return np.nan\n",
    "    horas, minutos = divmod(int(valor), 100)\n",
    "    return time(horas, minutos)\n",
    "\n",
    "df['time'] = df['time'].apply(convertir_a_formato_de_24_horas)\n"
   ]
  },
  {
   "cell_type": "code",
   "execution_count": 63,
   "metadata": {},
   "outputs": [
    {
     "data": {
      "text/html": [
       "<div>\n",
       "<style scoped>\n",
       "    .dataframe tbody tr th:only-of-type {\n",
       "        vertical-align: middle;\n",
       "    }\n",
       "\n",
       "    .dataframe tbody tr th {\n",
       "        vertical-align: top;\n",
       "    }\n",
       "\n",
       "    .dataframe thead th {\n",
       "        text-align: right;\n",
       "    }\n",
       "</style>\n",
       "<table border=\"1\" class=\"dataframe\">\n",
       "  <thead>\n",
       "    <tr style=\"text-align: right;\">\n",
       "      <th></th>\n",
       "      <th>id</th>\n",
       "      <th>edad</th>\n",
       "      <th>sexo</th>\n",
       "      <th>estado</th>\n",
       "      <th>peso total</th>\n",
       "      <th>time</th>\n",
       "      <th>covey</th>\n",
       "      <th>dist camino</th>\n",
       "      <th>ppanual17</th>\n",
       "      <th>tmedia17</th>\n",
       "      <th>altitud</th>\n",
       "      <th>lat</th>\n",
       "      <th>lon</th>\n",
       "      <th>hcrop</th>\n",
       "      <th>hland</th>\n",
       "    </tr>\n",
       "  </thead>\n",
       "  <tbody>\n",
       "    <tr>\n",
       "      <th>74</th>\n",
       "      <td>2016-170</td>\n",
       "      <td>NaN</td>\n",
       "      <td>Male</td>\n",
       "      <td>AZ</td>\n",
       "      <td>3.41980</td>\n",
       "      <td>NaN</td>\n",
       "      <td>NaN</td>\n",
       "      <td>NaN</td>\n",
       "      <td>NaN</td>\n",
       "      <td>NaN</td>\n",
       "      <td>NaN</td>\n",
       "      <td>NaN</td>\n",
       "      <td>NaN</td>\n",
       "      <td>0.763731</td>\n",
       "      <td>NaN</td>\n",
       "    </tr>\n",
       "    <tr>\n",
       "      <th>165</th>\n",
       "      <td>2016-191</td>\n",
       "      <td>NaN</td>\n",
       "      <td>NaN</td>\n",
       "      <td>AZ</td>\n",
       "      <td>1.85140</td>\n",
       "      <td>NaN</td>\n",
       "      <td>NaN</td>\n",
       "      <td>NaN</td>\n",
       "      <td>NaN</td>\n",
       "      <td>NaN</td>\n",
       "      <td>NaN</td>\n",
       "      <td>NaN</td>\n",
       "      <td>NaN</td>\n",
       "      <td>1.502276</td>\n",
       "      <td>NaN</td>\n",
       "    </tr>\n",
       "    <tr>\n",
       "      <th>197</th>\n",
       "      <td>2014-102</td>\n",
       "      <td>J</td>\n",
       "      <td>Male</td>\n",
       "      <td>NM</td>\n",
       "      <td>1.66329</td>\n",
       "      <td>10:00:00</td>\n",
       "      <td>8.0</td>\n",
       "      <td>536.78</td>\n",
       "      <td>324.0</td>\n",
       "      <td>14.454167</td>\n",
       "      <td>1591.0</td>\n",
       "      <td>32.330533</td>\n",
       "      <td>-108.269338</td>\n",
       "      <td>0.039978</td>\n",
       "      <td>0.903845</td>\n",
       "    </tr>\n",
       "    <tr>\n",
       "      <th>287</th>\n",
       "      <td>2015-13</td>\n",
       "      <td>J</td>\n",
       "      <td>Male</td>\n",
       "      <td>NM</td>\n",
       "      <td>6.08590</td>\n",
       "      <td>12:45:00</td>\n",
       "      <td>15.0</td>\n",
       "      <td>633.63</td>\n",
       "      <td>354.0</td>\n",
       "      <td>14.125000</td>\n",
       "      <td>1696.0</td>\n",
       "      <td>32.514658</td>\n",
       "      <td>-107.168737</td>\n",
       "      <td>0.296121</td>\n",
       "      <td>0.904752</td>\n",
       "    </tr>\n",
       "    <tr>\n",
       "      <th>176</th>\n",
       "      <td>2016-225</td>\n",
       "      <td>NaN</td>\n",
       "      <td>NaN</td>\n",
       "      <td>AZ</td>\n",
       "      <td>0.34720</td>\n",
       "      <td>NaN</td>\n",
       "      <td>NaN</td>\n",
       "      <td>NaN</td>\n",
       "      <td>NaN</td>\n",
       "      <td>NaN</td>\n",
       "      <td>NaN</td>\n",
       "      <td>NaN</td>\n",
       "      <td>NaN</td>\n",
       "      <td>0.997423</td>\n",
       "      <td>NaN</td>\n",
       "    </tr>\n",
       "  </tbody>\n",
       "</table>\n",
       "</div>"
      ],
      "text/plain": [
       "           id edad  sexo estado  peso total      time  covey  dist camino  \\\n",
       "74   2016-170  NaN  Male     AZ     3.41980       NaN    NaN          NaN   \n",
       "165  2016-191  NaN   NaN     AZ     1.85140       NaN    NaN          NaN   \n",
       "197  2014-102    J  Male     NM     1.66329  10:00:00    8.0       536.78   \n",
       "287   2015-13    J  Male     NM     6.08590  12:45:00   15.0       633.63   \n",
       "176  2016-225  NaN   NaN     AZ     0.34720       NaN    NaN          NaN   \n",
       "\n",
       "     ppanual17   tmedia17  altitud        lat         lon     hcrop     hland  \n",
       "74         NaN        NaN      NaN        NaN         NaN  0.763731       NaN  \n",
       "165        NaN        NaN      NaN        NaN         NaN  1.502276       NaN  \n",
       "197      324.0  14.454167   1591.0  32.330533 -108.269338  0.039978  0.903845  \n",
       "287      354.0  14.125000   1696.0  32.514658 -107.168737  0.296121  0.904752  \n",
       "176        NaN        NaN      NaN        NaN         NaN  0.997423       NaN  "
      ]
     },
     "execution_count": 63,
     "metadata": {},
     "output_type": "execute_result"
    }
   ],
   "source": [
    "df[var_name].sample(5)"
   ]
  },
  {
   "cell_type": "code",
   "execution_count": 64,
   "metadata": {},
   "outputs": [
    {
     "name": "stdout",
     "output_type": "stream",
     "text": [
      "Estado:  ['NM' 'AZ' 'Az']\n",
      "Sexo:  ['Female' 'Male' nan 'male' 'Male ']\n"
     ]
    }
   ],
   "source": [
    "print('Estado: ',(df['estado'].unique()))\n",
    "print('Sexo: ',(df['sexo'].unique()))"
   ]
  },
  {
   "cell_type": "code",
   "execution_count": 65,
   "metadata": {},
   "outputs": [
    {
     "data": {
      "text/plain": [
       "estado\n",
       "AZ    177\n",
       "NM    142\n",
       "Name: count, dtype: int64"
      ]
     },
     "execution_count": 65,
     "metadata": {},
     "output_type": "execute_result"
    }
   ],
   "source": [
    "df['estado'] = df['estado'].str.upper()\n",
    "df['estado'].value_counts(dropna=False)"
   ]
  },
  {
   "cell_type": "code",
   "execution_count": 66,
   "metadata": {},
   "outputs": [
    {
     "data": {
      "text/plain": [
       "sexo\n",
       "Male      173\n",
       "Female    104\n",
       "NaN        42\n",
       "Name: count, dtype: int64"
      ]
     },
     "execution_count": 66,
     "metadata": {},
     "output_type": "execute_result"
    }
   ],
   "source": [
    "df['sexo'] = df['sexo'].apply(lambda x: x.strip().capitalize() if pd.notna(x) else x)\n",
    "df['sexo'].value_counts(dropna=False)"
   ]
  },
  {
   "cell_type": "code",
   "execution_count": 67,
   "metadata": {},
   "outputs": [
    {
     "data": {
      "text/plain": [
       "dist camino\n",
       "False    221\n",
       "True      98\n",
       "Name: count, dtype: int64"
      ]
     },
     "execution_count": 67,
     "metadata": {},
     "output_type": "execute_result"
    }
   ],
   "source": [
    "df['dist camino'].isna().value_counts(dropna=False)"
   ]
  },
  {
   "cell_type": "markdown",
   "metadata": {},
   "source": [
    "### Valores vacios"
   ]
  },
  {
   "cell_type": "code",
   "execution_count": 68,
   "metadata": {},
   "outputs": [
    {
     "data": {
      "application/vnd.plotly.v1+json": {
       "config": {
        "plotlyServerURL": "https://plot.ly"
       },
       "data": [
        {
         "alignmentgroup": "True",
         "hovertemplate": "Variables=%{x}<br>Cantidad de NaN=%{y}<extra></extra>",
         "legendgroup": "",
         "marker": {
          "color": "#636efa",
          "pattern": {
           "shape": ""
          }
         },
         "name": "",
         "offsetgroup": "",
         "orientation": "v",
         "showlegend": false,
         "textposition": "auto",
         "type": "bar",
         "x": [
          "edad",
          "sexo",
          "Quercus",
          "Cyp.bulb",
          "Lotus.wrightii",
          "Fabacea",
          "SP34",
          "SPA33",
          "SPA55",
          "Bothriochloa.1",
          "time",
          "covey",
          "dist camino",
          "ppanual17",
          "tmedia17",
          "altitud",
          "lat",
          "lon",
          "hland",
          "gap"
         ],
         "xaxis": "x",
         "y": [
          87,
          42,
          1,
          2,
          1,
          1,
          1,
          1,
          2,
          1,
          87,
          129,
          98,
          98,
          98,
          98,
          98,
          98,
          99,
          98
         ],
         "yaxis": "y"
        }
       ],
       "layout": {
        "barmode": "relative",
        "legend": {
         "tracegroupgap": 0
        },
        "template": {
         "data": {
          "bar": [
           {
            "error_x": {
             "color": "#2a3f5f"
            },
            "error_y": {
             "color": "#2a3f5f"
            },
            "marker": {
             "line": {
              "color": "#E5ECF6",
              "width": 0.5
             },
             "pattern": {
              "fillmode": "overlay",
              "size": 10,
              "solidity": 0.2
             }
            },
            "type": "bar"
           }
          ],
          "barpolar": [
           {
            "marker": {
             "line": {
              "color": "#E5ECF6",
              "width": 0.5
             },
             "pattern": {
              "fillmode": "overlay",
              "size": 10,
              "solidity": 0.2
             }
            },
            "type": "barpolar"
           }
          ],
          "carpet": [
           {
            "aaxis": {
             "endlinecolor": "#2a3f5f",
             "gridcolor": "white",
             "linecolor": "white",
             "minorgridcolor": "white",
             "startlinecolor": "#2a3f5f"
            },
            "baxis": {
             "endlinecolor": "#2a3f5f",
             "gridcolor": "white",
             "linecolor": "white",
             "minorgridcolor": "white",
             "startlinecolor": "#2a3f5f"
            },
            "type": "carpet"
           }
          ],
          "choropleth": [
           {
            "colorbar": {
             "outlinewidth": 0,
             "ticks": ""
            },
            "type": "choropleth"
           }
          ],
          "contour": [
           {
            "colorbar": {
             "outlinewidth": 0,
             "ticks": ""
            },
            "colorscale": [
             [
              0,
              "#0d0887"
             ],
             [
              0.1111111111111111,
              "#46039f"
             ],
             [
              0.2222222222222222,
              "#7201a8"
             ],
             [
              0.3333333333333333,
              "#9c179e"
             ],
             [
              0.4444444444444444,
              "#bd3786"
             ],
             [
              0.5555555555555556,
              "#d8576b"
             ],
             [
              0.6666666666666666,
              "#ed7953"
             ],
             [
              0.7777777777777778,
              "#fb9f3a"
             ],
             [
              0.8888888888888888,
              "#fdca26"
             ],
             [
              1,
              "#f0f921"
             ]
            ],
            "type": "contour"
           }
          ],
          "contourcarpet": [
           {
            "colorbar": {
             "outlinewidth": 0,
             "ticks": ""
            },
            "type": "contourcarpet"
           }
          ],
          "heatmap": [
           {
            "colorbar": {
             "outlinewidth": 0,
             "ticks": ""
            },
            "colorscale": [
             [
              0,
              "#0d0887"
             ],
             [
              0.1111111111111111,
              "#46039f"
             ],
             [
              0.2222222222222222,
              "#7201a8"
             ],
             [
              0.3333333333333333,
              "#9c179e"
             ],
             [
              0.4444444444444444,
              "#bd3786"
             ],
             [
              0.5555555555555556,
              "#d8576b"
             ],
             [
              0.6666666666666666,
              "#ed7953"
             ],
             [
              0.7777777777777778,
              "#fb9f3a"
             ],
             [
              0.8888888888888888,
              "#fdca26"
             ],
             [
              1,
              "#f0f921"
             ]
            ],
            "type": "heatmap"
           }
          ],
          "heatmapgl": [
           {
            "colorbar": {
             "outlinewidth": 0,
             "ticks": ""
            },
            "colorscale": [
             [
              0,
              "#0d0887"
             ],
             [
              0.1111111111111111,
              "#46039f"
             ],
             [
              0.2222222222222222,
              "#7201a8"
             ],
             [
              0.3333333333333333,
              "#9c179e"
             ],
             [
              0.4444444444444444,
              "#bd3786"
             ],
             [
              0.5555555555555556,
              "#d8576b"
             ],
             [
              0.6666666666666666,
              "#ed7953"
             ],
             [
              0.7777777777777778,
              "#fb9f3a"
             ],
             [
              0.8888888888888888,
              "#fdca26"
             ],
             [
              1,
              "#f0f921"
             ]
            ],
            "type": "heatmapgl"
           }
          ],
          "histogram": [
           {
            "marker": {
             "pattern": {
              "fillmode": "overlay",
              "size": 10,
              "solidity": 0.2
             }
            },
            "type": "histogram"
           }
          ],
          "histogram2d": [
           {
            "colorbar": {
             "outlinewidth": 0,
             "ticks": ""
            },
            "colorscale": [
             [
              0,
              "#0d0887"
             ],
             [
              0.1111111111111111,
              "#46039f"
             ],
             [
              0.2222222222222222,
              "#7201a8"
             ],
             [
              0.3333333333333333,
              "#9c179e"
             ],
             [
              0.4444444444444444,
              "#bd3786"
             ],
             [
              0.5555555555555556,
              "#d8576b"
             ],
             [
              0.6666666666666666,
              "#ed7953"
             ],
             [
              0.7777777777777778,
              "#fb9f3a"
             ],
             [
              0.8888888888888888,
              "#fdca26"
             ],
             [
              1,
              "#f0f921"
             ]
            ],
            "type": "histogram2d"
           }
          ],
          "histogram2dcontour": [
           {
            "colorbar": {
             "outlinewidth": 0,
             "ticks": ""
            },
            "colorscale": [
             [
              0,
              "#0d0887"
             ],
             [
              0.1111111111111111,
              "#46039f"
             ],
             [
              0.2222222222222222,
              "#7201a8"
             ],
             [
              0.3333333333333333,
              "#9c179e"
             ],
             [
              0.4444444444444444,
              "#bd3786"
             ],
             [
              0.5555555555555556,
              "#d8576b"
             ],
             [
              0.6666666666666666,
              "#ed7953"
             ],
             [
              0.7777777777777778,
              "#fb9f3a"
             ],
             [
              0.8888888888888888,
              "#fdca26"
             ],
             [
              1,
              "#f0f921"
             ]
            ],
            "type": "histogram2dcontour"
           }
          ],
          "mesh3d": [
           {
            "colorbar": {
             "outlinewidth": 0,
             "ticks": ""
            },
            "type": "mesh3d"
           }
          ],
          "parcoords": [
           {
            "line": {
             "colorbar": {
              "outlinewidth": 0,
              "ticks": ""
             }
            },
            "type": "parcoords"
           }
          ],
          "pie": [
           {
            "automargin": true,
            "type": "pie"
           }
          ],
          "scatter": [
           {
            "fillpattern": {
             "fillmode": "overlay",
             "size": 10,
             "solidity": 0.2
            },
            "type": "scatter"
           }
          ],
          "scatter3d": [
           {
            "line": {
             "colorbar": {
              "outlinewidth": 0,
              "ticks": ""
             }
            },
            "marker": {
             "colorbar": {
              "outlinewidth": 0,
              "ticks": ""
             }
            },
            "type": "scatter3d"
           }
          ],
          "scattercarpet": [
           {
            "marker": {
             "colorbar": {
              "outlinewidth": 0,
              "ticks": ""
             }
            },
            "type": "scattercarpet"
           }
          ],
          "scattergeo": [
           {
            "marker": {
             "colorbar": {
              "outlinewidth": 0,
              "ticks": ""
             }
            },
            "type": "scattergeo"
           }
          ],
          "scattergl": [
           {
            "marker": {
             "colorbar": {
              "outlinewidth": 0,
              "ticks": ""
             }
            },
            "type": "scattergl"
           }
          ],
          "scattermapbox": [
           {
            "marker": {
             "colorbar": {
              "outlinewidth": 0,
              "ticks": ""
             }
            },
            "type": "scattermapbox"
           }
          ],
          "scatterpolar": [
           {
            "marker": {
             "colorbar": {
              "outlinewidth": 0,
              "ticks": ""
             }
            },
            "type": "scatterpolar"
           }
          ],
          "scatterpolargl": [
           {
            "marker": {
             "colorbar": {
              "outlinewidth": 0,
              "ticks": ""
             }
            },
            "type": "scatterpolargl"
           }
          ],
          "scatterternary": [
           {
            "marker": {
             "colorbar": {
              "outlinewidth": 0,
              "ticks": ""
             }
            },
            "type": "scatterternary"
           }
          ],
          "surface": [
           {
            "colorbar": {
             "outlinewidth": 0,
             "ticks": ""
            },
            "colorscale": [
             [
              0,
              "#0d0887"
             ],
             [
              0.1111111111111111,
              "#46039f"
             ],
             [
              0.2222222222222222,
              "#7201a8"
             ],
             [
              0.3333333333333333,
              "#9c179e"
             ],
             [
              0.4444444444444444,
              "#bd3786"
             ],
             [
              0.5555555555555556,
              "#d8576b"
             ],
             [
              0.6666666666666666,
              "#ed7953"
             ],
             [
              0.7777777777777778,
              "#fb9f3a"
             ],
             [
              0.8888888888888888,
              "#fdca26"
             ],
             [
              1,
              "#f0f921"
             ]
            ],
            "type": "surface"
           }
          ],
          "table": [
           {
            "cells": {
             "fill": {
              "color": "#EBF0F8"
             },
             "line": {
              "color": "white"
             }
            },
            "header": {
             "fill": {
              "color": "#C8D4E3"
             },
             "line": {
              "color": "white"
             }
            },
            "type": "table"
           }
          ]
         },
         "layout": {
          "annotationdefaults": {
           "arrowcolor": "#2a3f5f",
           "arrowhead": 0,
           "arrowwidth": 1
          },
          "autotypenumbers": "strict",
          "coloraxis": {
           "colorbar": {
            "outlinewidth": 0,
            "ticks": ""
           }
          },
          "colorscale": {
           "diverging": [
            [
             0,
             "#8e0152"
            ],
            [
             0.1,
             "#c51b7d"
            ],
            [
             0.2,
             "#de77ae"
            ],
            [
             0.3,
             "#f1b6da"
            ],
            [
             0.4,
             "#fde0ef"
            ],
            [
             0.5,
             "#f7f7f7"
            ],
            [
             0.6,
             "#e6f5d0"
            ],
            [
             0.7,
             "#b8e186"
            ],
            [
             0.8,
             "#7fbc41"
            ],
            [
             0.9,
             "#4d9221"
            ],
            [
             1,
             "#276419"
            ]
           ],
           "sequential": [
            [
             0,
             "#0d0887"
            ],
            [
             0.1111111111111111,
             "#46039f"
            ],
            [
             0.2222222222222222,
             "#7201a8"
            ],
            [
             0.3333333333333333,
             "#9c179e"
            ],
            [
             0.4444444444444444,
             "#bd3786"
            ],
            [
             0.5555555555555556,
             "#d8576b"
            ],
            [
             0.6666666666666666,
             "#ed7953"
            ],
            [
             0.7777777777777778,
             "#fb9f3a"
            ],
            [
             0.8888888888888888,
             "#fdca26"
            ],
            [
             1,
             "#f0f921"
            ]
           ],
           "sequentialminus": [
            [
             0,
             "#0d0887"
            ],
            [
             0.1111111111111111,
             "#46039f"
            ],
            [
             0.2222222222222222,
             "#7201a8"
            ],
            [
             0.3333333333333333,
             "#9c179e"
            ],
            [
             0.4444444444444444,
             "#bd3786"
            ],
            [
             0.5555555555555556,
             "#d8576b"
            ],
            [
             0.6666666666666666,
             "#ed7953"
            ],
            [
             0.7777777777777778,
             "#fb9f3a"
            ],
            [
             0.8888888888888888,
             "#fdca26"
            ],
            [
             1,
             "#f0f921"
            ]
           ]
          },
          "colorway": [
           "#636efa",
           "#EF553B",
           "#00cc96",
           "#ab63fa",
           "#FFA15A",
           "#19d3f3",
           "#FF6692",
           "#B6E880",
           "#FF97FF",
           "#FECB52"
          ],
          "font": {
           "color": "#2a3f5f"
          },
          "geo": {
           "bgcolor": "white",
           "lakecolor": "white",
           "landcolor": "#E5ECF6",
           "showlakes": true,
           "showland": true,
           "subunitcolor": "white"
          },
          "hoverlabel": {
           "align": "left"
          },
          "hovermode": "closest",
          "mapbox": {
           "style": "light"
          },
          "paper_bgcolor": "white",
          "plot_bgcolor": "#E5ECF6",
          "polar": {
           "angularaxis": {
            "gridcolor": "white",
            "linecolor": "white",
            "ticks": ""
           },
           "bgcolor": "#E5ECF6",
           "radialaxis": {
            "gridcolor": "white",
            "linecolor": "white",
            "ticks": ""
           }
          },
          "scene": {
           "xaxis": {
            "backgroundcolor": "#E5ECF6",
            "gridcolor": "white",
            "gridwidth": 2,
            "linecolor": "white",
            "showbackground": true,
            "ticks": "",
            "zerolinecolor": "white"
           },
           "yaxis": {
            "backgroundcolor": "#E5ECF6",
            "gridcolor": "white",
            "gridwidth": 2,
            "linecolor": "white",
            "showbackground": true,
            "ticks": "",
            "zerolinecolor": "white"
           },
           "zaxis": {
            "backgroundcolor": "#E5ECF6",
            "gridcolor": "white",
            "gridwidth": 2,
            "linecolor": "white",
            "showbackground": true,
            "ticks": "",
            "zerolinecolor": "white"
           }
          },
          "shapedefaults": {
           "line": {
            "color": "#2a3f5f"
           }
          },
          "ternary": {
           "aaxis": {
            "gridcolor": "white",
            "linecolor": "white",
            "ticks": ""
           },
           "baxis": {
            "gridcolor": "white",
            "linecolor": "white",
            "ticks": ""
           },
           "bgcolor": "#E5ECF6",
           "caxis": {
            "gridcolor": "white",
            "linecolor": "white",
            "ticks": ""
           }
          },
          "title": {
           "x": 0.05
          },
          "xaxis": {
           "automargin": true,
           "gridcolor": "white",
           "linecolor": "white",
           "ticks": "",
           "title": {
            "standoff": 15
           },
           "zerolinecolor": "white",
           "zerolinewidth": 2
          },
          "yaxis": {
           "automargin": true,
           "gridcolor": "white",
           "linecolor": "white",
           "ticks": "",
           "title": {
            "standoff": 15
           },
           "zerolinecolor": "white",
           "zerolinewidth": 2
          }
         }
        },
        "title": {
         "text": "Cantidad de NaN por Columna"
        },
        "xaxis": {
         "anchor": "y",
         "domain": [
          0,
          1
         ],
         "tickangle": 90,
         "title": {
          "text": "Variables"
         }
        },
        "yaxis": {
         "anchor": "x",
         "domain": [
          0,
          1
         ],
         "title": {
          "text": "Cantidad de NaN"
         }
        }
       }
      }
     },
     "metadata": {},
     "output_type": "display_data"
    }
   ],
   "source": [
    "# Encuentra las columnas con NaN\n",
    "columnas_con_nan = df.columns[df.isna().any()].tolist()\n",
    "\n",
    "# Calcula la cantidad de NaN por columna\n",
    "nan_por_columna = df[columnas_con_nan].isna().sum()\n",
    "\n",
    "# Crea el gráfico de barras\n",
    "fig = px.bar(x=columnas_con_nan, y=nan_por_columna,\n",
    "             labels={'x': 'Variables', 'y': 'Cantidad de NaN'},\n",
    "             title='Cantidad de NaN por Columna')\n",
    "\n",
    "# Rotar las etiquetas en el eje x a vertical\n",
    "fig.update_xaxes(tickangle=90)"
   ]
  },
  {
   "cell_type": "code",
   "execution_count": 69,
   "metadata": {},
   "outputs": [
    {
     "data": {
      "text/plain": [
       "edad               87\n",
       "sexo               42\n",
       "Quercus             1\n",
       "Cyp.bulb            2\n",
       "Lotus.wrightii      1\n",
       "Fabacea             1\n",
       "SP34                1\n",
       "SPA33               1\n",
       "SPA55               2\n",
       "Bothriochloa.1      1\n",
       "time               87\n",
       "covey             129\n",
       "dist camino        98\n",
       "ppanual17          98\n",
       "tmedia17           98\n",
       "altitud            98\n",
       "lat                98\n",
       "lon                98\n",
       "hland              99\n",
       "gap                98\n",
       "dtype: int64"
      ]
     },
     "execution_count": 69,
     "metadata": {},
     "output_type": "execute_result"
    }
   ],
   "source": [
    "nan_por_columna"
   ]
  },
  {
   "cell_type": "markdown",
   "metadata": {},
   "source": [
    "### GAP"
   ]
  },
  {
   "cell_type": "code",
   "execution_count": 70,
   "metadata": {},
   "outputs": [
    {
     "data": {
      "text/html": [
       "<div>\n",
       "<style scoped>\n",
       "    .dataframe tbody tr th:only-of-type {\n",
       "        vertical-align: middle;\n",
       "    }\n",
       "\n",
       "    .dataframe tbody tr th {\n",
       "        vertical-align: top;\n",
       "    }\n",
       "\n",
       "    .dataframe thead th {\n",
       "        text-align: right;\n",
       "    }\n",
       "</style>\n",
       "<table border=\"1\" class=\"dataframe\">\n",
       "  <thead>\n",
       "    <tr style=\"text-align: right;\">\n",
       "      <th></th>\n",
       "      <th>gap</th>\n",
       "      <th>Frecuencia</th>\n",
       "    </tr>\n",
       "  </thead>\n",
       "  <tbody>\n",
       "    <tr>\n",
       "      <th>0</th>\n",
       "      <td>North American Warm Desert Bedrock Cliff and O...</td>\n",
       "      <td>1</td>\n",
       "    </tr>\n",
       "    <tr>\n",
       "      <th>1</th>\n",
       "      <td>Rocky Mountain Gambel Oak-Mixed Montane Shrubland</td>\n",
       "      <td>2</td>\n",
       "    </tr>\n",
       "    <tr>\n",
       "      <th>2</th>\n",
       "      <td>North American Warm Desert Wash</td>\n",
       "      <td>3</td>\n",
       "    </tr>\n",
       "    <tr>\n",
       "      <th>3</th>\n",
       "      <td>Chihuahuan Mixed Salt Desert Scrub</td>\n",
       "      <td>3</td>\n",
       "    </tr>\n",
       "    <tr>\n",
       "      <th>4</th>\n",
       "      <td>Southern Rocky Mountain Pinyon-Juniper Woodland</td>\n",
       "      <td>5</td>\n",
       "    </tr>\n",
       "    <tr>\n",
       "      <th>5</th>\n",
       "      <td>Chihuahuan Creosotebush, Mixed Desert and Thor...</td>\n",
       "      <td>7</td>\n",
       "    </tr>\n",
       "    <tr>\n",
       "      <th>6</th>\n",
       "      <td>Mogollon Chaparral</td>\n",
       "      <td>7</td>\n",
       "    </tr>\n",
       "    <tr>\n",
       "      <th>7</th>\n",
       "      <td>Madrean Juniper Savanna</td>\n",
       "      <td>8</td>\n",
       "    </tr>\n",
       "    <tr>\n",
       "      <th>8</th>\n",
       "      <td>Rocky Mountain Ponderosa Pine Woodland</td>\n",
       "      <td>12</td>\n",
       "    </tr>\n",
       "    <tr>\n",
       "      <th>9</th>\n",
       "      <td>Apacherian-Chihuahuan Mesquite Upland Scrub</td>\n",
       "      <td>18</td>\n",
       "    </tr>\n",
       "    <tr>\n",
       "      <th>10</th>\n",
       "      <td>Madrean Encinal</td>\n",
       "      <td>26</td>\n",
       "    </tr>\n",
       "    <tr>\n",
       "      <th>11</th>\n",
       "      <td>Colorado Plateau Pinyon-Juniper Woodland</td>\n",
       "      <td>26</td>\n",
       "    </tr>\n",
       "    <tr>\n",
       "      <th>12</th>\n",
       "      <td>Madrean Pinyon-Juniper Woodland</td>\n",
       "      <td>51</td>\n",
       "    </tr>\n",
       "    <tr>\n",
       "      <th>13</th>\n",
       "      <td>Apacherian-Chihuahuan Piedmont Semi-Desert Gra...</td>\n",
       "      <td>52</td>\n",
       "    </tr>\n",
       "    <tr>\n",
       "      <th>14</th>\n",
       "      <td>nan</td>\n",
       "      <td>98</td>\n",
       "    </tr>\n",
       "  </tbody>\n",
       "</table>\n",
       "</div>"
      ],
      "text/plain": [
       "                                                  gap  Frecuencia\n",
       "0   North American Warm Desert Bedrock Cliff and O...           1\n",
       "1   Rocky Mountain Gambel Oak-Mixed Montane Shrubland           2\n",
       "2                     North American Warm Desert Wash           3\n",
       "3                  Chihuahuan Mixed Salt Desert Scrub           3\n",
       "4     Southern Rocky Mountain Pinyon-Juniper Woodland           5\n",
       "5   Chihuahuan Creosotebush, Mixed Desert and Thor...           7\n",
       "6                                  Mogollon Chaparral           7\n",
       "7                             Madrean Juniper Savanna           8\n",
       "8              Rocky Mountain Ponderosa Pine Woodland          12\n",
       "9         Apacherian-Chihuahuan Mesquite Upland Scrub          18\n",
       "10                                    Madrean Encinal          26\n",
       "11           Colorado Plateau Pinyon-Juniper Woodland          26\n",
       "12                    Madrean Pinyon-Juniper Woodland          51\n",
       "13  Apacherian-Chihuahuan Piedmont Semi-Desert Gra...          52\n",
       "14                                                nan          98"
      ]
     },
     "execution_count": 70,
     "metadata": {},
     "output_type": "execute_result"
    }
   ],
   "source": [
    "frecuencia_gap = df['gap'].value_counts(dropna=False).sort_values(ascending=True)\n",
    "frecuencia_gap = frecuencia_gap.reset_index()  \n",
    "frecuencia_gap.columns = ['gap', 'Frecuencia'] \n",
    "frecuencia_gap['gap'] = frecuencia_gap['gap'].astype(str)\n",
    "frecuencia_gap"
   ]
  },
  {
   "cell_type": "code",
   "execution_count": 71,
   "metadata": {},
   "outputs": [
    {
     "data": {
      "application/vnd.plotly.v1+json": {
       "config": {
        "plotlyServerURL": "https://plot.ly"
       },
       "data": [
        {
         "alignmentgroup": "True",
         "hovertemplate": "Frecuencia=%{x}<br>Ubicación=%{y}<extra></extra>",
         "legendgroup": "",
         "marker": {
          "color": "#636efa",
          "pattern": {
           "shape": ""
          }
         },
         "name": "",
         "offsetgroup": "",
         "orientation": "h",
         "showlegend": false,
         "textposition": "auto",
         "type": "bar",
         "x": [
          1,
          2,
          3,
          3,
          5,
          7,
          7,
          8,
          12,
          18,
          26,
          26,
          51,
          52,
          98
         ],
         "xaxis": "x",
         "y": [
          "North American Warm Desert Bedrock Cliff and Outcrop",
          "Rocky Mountain Gambel Oak-Mixed Montane Shrubland",
          "North American Warm Desert Wash",
          "Chihuahuan Mixed Salt Desert Scrub",
          "Southern Rocky Mountain Pinyon-Juniper Woodland",
          "Chihuahuan Creosotebush, Mixed Desert and Thorn Scrub",
          "Mogollon Chaparral",
          "Madrean Juniper Savanna",
          "Rocky Mountain Ponderosa Pine Woodland",
          "Apacherian-Chihuahuan Mesquite Upland Scrub",
          "Madrean Encinal",
          "Colorado Plateau Pinyon-Juniper Woodland",
          "Madrean Pinyon-Juniper Woodland",
          "Apacherian-Chihuahuan Piedmont Semi-Desert Grassland and Steppe",
          "nan"
         ],
         "yaxis": "y"
        }
       ],
       "layout": {
        "barmode": "relative",
        "legend": {
         "tracegroupgap": 0
        },
        "template": {
         "data": {
          "bar": [
           {
            "error_x": {
             "color": "#2a3f5f"
            },
            "error_y": {
             "color": "#2a3f5f"
            },
            "marker": {
             "line": {
              "color": "#E5ECF6",
              "width": 0.5
             },
             "pattern": {
              "fillmode": "overlay",
              "size": 10,
              "solidity": 0.2
             }
            },
            "type": "bar"
           }
          ],
          "barpolar": [
           {
            "marker": {
             "line": {
              "color": "#E5ECF6",
              "width": 0.5
             },
             "pattern": {
              "fillmode": "overlay",
              "size": 10,
              "solidity": 0.2
             }
            },
            "type": "barpolar"
           }
          ],
          "carpet": [
           {
            "aaxis": {
             "endlinecolor": "#2a3f5f",
             "gridcolor": "white",
             "linecolor": "white",
             "minorgridcolor": "white",
             "startlinecolor": "#2a3f5f"
            },
            "baxis": {
             "endlinecolor": "#2a3f5f",
             "gridcolor": "white",
             "linecolor": "white",
             "minorgridcolor": "white",
             "startlinecolor": "#2a3f5f"
            },
            "type": "carpet"
           }
          ],
          "choropleth": [
           {
            "colorbar": {
             "outlinewidth": 0,
             "ticks": ""
            },
            "type": "choropleth"
           }
          ],
          "contour": [
           {
            "colorbar": {
             "outlinewidth": 0,
             "ticks": ""
            },
            "colorscale": [
             [
              0,
              "#0d0887"
             ],
             [
              0.1111111111111111,
              "#46039f"
             ],
             [
              0.2222222222222222,
              "#7201a8"
             ],
             [
              0.3333333333333333,
              "#9c179e"
             ],
             [
              0.4444444444444444,
              "#bd3786"
             ],
             [
              0.5555555555555556,
              "#d8576b"
             ],
             [
              0.6666666666666666,
              "#ed7953"
             ],
             [
              0.7777777777777778,
              "#fb9f3a"
             ],
             [
              0.8888888888888888,
              "#fdca26"
             ],
             [
              1,
              "#f0f921"
             ]
            ],
            "type": "contour"
           }
          ],
          "contourcarpet": [
           {
            "colorbar": {
             "outlinewidth": 0,
             "ticks": ""
            },
            "type": "contourcarpet"
           }
          ],
          "heatmap": [
           {
            "colorbar": {
             "outlinewidth": 0,
             "ticks": ""
            },
            "colorscale": [
             [
              0,
              "#0d0887"
             ],
             [
              0.1111111111111111,
              "#46039f"
             ],
             [
              0.2222222222222222,
              "#7201a8"
             ],
             [
              0.3333333333333333,
              "#9c179e"
             ],
             [
              0.4444444444444444,
              "#bd3786"
             ],
             [
              0.5555555555555556,
              "#d8576b"
             ],
             [
              0.6666666666666666,
              "#ed7953"
             ],
             [
              0.7777777777777778,
              "#fb9f3a"
             ],
             [
              0.8888888888888888,
              "#fdca26"
             ],
             [
              1,
              "#f0f921"
             ]
            ],
            "type": "heatmap"
           }
          ],
          "heatmapgl": [
           {
            "colorbar": {
             "outlinewidth": 0,
             "ticks": ""
            },
            "colorscale": [
             [
              0,
              "#0d0887"
             ],
             [
              0.1111111111111111,
              "#46039f"
             ],
             [
              0.2222222222222222,
              "#7201a8"
             ],
             [
              0.3333333333333333,
              "#9c179e"
             ],
             [
              0.4444444444444444,
              "#bd3786"
             ],
             [
              0.5555555555555556,
              "#d8576b"
             ],
             [
              0.6666666666666666,
              "#ed7953"
             ],
             [
              0.7777777777777778,
              "#fb9f3a"
             ],
             [
              0.8888888888888888,
              "#fdca26"
             ],
             [
              1,
              "#f0f921"
             ]
            ],
            "type": "heatmapgl"
           }
          ],
          "histogram": [
           {
            "marker": {
             "pattern": {
              "fillmode": "overlay",
              "size": 10,
              "solidity": 0.2
             }
            },
            "type": "histogram"
           }
          ],
          "histogram2d": [
           {
            "colorbar": {
             "outlinewidth": 0,
             "ticks": ""
            },
            "colorscale": [
             [
              0,
              "#0d0887"
             ],
             [
              0.1111111111111111,
              "#46039f"
             ],
             [
              0.2222222222222222,
              "#7201a8"
             ],
             [
              0.3333333333333333,
              "#9c179e"
             ],
             [
              0.4444444444444444,
              "#bd3786"
             ],
             [
              0.5555555555555556,
              "#d8576b"
             ],
             [
              0.6666666666666666,
              "#ed7953"
             ],
             [
              0.7777777777777778,
              "#fb9f3a"
             ],
             [
              0.8888888888888888,
              "#fdca26"
             ],
             [
              1,
              "#f0f921"
             ]
            ],
            "type": "histogram2d"
           }
          ],
          "histogram2dcontour": [
           {
            "colorbar": {
             "outlinewidth": 0,
             "ticks": ""
            },
            "colorscale": [
             [
              0,
              "#0d0887"
             ],
             [
              0.1111111111111111,
              "#46039f"
             ],
             [
              0.2222222222222222,
              "#7201a8"
             ],
             [
              0.3333333333333333,
              "#9c179e"
             ],
             [
              0.4444444444444444,
              "#bd3786"
             ],
             [
              0.5555555555555556,
              "#d8576b"
             ],
             [
              0.6666666666666666,
              "#ed7953"
             ],
             [
              0.7777777777777778,
              "#fb9f3a"
             ],
             [
              0.8888888888888888,
              "#fdca26"
             ],
             [
              1,
              "#f0f921"
             ]
            ],
            "type": "histogram2dcontour"
           }
          ],
          "mesh3d": [
           {
            "colorbar": {
             "outlinewidth": 0,
             "ticks": ""
            },
            "type": "mesh3d"
           }
          ],
          "parcoords": [
           {
            "line": {
             "colorbar": {
              "outlinewidth": 0,
              "ticks": ""
             }
            },
            "type": "parcoords"
           }
          ],
          "pie": [
           {
            "automargin": true,
            "type": "pie"
           }
          ],
          "scatter": [
           {
            "fillpattern": {
             "fillmode": "overlay",
             "size": 10,
             "solidity": 0.2
            },
            "type": "scatter"
           }
          ],
          "scatter3d": [
           {
            "line": {
             "colorbar": {
              "outlinewidth": 0,
              "ticks": ""
             }
            },
            "marker": {
             "colorbar": {
              "outlinewidth": 0,
              "ticks": ""
             }
            },
            "type": "scatter3d"
           }
          ],
          "scattercarpet": [
           {
            "marker": {
             "colorbar": {
              "outlinewidth": 0,
              "ticks": ""
             }
            },
            "type": "scattercarpet"
           }
          ],
          "scattergeo": [
           {
            "marker": {
             "colorbar": {
              "outlinewidth": 0,
              "ticks": ""
             }
            },
            "type": "scattergeo"
           }
          ],
          "scattergl": [
           {
            "marker": {
             "colorbar": {
              "outlinewidth": 0,
              "ticks": ""
             }
            },
            "type": "scattergl"
           }
          ],
          "scattermapbox": [
           {
            "marker": {
             "colorbar": {
              "outlinewidth": 0,
              "ticks": ""
             }
            },
            "type": "scattermapbox"
           }
          ],
          "scatterpolar": [
           {
            "marker": {
             "colorbar": {
              "outlinewidth": 0,
              "ticks": ""
             }
            },
            "type": "scatterpolar"
           }
          ],
          "scatterpolargl": [
           {
            "marker": {
             "colorbar": {
              "outlinewidth": 0,
              "ticks": ""
             }
            },
            "type": "scatterpolargl"
           }
          ],
          "scatterternary": [
           {
            "marker": {
             "colorbar": {
              "outlinewidth": 0,
              "ticks": ""
             }
            },
            "type": "scatterternary"
           }
          ],
          "surface": [
           {
            "colorbar": {
             "outlinewidth": 0,
             "ticks": ""
            },
            "colorscale": [
             [
              0,
              "#0d0887"
             ],
             [
              0.1111111111111111,
              "#46039f"
             ],
             [
              0.2222222222222222,
              "#7201a8"
             ],
             [
              0.3333333333333333,
              "#9c179e"
             ],
             [
              0.4444444444444444,
              "#bd3786"
             ],
             [
              0.5555555555555556,
              "#d8576b"
             ],
             [
              0.6666666666666666,
              "#ed7953"
             ],
             [
              0.7777777777777778,
              "#fb9f3a"
             ],
             [
              0.8888888888888888,
              "#fdca26"
             ],
             [
              1,
              "#f0f921"
             ]
            ],
            "type": "surface"
           }
          ],
          "table": [
           {
            "cells": {
             "fill": {
              "color": "#EBF0F8"
             },
             "line": {
              "color": "white"
             }
            },
            "header": {
             "fill": {
              "color": "#C8D4E3"
             },
             "line": {
              "color": "white"
             }
            },
            "type": "table"
           }
          ]
         },
         "layout": {
          "annotationdefaults": {
           "arrowcolor": "#2a3f5f",
           "arrowhead": 0,
           "arrowwidth": 1
          },
          "autotypenumbers": "strict",
          "coloraxis": {
           "colorbar": {
            "outlinewidth": 0,
            "ticks": ""
           }
          },
          "colorscale": {
           "diverging": [
            [
             0,
             "#8e0152"
            ],
            [
             0.1,
             "#c51b7d"
            ],
            [
             0.2,
             "#de77ae"
            ],
            [
             0.3,
             "#f1b6da"
            ],
            [
             0.4,
             "#fde0ef"
            ],
            [
             0.5,
             "#f7f7f7"
            ],
            [
             0.6,
             "#e6f5d0"
            ],
            [
             0.7,
             "#b8e186"
            ],
            [
             0.8,
             "#7fbc41"
            ],
            [
             0.9,
             "#4d9221"
            ],
            [
             1,
             "#276419"
            ]
           ],
           "sequential": [
            [
             0,
             "#0d0887"
            ],
            [
             0.1111111111111111,
             "#46039f"
            ],
            [
             0.2222222222222222,
             "#7201a8"
            ],
            [
             0.3333333333333333,
             "#9c179e"
            ],
            [
             0.4444444444444444,
             "#bd3786"
            ],
            [
             0.5555555555555556,
             "#d8576b"
            ],
            [
             0.6666666666666666,
             "#ed7953"
            ],
            [
             0.7777777777777778,
             "#fb9f3a"
            ],
            [
             0.8888888888888888,
             "#fdca26"
            ],
            [
             1,
             "#f0f921"
            ]
           ],
           "sequentialminus": [
            [
             0,
             "#0d0887"
            ],
            [
             0.1111111111111111,
             "#46039f"
            ],
            [
             0.2222222222222222,
             "#7201a8"
            ],
            [
             0.3333333333333333,
             "#9c179e"
            ],
            [
             0.4444444444444444,
             "#bd3786"
            ],
            [
             0.5555555555555556,
             "#d8576b"
            ],
            [
             0.6666666666666666,
             "#ed7953"
            ],
            [
             0.7777777777777778,
             "#fb9f3a"
            ],
            [
             0.8888888888888888,
             "#fdca26"
            ],
            [
             1,
             "#f0f921"
            ]
           ]
          },
          "colorway": [
           "#636efa",
           "#EF553B",
           "#00cc96",
           "#ab63fa",
           "#FFA15A",
           "#19d3f3",
           "#FF6692",
           "#B6E880",
           "#FF97FF",
           "#FECB52"
          ],
          "font": {
           "color": "#2a3f5f"
          },
          "geo": {
           "bgcolor": "white",
           "lakecolor": "white",
           "landcolor": "#E5ECF6",
           "showlakes": true,
           "showland": true,
           "subunitcolor": "white"
          },
          "hoverlabel": {
           "align": "left"
          },
          "hovermode": "closest",
          "mapbox": {
           "style": "light"
          },
          "paper_bgcolor": "white",
          "plot_bgcolor": "#E5ECF6",
          "polar": {
           "angularaxis": {
            "gridcolor": "white",
            "linecolor": "white",
            "ticks": ""
           },
           "bgcolor": "#E5ECF6",
           "radialaxis": {
            "gridcolor": "white",
            "linecolor": "white",
            "ticks": ""
           }
          },
          "scene": {
           "xaxis": {
            "backgroundcolor": "#E5ECF6",
            "gridcolor": "white",
            "gridwidth": 2,
            "linecolor": "white",
            "showbackground": true,
            "ticks": "",
            "zerolinecolor": "white"
           },
           "yaxis": {
            "backgroundcolor": "#E5ECF6",
            "gridcolor": "white",
            "gridwidth": 2,
            "linecolor": "white",
            "showbackground": true,
            "ticks": "",
            "zerolinecolor": "white"
           },
           "zaxis": {
            "backgroundcolor": "#E5ECF6",
            "gridcolor": "white",
            "gridwidth": 2,
            "linecolor": "white",
            "showbackground": true,
            "ticks": "",
            "zerolinecolor": "white"
           }
          },
          "shapedefaults": {
           "line": {
            "color": "#2a3f5f"
           }
          },
          "ternary": {
           "aaxis": {
            "gridcolor": "white",
            "linecolor": "white",
            "ticks": ""
           },
           "baxis": {
            "gridcolor": "white",
            "linecolor": "white",
            "ticks": ""
           },
           "bgcolor": "#E5ECF6",
           "caxis": {
            "gridcolor": "white",
            "linecolor": "white",
            "ticks": ""
           }
          },
          "title": {
           "x": 0.05
          },
          "xaxis": {
           "automargin": true,
           "gridcolor": "white",
           "linecolor": "white",
           "ticks": "",
           "title": {
            "standoff": 15
           },
           "zerolinecolor": "white",
           "zerolinewidth": 2
          },
          "yaxis": {
           "automargin": true,
           "gridcolor": "white",
           "linecolor": "white",
           "ticks": "",
           "title": {
            "standoff": 15
           },
           "zerolinecolor": "white",
           "zerolinewidth": 2
          }
         }
        },
        "title": {
         "text": "Frecuencia de gap"
        },
        "xaxis": {
         "anchor": "y",
         "domain": [
          0,
          1
         ],
         "title": {
          "text": "Frecuencia"
         }
        },
        "yaxis": {
         "anchor": "x",
         "domain": [
          0,
          1
         ],
         "title": {
          "text": "Ubicación"
         }
        }
       }
      }
     },
     "metadata": {},
     "output_type": "display_data"
    }
   ],
   "source": [
    "fig = px.bar(frecuencia_gap, x='Frecuencia', y='gap', orientation='h',\n",
    "             labels={'gap': 'Ubicación', 'Frecuencia': 'Frecuencia'},\n",
    "             title='Frecuencia de gap')\n",
    "\n",
    "fig.show()"
   ]
  },
  {
   "cell_type": "markdown",
   "metadata": {},
   "source": [
    "Se decidió omitir la variable gap ya que no la consideramos de relevancia para el análisis."
   ]
  },
  {
   "cell_type": "code",
   "execution_count": 72,
   "metadata": {},
   "outputs": [],
   "source": [
    "df.drop(columns=['gap'], inplace=True)"
   ]
  },
  {
   "cell_type": "code",
   "execution_count": 73,
   "metadata": {},
   "outputs": [
    {
     "data": {
      "text/html": [
       "<div>\n",
       "<style scoped>\n",
       "    .dataframe tbody tr th:only-of-type {\n",
       "        vertical-align: middle;\n",
       "    }\n",
       "\n",
       "    .dataframe tbody tr th {\n",
       "        vertical-align: top;\n",
       "    }\n",
       "\n",
       "    .dataframe thead th {\n",
       "        text-align: right;\n",
       "    }\n",
       "</style>\n",
       "<table border=\"1\" class=\"dataframe\">\n",
       "  <thead>\n",
       "    <tr style=\"text-align: right;\">\n",
       "      <th></th>\n",
       "      <th>id</th>\n",
       "      <th>edad</th>\n",
       "      <th>sexo</th>\n",
       "      <th>estado</th>\n",
       "      <th>peso total</th>\n",
       "      <th>Oxalis</th>\n",
       "      <th>Quercus</th>\n",
       "      <th>Cyp.bulb</th>\n",
       "      <th>Phaseolus</th>\n",
       "      <th>Tephoria</th>\n",
       "      <th>...</th>\n",
       "      <th>time</th>\n",
       "      <th>covey</th>\n",
       "      <th>dist camino</th>\n",
       "      <th>ppanual17</th>\n",
       "      <th>tmedia17</th>\n",
       "      <th>altitud</th>\n",
       "      <th>lat</th>\n",
       "      <th>lon</th>\n",
       "      <th>hcrop</th>\n",
       "      <th>hland</th>\n",
       "    </tr>\n",
       "  </thead>\n",
       "  <tbody>\n",
       "    <tr>\n",
       "      <th>0</th>\n",
       "      <td>2014-104</td>\n",
       "      <td>J</td>\n",
       "      <td>Female</td>\n",
       "      <td>NM</td>\n",
       "      <td>9.7584</td>\n",
       "      <td>9.7584</td>\n",
       "      <td>0.0</td>\n",
       "      <td>0.000</td>\n",
       "      <td>0.0000</td>\n",
       "      <td>0.0000</td>\n",
       "      <td>...</td>\n",
       "      <td>14:20:00</td>\n",
       "      <td>6.0</td>\n",
       "      <td>251.86</td>\n",
       "      <td>462.0</td>\n",
       "      <td>7.054167</td>\n",
       "      <td>2518.0</td>\n",
       "      <td>34.037969</td>\n",
       "      <td>-108.963777</td>\n",
       "      <td>0.000000</td>\n",
       "      <td>0.798600</td>\n",
       "    </tr>\n",
       "    <tr>\n",
       "      <th>1</th>\n",
       "      <td>2014-105</td>\n",
       "      <td>J</td>\n",
       "      <td>Male</td>\n",
       "      <td>NM</td>\n",
       "      <td>3.9632</td>\n",
       "      <td>3.9632</td>\n",
       "      <td>0.0</td>\n",
       "      <td>0.000</td>\n",
       "      <td>0.0000</td>\n",
       "      <td>0.0000</td>\n",
       "      <td>...</td>\n",
       "      <td>14:20:00</td>\n",
       "      <td>6.0</td>\n",
       "      <td>251.86</td>\n",
       "      <td>462.0</td>\n",
       "      <td>7.054167</td>\n",
       "      <td>2518.0</td>\n",
       "      <td>34.037969</td>\n",
       "      <td>-108.963777</td>\n",
       "      <td>0.000000</td>\n",
       "      <td>0.798600</td>\n",
       "    </tr>\n",
       "    <tr>\n",
       "      <th>2</th>\n",
       "      <td>2016-133</td>\n",
       "      <td>A</td>\n",
       "      <td>Female</td>\n",
       "      <td>AZ</td>\n",
       "      <td>5.4562</td>\n",
       "      <td>3.8238</td>\n",
       "      <td>0.0</td>\n",
       "      <td>0.000</td>\n",
       "      <td>0.6148</td>\n",
       "      <td>0.0726</td>\n",
       "      <td>...</td>\n",
       "      <td>17:00:00</td>\n",
       "      <td>10.0</td>\n",
       "      <td>574.06</td>\n",
       "      <td>515.0</td>\n",
       "      <td>15.954167</td>\n",
       "      <td>1527.0</td>\n",
       "      <td>31.375725</td>\n",
       "      <td>-110.530491</td>\n",
       "      <td>0.785803</td>\n",
       "      <td>1.245916</td>\n",
       "    </tr>\n",
       "    <tr>\n",
       "      <th>3</th>\n",
       "      <td>2014-28</td>\n",
       "      <td>J</td>\n",
       "      <td>Female</td>\n",
       "      <td>NM</td>\n",
       "      <td>4.4976</td>\n",
       "      <td>3.7076</td>\n",
       "      <td>0.0</td>\n",
       "      <td>0.000</td>\n",
       "      <td>0.0000</td>\n",
       "      <td>0.0000</td>\n",
       "      <td>...</td>\n",
       "      <td>16:10:00</td>\n",
       "      <td>8.0</td>\n",
       "      <td>23.07</td>\n",
       "      <td>385.0</td>\n",
       "      <td>10.979167</td>\n",
       "      <td>1952.0</td>\n",
       "      <td>33.176791</td>\n",
       "      <td>-107.735593</td>\n",
       "      <td>0.464732</td>\n",
       "      <td>0.764466</td>\n",
       "    </tr>\n",
       "    <tr>\n",
       "      <th>4</th>\n",
       "      <td>2016-132</td>\n",
       "      <td>J</td>\n",
       "      <td>Male</td>\n",
       "      <td>AZ</td>\n",
       "      <td>5.4630</td>\n",
       "      <td>2.2011</td>\n",
       "      <td>0.0</td>\n",
       "      <td>0.778</td>\n",
       "      <td>0.3908</td>\n",
       "      <td>0.0000</td>\n",
       "      <td>...</td>\n",
       "      <td>16:00:00</td>\n",
       "      <td>8.0</td>\n",
       "      <td>236.76</td>\n",
       "      <td>521.0</td>\n",
       "      <td>16.133333</td>\n",
       "      <td>1507.0</td>\n",
       "      <td>31.353053</td>\n",
       "      <td>-110.531060</td>\n",
       "      <td>1.680150</td>\n",
       "      <td>1.541562</td>\n",
       "    </tr>\n",
       "  </tbody>\n",
       "</table>\n",
       "<p>5 rows × 145 columns</p>\n",
       "</div>"
      ],
      "text/plain": [
       "         id edad    sexo estado  peso total  Oxalis  Quercus  Cyp.bulb  \\\n",
       "0  2014-104    J  Female     NM      9.7584  9.7584      0.0     0.000   \n",
       "1  2014-105    J    Male     NM      3.9632  3.9632      0.0     0.000   \n",
       "2  2016-133    A  Female     AZ      5.4562  3.8238      0.0     0.000   \n",
       "3   2014-28    J  Female     NM      4.4976  3.7076      0.0     0.000   \n",
       "4  2016-132    J    Male     AZ      5.4630  2.2011      0.0     0.778   \n",
       "\n",
       "   Phaseolus  Tephoria  ...      time  covey  dist camino  ppanual17  \\\n",
       "0     0.0000    0.0000  ...  14:20:00    6.0       251.86      462.0   \n",
       "1     0.0000    0.0000  ...  14:20:00    6.0       251.86      462.0   \n",
       "2     0.6148    0.0726  ...  17:00:00   10.0       574.06      515.0   \n",
       "3     0.0000    0.0000  ...  16:10:00    8.0        23.07      385.0   \n",
       "4     0.3908    0.0000  ...  16:00:00    8.0       236.76      521.0   \n",
       "\n",
       "    tmedia17  altitud        lat         lon     hcrop     hland  \n",
       "0   7.054167   2518.0  34.037969 -108.963777  0.000000  0.798600  \n",
       "1   7.054167   2518.0  34.037969 -108.963777  0.000000  0.798600  \n",
       "2  15.954167   1527.0  31.375725 -110.530491  0.785803  1.245916  \n",
       "3  10.979167   1952.0  33.176791 -107.735593  0.464732  0.764466  \n",
       "4  16.133333   1507.0  31.353053 -110.531060  1.680150  1.541562  \n",
       "\n",
       "[5 rows x 145 columns]"
      ]
     },
     "execution_count": 73,
     "metadata": {},
     "output_type": "execute_result"
    }
   ],
   "source": [
    "df.head()"
   ]
  },
  {
   "cell_type": "code",
   "execution_count": 74,
   "metadata": {},
   "outputs": [
    {
     "data": {
      "text/html": [
       "<div>\n",
       "<style scoped>\n",
       "    .dataframe tbody tr th:only-of-type {\n",
       "        vertical-align: middle;\n",
       "    }\n",
       "\n",
       "    .dataframe tbody tr th {\n",
       "        vertical-align: top;\n",
       "    }\n",
       "\n",
       "    .dataframe thead th {\n",
       "        text-align: right;\n",
       "    }\n",
       "</style>\n",
       "<table border=\"1\" class=\"dataframe\">\n",
       "  <thead>\n",
       "    <tr style=\"text-align: right;\">\n",
       "      <th></th>\n",
       "      <th>peso total</th>\n",
       "      <th>covey</th>\n",
       "      <th>dist camino</th>\n",
       "      <th>ppanual17</th>\n",
       "      <th>tmedia17</th>\n",
       "      <th>altitud</th>\n",
       "      <th>lat</th>\n",
       "      <th>lon</th>\n",
       "      <th>hcrop</th>\n",
       "      <th>hland</th>\n",
       "    </tr>\n",
       "  </thead>\n",
       "  <tbody>\n",
       "    <tr>\n",
       "      <th>count</th>\n",
       "      <td>319.000000</td>\n",
       "      <td>190.000000</td>\n",
       "      <td>221.000000</td>\n",
       "      <td>221.000000</td>\n",
       "      <td>221.000000</td>\n",
       "      <td>221.000000</td>\n",
       "      <td>221.000000</td>\n",
       "      <td>221.000000</td>\n",
       "      <td>319.000000</td>\n",
       "      <td>220.000000</td>\n",
       "    </tr>\n",
       "    <tr>\n",
       "      <th>mean</th>\n",
       "      <td>2.084231</td>\n",
       "      <td>9.178947</td>\n",
       "      <td>207.466742</td>\n",
       "      <td>436.755656</td>\n",
       "      <td>13.860351</td>\n",
       "      <td>1709.475113</td>\n",
       "      <td>32.221751</td>\n",
       "      <td>-108.935298</td>\n",
       "      <td>0.645314</td>\n",
       "      <td>1.044265</td>\n",
       "    </tr>\n",
       "    <tr>\n",
       "      <th>std</th>\n",
       "      <td>1.718818</td>\n",
       "      <td>3.779586</td>\n",
       "      <td>178.331358</td>\n",
       "      <td>78.965781</td>\n",
       "      <td>2.093009</td>\n",
       "      <td>224.818989</td>\n",
       "      <td>0.815692</td>\n",
       "      <td>1.534481</td>\n",
       "      <td>0.528932</td>\n",
       "      <td>0.360545</td>\n",
       "    </tr>\n",
       "    <tr>\n",
       "      <th>min</th>\n",
       "      <td>0.000000</td>\n",
       "      <td>1.000000</td>\n",
       "      <td>6.400000</td>\n",
       "      <td>235.000000</td>\n",
       "      <td>7.054167</td>\n",
       "      <td>1206.000000</td>\n",
       "      <td>31.343850</td>\n",
       "      <td>-111.072099</td>\n",
       "      <td>0.000000</td>\n",
       "      <td>0.222691</td>\n",
       "    </tr>\n",
       "    <tr>\n",
       "      <th>25%</th>\n",
       "      <td>0.704350</td>\n",
       "      <td>6.000000</td>\n",
       "      <td>81.820000</td>\n",
       "      <td>376.000000</td>\n",
       "      <td>12.379167</td>\n",
       "      <td>1567.000000</td>\n",
       "      <td>31.479233</td>\n",
       "      <td>-110.585248</td>\n",
       "      <td>0.181204</td>\n",
       "      <td>0.783493</td>\n",
       "    </tr>\n",
       "    <tr>\n",
       "      <th>50%</th>\n",
       "      <td>1.776000</td>\n",
       "      <td>10.000000</td>\n",
       "      <td>171.920000</td>\n",
       "      <td>422.000000</td>\n",
       "      <td>14.354167</td>\n",
       "      <td>1658.000000</td>\n",
       "      <td>31.791366</td>\n",
       "      <td>-108.940734</td>\n",
       "      <td>0.579030</td>\n",
       "      <td>1.057318</td>\n",
       "    </tr>\n",
       "    <tr>\n",
       "      <th>75%</th>\n",
       "      <td>3.001150</td>\n",
       "      <td>12.000000</td>\n",
       "      <td>272.860000</td>\n",
       "      <td>518.000000</td>\n",
       "      <td>15.537500</td>\n",
       "      <td>1901.000000</td>\n",
       "      <td>32.894714</td>\n",
       "      <td>-107.723281</td>\n",
       "      <td>0.963353</td>\n",
       "      <td>1.362937</td>\n",
       "    </tr>\n",
       "    <tr>\n",
       "      <th>max</th>\n",
       "      <td>9.758400</td>\n",
       "      <td>20.000000</td>\n",
       "      <td>774.840000</td>\n",
       "      <td>620.000000</td>\n",
       "      <td>17.312500</td>\n",
       "      <td>2518.000000</td>\n",
       "      <td>34.037969</td>\n",
       "      <td>-105.354701</td>\n",
       "      <td>2.318525</td>\n",
       "      <td>1.796301</td>\n",
       "    </tr>\n",
       "  </tbody>\n",
       "</table>\n",
       "</div>"
      ],
      "text/plain": [
       "       peso total       covey  dist camino   ppanual17    tmedia17  \\\n",
       "count  319.000000  190.000000   221.000000  221.000000  221.000000   \n",
       "mean     2.084231    9.178947   207.466742  436.755656   13.860351   \n",
       "std      1.718818    3.779586   178.331358   78.965781    2.093009   \n",
       "min      0.000000    1.000000     6.400000  235.000000    7.054167   \n",
       "25%      0.704350    6.000000    81.820000  376.000000   12.379167   \n",
       "50%      1.776000   10.000000   171.920000  422.000000   14.354167   \n",
       "75%      3.001150   12.000000   272.860000  518.000000   15.537500   \n",
       "max      9.758400   20.000000   774.840000  620.000000   17.312500   \n",
       "\n",
       "           altitud         lat         lon       hcrop       hland  \n",
       "count   221.000000  221.000000  221.000000  319.000000  220.000000  \n",
       "mean   1709.475113   32.221751 -108.935298    0.645314    1.044265  \n",
       "std     224.818989    0.815692    1.534481    0.528932    0.360545  \n",
       "min    1206.000000   31.343850 -111.072099    0.000000    0.222691  \n",
       "25%    1567.000000   31.479233 -110.585248    0.181204    0.783493  \n",
       "50%    1658.000000   31.791366 -108.940734    0.579030    1.057318  \n",
       "75%    1901.000000   32.894714 -107.723281    0.963353    1.362937  \n",
       "max    2518.000000   34.037969 -105.354701    2.318525    1.796301  "
      ]
     },
     "execution_count": 74,
     "metadata": {},
     "output_type": "execute_result"
    }
   ],
   "source": [
    "df[var_name].describe()"
   ]
  },
  {
   "cell_type": "code",
   "execution_count": 75,
   "metadata": {},
   "outputs": [
    {
     "data": {
      "text/html": [
       "<div>\n",
       "<style scoped>\n",
       "    .dataframe tbody tr th:only-of-type {\n",
       "        vertical-align: middle;\n",
       "    }\n",
       "\n",
       "    .dataframe tbody tr th {\n",
       "        vertical-align: top;\n",
       "    }\n",
       "\n",
       "    .dataframe thead th {\n",
       "        text-align: right;\n",
       "    }\n",
       "</style>\n",
       "<table border=\"1\" class=\"dataframe\">\n",
       "  <thead>\n",
       "    <tr style=\"text-align: right;\">\n",
       "      <th></th>\n",
       "      <th>id</th>\n",
       "      <th>edad</th>\n",
       "      <th>sexo</th>\n",
       "      <th>estado</th>\n",
       "      <th>peso total</th>\n",
       "      <th>time</th>\n",
       "      <th>covey</th>\n",
       "      <th>dist camino</th>\n",
       "      <th>ppanual17</th>\n",
       "      <th>tmedia17</th>\n",
       "      <th>altitud</th>\n",
       "      <th>lat</th>\n",
       "      <th>lon</th>\n",
       "      <th>hcrop</th>\n",
       "      <th>hland</th>\n",
       "    </tr>\n",
       "  </thead>\n",
       "  <tbody>\n",
       "    <tr>\n",
       "      <th>0</th>\n",
       "      <td>2014-104</td>\n",
       "      <td>J</td>\n",
       "      <td>Female</td>\n",
       "      <td>NM</td>\n",
       "      <td>9.7584</td>\n",
       "      <td>14:20:00</td>\n",
       "      <td>6.0</td>\n",
       "      <td>251.86</td>\n",
       "      <td>462.0</td>\n",
       "      <td>7.054167</td>\n",
       "      <td>2518.0</td>\n",
       "      <td>34.037969</td>\n",
       "      <td>-108.963777</td>\n",
       "      <td>0.000000</td>\n",
       "      <td>0.798600</td>\n",
       "    </tr>\n",
       "    <tr>\n",
       "      <th>1</th>\n",
       "      <td>2014-105</td>\n",
       "      <td>J</td>\n",
       "      <td>Male</td>\n",
       "      <td>NM</td>\n",
       "      <td>3.9632</td>\n",
       "      <td>14:20:00</td>\n",
       "      <td>6.0</td>\n",
       "      <td>251.86</td>\n",
       "      <td>462.0</td>\n",
       "      <td>7.054167</td>\n",
       "      <td>2518.0</td>\n",
       "      <td>34.037969</td>\n",
       "      <td>-108.963777</td>\n",
       "      <td>0.000000</td>\n",
       "      <td>0.798600</td>\n",
       "    </tr>\n",
       "    <tr>\n",
       "      <th>2</th>\n",
       "      <td>2016-133</td>\n",
       "      <td>A</td>\n",
       "      <td>Female</td>\n",
       "      <td>AZ</td>\n",
       "      <td>5.4562</td>\n",
       "      <td>17:00:00</td>\n",
       "      <td>10.0</td>\n",
       "      <td>574.06</td>\n",
       "      <td>515.0</td>\n",
       "      <td>15.954167</td>\n",
       "      <td>1527.0</td>\n",
       "      <td>31.375725</td>\n",
       "      <td>-110.530491</td>\n",
       "      <td>0.785803</td>\n",
       "      <td>1.245916</td>\n",
       "    </tr>\n",
       "    <tr>\n",
       "      <th>3</th>\n",
       "      <td>2014-28</td>\n",
       "      <td>J</td>\n",
       "      <td>Female</td>\n",
       "      <td>NM</td>\n",
       "      <td>4.4976</td>\n",
       "      <td>16:10:00</td>\n",
       "      <td>8.0</td>\n",
       "      <td>23.07</td>\n",
       "      <td>385.0</td>\n",
       "      <td>10.979167</td>\n",
       "      <td>1952.0</td>\n",
       "      <td>33.176791</td>\n",
       "      <td>-107.735593</td>\n",
       "      <td>0.464732</td>\n",
       "      <td>0.764466</td>\n",
       "    </tr>\n",
       "    <tr>\n",
       "      <th>4</th>\n",
       "      <td>2016-132</td>\n",
       "      <td>J</td>\n",
       "      <td>Male</td>\n",
       "      <td>AZ</td>\n",
       "      <td>5.4630</td>\n",
       "      <td>16:00:00</td>\n",
       "      <td>8.0</td>\n",
       "      <td>236.76</td>\n",
       "      <td>521.0</td>\n",
       "      <td>16.133333</td>\n",
       "      <td>1507.0</td>\n",
       "      <td>31.353053</td>\n",
       "      <td>-110.531060</td>\n",
       "      <td>1.680150</td>\n",
       "      <td>1.541562</td>\n",
       "    </tr>\n",
       "    <tr>\n",
       "      <th>...</th>\n",
       "      <td>...</td>\n",
       "      <td>...</td>\n",
       "      <td>...</td>\n",
       "      <td>...</td>\n",
       "      <td>...</td>\n",
       "      <td>...</td>\n",
       "      <td>...</td>\n",
       "      <td>...</td>\n",
       "      <td>...</td>\n",
       "      <td>...</td>\n",
       "      <td>...</td>\n",
       "      <td>...</td>\n",
       "      <td>...</td>\n",
       "      <td>...</td>\n",
       "      <td>...</td>\n",
       "    </tr>\n",
       "    <tr>\n",
       "      <th>314</th>\n",
       "      <td>2015-59</td>\n",
       "      <td>A</td>\n",
       "      <td>Female</td>\n",
       "      <td>NM</td>\n",
       "      <td>0.3501</td>\n",
       "      <td>13:00:00</td>\n",
       "      <td>12.0</td>\n",
       "      <td>86.99</td>\n",
       "      <td>315.0</td>\n",
       "      <td>14.458333</td>\n",
       "      <td>1543.0</td>\n",
       "      <td>32.590956</td>\n",
       "      <td>-107.920563</td>\n",
       "      <td>0.112925</td>\n",
       "      <td>1.628812</td>\n",
       "    </tr>\n",
       "    <tr>\n",
       "      <th>315</th>\n",
       "      <td>2015-6</td>\n",
       "      <td>J</td>\n",
       "      <td>Female</td>\n",
       "      <td>NM</td>\n",
       "      <td>0.1977</td>\n",
       "      <td>12:30:00</td>\n",
       "      <td>3.0</td>\n",
       "      <td>127.25</td>\n",
       "      <td>324.0</td>\n",
       "      <td>11.175000</td>\n",
       "      <td>2023.0</td>\n",
       "      <td>33.688852</td>\n",
       "      <td>-107.330940</td>\n",
       "      <td>0.000000</td>\n",
       "      <td>1.796301</td>\n",
       "    </tr>\n",
       "    <tr>\n",
       "      <th>316</th>\n",
       "      <td>2015-60</td>\n",
       "      <td>J</td>\n",
       "      <td>Female</td>\n",
       "      <td>NM</td>\n",
       "      <td>2.6084</td>\n",
       "      <td>13:00:00</td>\n",
       "      <td>12.0</td>\n",
       "      <td>86.99</td>\n",
       "      <td>315.0</td>\n",
       "      <td>14.458333</td>\n",
       "      <td>1543.0</td>\n",
       "      <td>32.590956</td>\n",
       "      <td>-107.920563</td>\n",
       "      <td>0.065394</td>\n",
       "      <td>1.628812</td>\n",
       "    </tr>\n",
       "    <tr>\n",
       "      <th>317</th>\n",
       "      <td>2015-61</td>\n",
       "      <td>A</td>\n",
       "      <td>Male</td>\n",
       "      <td>NM</td>\n",
       "      <td>7.3265</td>\n",
       "      <td>14:30:00</td>\n",
       "      <td>8.0</td>\n",
       "      <td>763.38</td>\n",
       "      <td>332.0</td>\n",
       "      <td>14.225000</td>\n",
       "      <td>1560.0</td>\n",
       "      <td>32.592245</td>\n",
       "      <td>-107.930243</td>\n",
       "      <td>0.000000</td>\n",
       "      <td>0.761439</td>\n",
       "    </tr>\n",
       "    <tr>\n",
       "      <th>318</th>\n",
       "      <td>2015-63</td>\n",
       "      <td>J</td>\n",
       "      <td>Female</td>\n",
       "      <td>NM</td>\n",
       "      <td>5.9750</td>\n",
       "      <td>14:30:00</td>\n",
       "      <td>8.0</td>\n",
       "      <td>763.38</td>\n",
       "      <td>332.0</td>\n",
       "      <td>14.225000</td>\n",
       "      <td>1560.0</td>\n",
       "      <td>32.592245</td>\n",
       "      <td>-107.930243</td>\n",
       "      <td>0.116640</td>\n",
       "      <td>0.761439</td>\n",
       "    </tr>\n",
       "  </tbody>\n",
       "</table>\n",
       "<p>319 rows × 15 columns</p>\n",
       "</div>"
      ],
      "text/plain": [
       "           id edad    sexo estado  peso total      time  covey  dist camino  \\\n",
       "0    2014-104    J  Female     NM      9.7584  14:20:00    6.0       251.86   \n",
       "1    2014-105    J    Male     NM      3.9632  14:20:00    6.0       251.86   \n",
       "2    2016-133    A  Female     AZ      5.4562  17:00:00   10.0       574.06   \n",
       "3     2014-28    J  Female     NM      4.4976  16:10:00    8.0        23.07   \n",
       "4    2016-132    J    Male     AZ      5.4630  16:00:00    8.0       236.76   \n",
       "..        ...  ...     ...    ...         ...       ...    ...          ...   \n",
       "314   2015-59    A  Female     NM      0.3501  13:00:00   12.0        86.99   \n",
       "315    2015-6    J  Female     NM      0.1977  12:30:00    3.0       127.25   \n",
       "316   2015-60    J  Female     NM      2.6084  13:00:00   12.0        86.99   \n",
       "317   2015-61    A    Male     NM      7.3265  14:30:00    8.0       763.38   \n",
       "318   2015-63    J  Female     NM      5.9750  14:30:00    8.0       763.38   \n",
       "\n",
       "     ppanual17   tmedia17  altitud        lat         lon     hcrop     hland  \n",
       "0        462.0   7.054167   2518.0  34.037969 -108.963777  0.000000  0.798600  \n",
       "1        462.0   7.054167   2518.0  34.037969 -108.963777  0.000000  0.798600  \n",
       "2        515.0  15.954167   1527.0  31.375725 -110.530491  0.785803  1.245916  \n",
       "3        385.0  10.979167   1952.0  33.176791 -107.735593  0.464732  0.764466  \n",
       "4        521.0  16.133333   1507.0  31.353053 -110.531060  1.680150  1.541562  \n",
       "..         ...        ...      ...        ...         ...       ...       ...  \n",
       "314      315.0  14.458333   1543.0  32.590956 -107.920563  0.112925  1.628812  \n",
       "315      324.0  11.175000   2023.0  33.688852 -107.330940  0.000000  1.796301  \n",
       "316      315.0  14.458333   1543.0  32.590956 -107.920563  0.065394  1.628812  \n",
       "317      332.0  14.225000   1560.0  32.592245 -107.930243  0.000000  0.761439  \n",
       "318      332.0  14.225000   1560.0  32.592245 -107.930243  0.116640  0.761439  \n",
       "\n",
       "[319 rows x 15 columns]"
      ]
     },
     "execution_count": 75,
     "metadata": {},
     "output_type": "execute_result"
    }
   ],
   "source": [
    "df[var_name]"
   ]
  },
  {
   "cell_type": "code",
   "execution_count": 76,
   "metadata": {},
   "outputs": [
    {
     "name": "stderr",
     "output_type": "stream",
     "text": [
      "C:\\Users\\EstephaniaPivacAlcar\\AppData\\Local\\Temp\\ipykernel_10256\\85884551.py:1: FutureWarning:\n",
      "\n",
      "A value is trying to be set on a copy of a DataFrame or Series through chained assignment using an inplace method.\n",
      "The behavior will change in pandas 3.0. This inplace method will never work because the intermediate object on which we are setting values always behaves as a copy.\n",
      "\n",
      "For example, when doing 'df[col].method(value, inplace=True)', try using 'df.method({col: value}, inplace=True)' or df[col] = df[col].method(value) instead, to perform the operation inplace on the original object.\n",
      "\n",
      "\n",
      "\n"
     ]
    },
    {
     "data": {
      "application/vnd.plotly.v1+json": {
       "config": {
        "plotlyServerURL": "https://plot.ly"
       },
       "data": [
        {
         "alignmentgroup": "True",
         "hovertemplate": "Variables=%{x}<br>Cantidad de NaN=%{y}<extra></extra>",
         "legendgroup": "",
         "marker": {
          "color": "#636efa",
          "pattern": {
           "shape": ""
          }
         },
         "name": "",
         "offsetgroup": "",
         "orientation": "v",
         "showlegend": false,
         "textposition": "auto",
         "type": "bar",
         "x": [
          "sexo",
          "Quercus",
          "Cyp.bulb",
          "Lotus.wrightii",
          "Fabacea",
          "SP34",
          "SPA33",
          "SPA55",
          "Bothriochloa.1",
          "time",
          "covey",
          "dist camino",
          "ppanual17",
          "tmedia17",
          "altitud",
          "lat",
          "lon",
          "hland"
         ],
         "xaxis": "x",
         "y": [
          42,
          1,
          2,
          1,
          1,
          1,
          1,
          2,
          1,
          87,
          129,
          98,
          98,
          98,
          98,
          98,
          98,
          99
         ],
         "yaxis": "y"
        }
       ],
       "layout": {
        "barmode": "relative",
        "legend": {
         "tracegroupgap": 0
        },
        "template": {
         "data": {
          "bar": [
           {
            "error_x": {
             "color": "#2a3f5f"
            },
            "error_y": {
             "color": "#2a3f5f"
            },
            "marker": {
             "line": {
              "color": "#E5ECF6",
              "width": 0.5
             },
             "pattern": {
              "fillmode": "overlay",
              "size": 10,
              "solidity": 0.2
             }
            },
            "type": "bar"
           }
          ],
          "barpolar": [
           {
            "marker": {
             "line": {
              "color": "#E5ECF6",
              "width": 0.5
             },
             "pattern": {
              "fillmode": "overlay",
              "size": 10,
              "solidity": 0.2
             }
            },
            "type": "barpolar"
           }
          ],
          "carpet": [
           {
            "aaxis": {
             "endlinecolor": "#2a3f5f",
             "gridcolor": "white",
             "linecolor": "white",
             "minorgridcolor": "white",
             "startlinecolor": "#2a3f5f"
            },
            "baxis": {
             "endlinecolor": "#2a3f5f",
             "gridcolor": "white",
             "linecolor": "white",
             "minorgridcolor": "white",
             "startlinecolor": "#2a3f5f"
            },
            "type": "carpet"
           }
          ],
          "choropleth": [
           {
            "colorbar": {
             "outlinewidth": 0,
             "ticks": ""
            },
            "type": "choropleth"
           }
          ],
          "contour": [
           {
            "colorbar": {
             "outlinewidth": 0,
             "ticks": ""
            },
            "colorscale": [
             [
              0,
              "#0d0887"
             ],
             [
              0.1111111111111111,
              "#46039f"
             ],
             [
              0.2222222222222222,
              "#7201a8"
             ],
             [
              0.3333333333333333,
              "#9c179e"
             ],
             [
              0.4444444444444444,
              "#bd3786"
             ],
             [
              0.5555555555555556,
              "#d8576b"
             ],
             [
              0.6666666666666666,
              "#ed7953"
             ],
             [
              0.7777777777777778,
              "#fb9f3a"
             ],
             [
              0.8888888888888888,
              "#fdca26"
             ],
             [
              1,
              "#f0f921"
             ]
            ],
            "type": "contour"
           }
          ],
          "contourcarpet": [
           {
            "colorbar": {
             "outlinewidth": 0,
             "ticks": ""
            },
            "type": "contourcarpet"
           }
          ],
          "heatmap": [
           {
            "colorbar": {
             "outlinewidth": 0,
             "ticks": ""
            },
            "colorscale": [
             [
              0,
              "#0d0887"
             ],
             [
              0.1111111111111111,
              "#46039f"
             ],
             [
              0.2222222222222222,
              "#7201a8"
             ],
             [
              0.3333333333333333,
              "#9c179e"
             ],
             [
              0.4444444444444444,
              "#bd3786"
             ],
             [
              0.5555555555555556,
              "#d8576b"
             ],
             [
              0.6666666666666666,
              "#ed7953"
             ],
             [
              0.7777777777777778,
              "#fb9f3a"
             ],
             [
              0.8888888888888888,
              "#fdca26"
             ],
             [
              1,
              "#f0f921"
             ]
            ],
            "type": "heatmap"
           }
          ],
          "heatmapgl": [
           {
            "colorbar": {
             "outlinewidth": 0,
             "ticks": ""
            },
            "colorscale": [
             [
              0,
              "#0d0887"
             ],
             [
              0.1111111111111111,
              "#46039f"
             ],
             [
              0.2222222222222222,
              "#7201a8"
             ],
             [
              0.3333333333333333,
              "#9c179e"
             ],
             [
              0.4444444444444444,
              "#bd3786"
             ],
             [
              0.5555555555555556,
              "#d8576b"
             ],
             [
              0.6666666666666666,
              "#ed7953"
             ],
             [
              0.7777777777777778,
              "#fb9f3a"
             ],
             [
              0.8888888888888888,
              "#fdca26"
             ],
             [
              1,
              "#f0f921"
             ]
            ],
            "type": "heatmapgl"
           }
          ],
          "histogram": [
           {
            "marker": {
             "pattern": {
              "fillmode": "overlay",
              "size": 10,
              "solidity": 0.2
             }
            },
            "type": "histogram"
           }
          ],
          "histogram2d": [
           {
            "colorbar": {
             "outlinewidth": 0,
             "ticks": ""
            },
            "colorscale": [
             [
              0,
              "#0d0887"
             ],
             [
              0.1111111111111111,
              "#46039f"
             ],
             [
              0.2222222222222222,
              "#7201a8"
             ],
             [
              0.3333333333333333,
              "#9c179e"
             ],
             [
              0.4444444444444444,
              "#bd3786"
             ],
             [
              0.5555555555555556,
              "#d8576b"
             ],
             [
              0.6666666666666666,
              "#ed7953"
             ],
             [
              0.7777777777777778,
              "#fb9f3a"
             ],
             [
              0.8888888888888888,
              "#fdca26"
             ],
             [
              1,
              "#f0f921"
             ]
            ],
            "type": "histogram2d"
           }
          ],
          "histogram2dcontour": [
           {
            "colorbar": {
             "outlinewidth": 0,
             "ticks": ""
            },
            "colorscale": [
             [
              0,
              "#0d0887"
             ],
             [
              0.1111111111111111,
              "#46039f"
             ],
             [
              0.2222222222222222,
              "#7201a8"
             ],
             [
              0.3333333333333333,
              "#9c179e"
             ],
             [
              0.4444444444444444,
              "#bd3786"
             ],
             [
              0.5555555555555556,
              "#d8576b"
             ],
             [
              0.6666666666666666,
              "#ed7953"
             ],
             [
              0.7777777777777778,
              "#fb9f3a"
             ],
             [
              0.8888888888888888,
              "#fdca26"
             ],
             [
              1,
              "#f0f921"
             ]
            ],
            "type": "histogram2dcontour"
           }
          ],
          "mesh3d": [
           {
            "colorbar": {
             "outlinewidth": 0,
             "ticks": ""
            },
            "type": "mesh3d"
           }
          ],
          "parcoords": [
           {
            "line": {
             "colorbar": {
              "outlinewidth": 0,
              "ticks": ""
             }
            },
            "type": "parcoords"
           }
          ],
          "pie": [
           {
            "automargin": true,
            "type": "pie"
           }
          ],
          "scatter": [
           {
            "fillpattern": {
             "fillmode": "overlay",
             "size": 10,
             "solidity": 0.2
            },
            "type": "scatter"
           }
          ],
          "scatter3d": [
           {
            "line": {
             "colorbar": {
              "outlinewidth": 0,
              "ticks": ""
             }
            },
            "marker": {
             "colorbar": {
              "outlinewidth": 0,
              "ticks": ""
             }
            },
            "type": "scatter3d"
           }
          ],
          "scattercarpet": [
           {
            "marker": {
             "colorbar": {
              "outlinewidth": 0,
              "ticks": ""
             }
            },
            "type": "scattercarpet"
           }
          ],
          "scattergeo": [
           {
            "marker": {
             "colorbar": {
              "outlinewidth": 0,
              "ticks": ""
             }
            },
            "type": "scattergeo"
           }
          ],
          "scattergl": [
           {
            "marker": {
             "colorbar": {
              "outlinewidth": 0,
              "ticks": ""
             }
            },
            "type": "scattergl"
           }
          ],
          "scattermapbox": [
           {
            "marker": {
             "colorbar": {
              "outlinewidth": 0,
              "ticks": ""
             }
            },
            "type": "scattermapbox"
           }
          ],
          "scatterpolar": [
           {
            "marker": {
             "colorbar": {
              "outlinewidth": 0,
              "ticks": ""
             }
            },
            "type": "scatterpolar"
           }
          ],
          "scatterpolargl": [
           {
            "marker": {
             "colorbar": {
              "outlinewidth": 0,
              "ticks": ""
             }
            },
            "type": "scatterpolargl"
           }
          ],
          "scatterternary": [
           {
            "marker": {
             "colorbar": {
              "outlinewidth": 0,
              "ticks": ""
             }
            },
            "type": "scatterternary"
           }
          ],
          "surface": [
           {
            "colorbar": {
             "outlinewidth": 0,
             "ticks": ""
            },
            "colorscale": [
             [
              0,
              "#0d0887"
             ],
             [
              0.1111111111111111,
              "#46039f"
             ],
             [
              0.2222222222222222,
              "#7201a8"
             ],
             [
              0.3333333333333333,
              "#9c179e"
             ],
             [
              0.4444444444444444,
              "#bd3786"
             ],
             [
              0.5555555555555556,
              "#d8576b"
             ],
             [
              0.6666666666666666,
              "#ed7953"
             ],
             [
              0.7777777777777778,
              "#fb9f3a"
             ],
             [
              0.8888888888888888,
              "#fdca26"
             ],
             [
              1,
              "#f0f921"
             ]
            ],
            "type": "surface"
           }
          ],
          "table": [
           {
            "cells": {
             "fill": {
              "color": "#EBF0F8"
             },
             "line": {
              "color": "white"
             }
            },
            "header": {
             "fill": {
              "color": "#C8D4E3"
             },
             "line": {
              "color": "white"
             }
            },
            "type": "table"
           }
          ]
         },
         "layout": {
          "annotationdefaults": {
           "arrowcolor": "#2a3f5f",
           "arrowhead": 0,
           "arrowwidth": 1
          },
          "autotypenumbers": "strict",
          "coloraxis": {
           "colorbar": {
            "outlinewidth": 0,
            "ticks": ""
           }
          },
          "colorscale": {
           "diverging": [
            [
             0,
             "#8e0152"
            ],
            [
             0.1,
             "#c51b7d"
            ],
            [
             0.2,
             "#de77ae"
            ],
            [
             0.3,
             "#f1b6da"
            ],
            [
             0.4,
             "#fde0ef"
            ],
            [
             0.5,
             "#f7f7f7"
            ],
            [
             0.6,
             "#e6f5d0"
            ],
            [
             0.7,
             "#b8e186"
            ],
            [
             0.8,
             "#7fbc41"
            ],
            [
             0.9,
             "#4d9221"
            ],
            [
             1,
             "#276419"
            ]
           ],
           "sequential": [
            [
             0,
             "#0d0887"
            ],
            [
             0.1111111111111111,
             "#46039f"
            ],
            [
             0.2222222222222222,
             "#7201a8"
            ],
            [
             0.3333333333333333,
             "#9c179e"
            ],
            [
             0.4444444444444444,
             "#bd3786"
            ],
            [
             0.5555555555555556,
             "#d8576b"
            ],
            [
             0.6666666666666666,
             "#ed7953"
            ],
            [
             0.7777777777777778,
             "#fb9f3a"
            ],
            [
             0.8888888888888888,
             "#fdca26"
            ],
            [
             1,
             "#f0f921"
            ]
           ],
           "sequentialminus": [
            [
             0,
             "#0d0887"
            ],
            [
             0.1111111111111111,
             "#46039f"
            ],
            [
             0.2222222222222222,
             "#7201a8"
            ],
            [
             0.3333333333333333,
             "#9c179e"
            ],
            [
             0.4444444444444444,
             "#bd3786"
            ],
            [
             0.5555555555555556,
             "#d8576b"
            ],
            [
             0.6666666666666666,
             "#ed7953"
            ],
            [
             0.7777777777777778,
             "#fb9f3a"
            ],
            [
             0.8888888888888888,
             "#fdca26"
            ],
            [
             1,
             "#f0f921"
            ]
           ]
          },
          "colorway": [
           "#636efa",
           "#EF553B",
           "#00cc96",
           "#ab63fa",
           "#FFA15A",
           "#19d3f3",
           "#FF6692",
           "#B6E880",
           "#FF97FF",
           "#FECB52"
          ],
          "font": {
           "color": "#2a3f5f"
          },
          "geo": {
           "bgcolor": "white",
           "lakecolor": "white",
           "landcolor": "#E5ECF6",
           "showlakes": true,
           "showland": true,
           "subunitcolor": "white"
          },
          "hoverlabel": {
           "align": "left"
          },
          "hovermode": "closest",
          "mapbox": {
           "style": "light"
          },
          "paper_bgcolor": "white",
          "plot_bgcolor": "#E5ECF6",
          "polar": {
           "angularaxis": {
            "gridcolor": "white",
            "linecolor": "white",
            "ticks": ""
           },
           "bgcolor": "#E5ECF6",
           "radialaxis": {
            "gridcolor": "white",
            "linecolor": "white",
            "ticks": ""
           }
          },
          "scene": {
           "xaxis": {
            "backgroundcolor": "#E5ECF6",
            "gridcolor": "white",
            "gridwidth": 2,
            "linecolor": "white",
            "showbackground": true,
            "ticks": "",
            "zerolinecolor": "white"
           },
           "yaxis": {
            "backgroundcolor": "#E5ECF6",
            "gridcolor": "white",
            "gridwidth": 2,
            "linecolor": "white",
            "showbackground": true,
            "ticks": "",
            "zerolinecolor": "white"
           },
           "zaxis": {
            "backgroundcolor": "#E5ECF6",
            "gridcolor": "white",
            "gridwidth": 2,
            "linecolor": "white",
            "showbackground": true,
            "ticks": "",
            "zerolinecolor": "white"
           }
          },
          "shapedefaults": {
           "line": {
            "color": "#2a3f5f"
           }
          },
          "ternary": {
           "aaxis": {
            "gridcolor": "white",
            "linecolor": "white",
            "ticks": ""
           },
           "baxis": {
            "gridcolor": "white",
            "linecolor": "white",
            "ticks": ""
           },
           "bgcolor": "#E5ECF6",
           "caxis": {
            "gridcolor": "white",
            "linecolor": "white",
            "ticks": ""
           }
          },
          "title": {
           "x": 0.05
          },
          "xaxis": {
           "automargin": true,
           "gridcolor": "white",
           "linecolor": "white",
           "ticks": "",
           "title": {
            "standoff": 15
           },
           "zerolinecolor": "white",
           "zerolinewidth": 2
          },
          "yaxis": {
           "automargin": true,
           "gridcolor": "white",
           "linecolor": "white",
           "ticks": "",
           "title": {
            "standoff": 15
           },
           "zerolinecolor": "white",
           "zerolinewidth": 2
          }
         }
        },
        "title": {
         "text": "Cantidad de NaN por Columna"
        },
        "xaxis": {
         "anchor": "y",
         "domain": [
          0,
          1
         ],
         "tickangle": 90,
         "title": {
          "text": "Variables"
         }
        },
        "yaxis": {
         "anchor": "x",
         "domain": [
          0,
          1
         ],
         "title": {
          "text": "Cantidad de NaN"
         }
        }
       }
      }
     },
     "metadata": {},
     "output_type": "display_data"
    }
   ],
   "source": [
    "df['edad'].fillna('Desconocido', inplace=True)\n",
    "columnas_con_nan = df.columns[df.isna().any()].tolist()\n",
    "nan_por_columna = df[columnas_con_nan].isna().sum()\n",
    "\n",
    "fig = px.bar(x=columnas_con_nan, y=nan_por_columna[columnas_con_nan],\n",
    "             labels={'x': 'Variables', 'y': 'Cantidad de NaN'},\n",
    "             title='Cantidad de NaN por Columna')\n",
    "\n",
    "# Rotar las etiquetas en el eje x a vertical\n",
    "fig.update_xaxes(tickangle=90)\n",
    "\n",
    "# Mostrar el gráfico\n",
    "fig.show()\n"
   ]
  },
  {
   "cell_type": "markdown",
   "metadata": {},
   "source": [
    "## Dieta de codornices"
   ]
  },
  {
   "cell_type": "code",
   "execution_count": 82,
   "metadata": {},
   "outputs": [],
   "source": [
    "df_dieta = df[vars_dieta_codorniz]"
   ]
  },
  {
   "cell_type": "code",
   "execution_count": 83,
   "metadata": {},
   "outputs": [
    {
     "data": {
      "text/html": [
       "<div>\n",
       "<style scoped>\n",
       "    .dataframe tbody tr th:only-of-type {\n",
       "        vertical-align: middle;\n",
       "    }\n",
       "\n",
       "    .dataframe tbody tr th {\n",
       "        vertical-align: top;\n",
       "    }\n",
       "\n",
       "    .dataframe thead th {\n",
       "        text-align: right;\n",
       "    }\n",
       "</style>\n",
       "<table border=\"1\" class=\"dataframe\">\n",
       "  <thead>\n",
       "    <tr style=\"text-align: right;\">\n",
       "      <th></th>\n",
       "      <th>Oxalis</th>\n",
       "      <th>Quercus</th>\n",
       "      <th>Cyp.bulb</th>\n",
       "      <th>Phaseolus</th>\n",
       "      <th>Tephoria</th>\n",
       "      <th>Caracoles</th>\n",
       "      <th>Insectos</th>\n",
       "      <th>Physalis</th>\n",
       "      <th>Vitis.arizonica</th>\n",
       "      <th>Lupinus</th>\n",
       "      <th>...</th>\n",
       "      <th>Bothriochloa.1</th>\n",
       "      <th>Euphorbia.2</th>\n",
       "      <th>SPA60</th>\n",
       "      <th>SPA61</th>\n",
       "      <th>SPA62</th>\n",
       "      <th>Phaseolus.1</th>\n",
       "      <th>SPA64</th>\n",
       "      <th>SPA65</th>\n",
       "      <th>Arachnida</th>\n",
       "      <th>Juniperus prob. deppeana</th>\n",
       "    </tr>\n",
       "  </thead>\n",
       "  <tbody>\n",
       "    <tr>\n",
       "      <th>0</th>\n",
       "      <td>9.7584</td>\n",
       "      <td>0.0</td>\n",
       "      <td>0.0000</td>\n",
       "      <td>0.0000</td>\n",
       "      <td>0.0000</td>\n",
       "      <td>0.0</td>\n",
       "      <td>0.0000</td>\n",
       "      <td>0.0000</td>\n",
       "      <td>0.0</td>\n",
       "      <td>0.0</td>\n",
       "      <td>...</td>\n",
       "      <td>0.0</td>\n",
       "      <td>0.0</td>\n",
       "      <td>0.0</td>\n",
       "      <td>0.0</td>\n",
       "      <td>0.0</td>\n",
       "      <td>0.0</td>\n",
       "      <td>0.0</td>\n",
       "      <td>0.0</td>\n",
       "      <td>0.0</td>\n",
       "      <td>0.0</td>\n",
       "    </tr>\n",
       "    <tr>\n",
       "      <th>1</th>\n",
       "      <td>3.9632</td>\n",
       "      <td>0.0</td>\n",
       "      <td>0.0000</td>\n",
       "      <td>0.0000</td>\n",
       "      <td>0.0000</td>\n",
       "      <td>0.0</td>\n",
       "      <td>0.0000</td>\n",
       "      <td>0.0000</td>\n",
       "      <td>0.0</td>\n",
       "      <td>0.0</td>\n",
       "      <td>...</td>\n",
       "      <td>0.0</td>\n",
       "      <td>0.0</td>\n",
       "      <td>0.0</td>\n",
       "      <td>0.0</td>\n",
       "      <td>0.0</td>\n",
       "      <td>0.0</td>\n",
       "      <td>0.0</td>\n",
       "      <td>0.0</td>\n",
       "      <td>0.0</td>\n",
       "      <td>0.0</td>\n",
       "    </tr>\n",
       "    <tr>\n",
       "      <th>2</th>\n",
       "      <td>3.8238</td>\n",
       "      <td>0.0</td>\n",
       "      <td>0.0000</td>\n",
       "      <td>0.6148</td>\n",
       "      <td>0.0726</td>\n",
       "      <td>0.0</td>\n",
       "      <td>0.0514</td>\n",
       "      <td>0.0000</td>\n",
       "      <td>0.0</td>\n",
       "      <td>0.0</td>\n",
       "      <td>...</td>\n",
       "      <td>0.0</td>\n",
       "      <td>0.0</td>\n",
       "      <td>0.0</td>\n",
       "      <td>0.0</td>\n",
       "      <td>0.0</td>\n",
       "      <td>0.0</td>\n",
       "      <td>0.0</td>\n",
       "      <td>0.0</td>\n",
       "      <td>0.0</td>\n",
       "      <td>0.0</td>\n",
       "    </tr>\n",
       "    <tr>\n",
       "      <th>3</th>\n",
       "      <td>3.7076</td>\n",
       "      <td>0.0</td>\n",
       "      <td>0.0000</td>\n",
       "      <td>0.0000</td>\n",
       "      <td>0.0000</td>\n",
       "      <td>0.0</td>\n",
       "      <td>0.7900</td>\n",
       "      <td>0.0000</td>\n",
       "      <td>0.0</td>\n",
       "      <td>0.0</td>\n",
       "      <td>...</td>\n",
       "      <td>0.0</td>\n",
       "      <td>0.0</td>\n",
       "      <td>0.0</td>\n",
       "      <td>0.0</td>\n",
       "      <td>0.0</td>\n",
       "      <td>0.0</td>\n",
       "      <td>0.0</td>\n",
       "      <td>0.0</td>\n",
       "      <td>0.0</td>\n",
       "      <td>0.0</td>\n",
       "    </tr>\n",
       "    <tr>\n",
       "      <th>4</th>\n",
       "      <td>2.2011</td>\n",
       "      <td>0.0</td>\n",
       "      <td>0.7780</td>\n",
       "      <td>0.3908</td>\n",
       "      <td>0.0000</td>\n",
       "      <td>0.0</td>\n",
       "      <td>0.0027</td>\n",
       "      <td>0.0000</td>\n",
       "      <td>0.0</td>\n",
       "      <td>0.0</td>\n",
       "      <td>...</td>\n",
       "      <td>0.0</td>\n",
       "      <td>0.0</td>\n",
       "      <td>0.0</td>\n",
       "      <td>0.0</td>\n",
       "      <td>0.0</td>\n",
       "      <td>0.0</td>\n",
       "      <td>0.0</td>\n",
       "      <td>0.0</td>\n",
       "      <td>0.0</td>\n",
       "      <td>0.0</td>\n",
       "    </tr>\n",
       "    <tr>\n",
       "      <th>...</th>\n",
       "      <td>...</td>\n",
       "      <td>...</td>\n",
       "      <td>...</td>\n",
       "      <td>...</td>\n",
       "      <td>...</td>\n",
       "      <td>...</td>\n",
       "      <td>...</td>\n",
       "      <td>...</td>\n",
       "      <td>...</td>\n",
       "      <td>...</td>\n",
       "      <td>...</td>\n",
       "      <td>...</td>\n",
       "      <td>...</td>\n",
       "      <td>...</td>\n",
       "      <td>...</td>\n",
       "      <td>...</td>\n",
       "      <td>...</td>\n",
       "      <td>...</td>\n",
       "      <td>...</td>\n",
       "      <td>...</td>\n",
       "      <td>...</td>\n",
       "    </tr>\n",
       "    <tr>\n",
       "      <th>314</th>\n",
       "      <td>0.0000</td>\n",
       "      <td>0.0</td>\n",
       "      <td>0.3501</td>\n",
       "      <td>0.0000</td>\n",
       "      <td>0.0000</td>\n",
       "      <td>0.0</td>\n",
       "      <td>0.0000</td>\n",
       "      <td>0.0000</td>\n",
       "      <td>0.0</td>\n",
       "      <td>0.0</td>\n",
       "      <td>...</td>\n",
       "      <td>0.0</td>\n",
       "      <td>0.0</td>\n",
       "      <td>0.0</td>\n",
       "      <td>0.0</td>\n",
       "      <td>0.0</td>\n",
       "      <td>0.0</td>\n",
       "      <td>0.0</td>\n",
       "      <td>0.0</td>\n",
       "      <td>0.0</td>\n",
       "      <td>0.0</td>\n",
       "    </tr>\n",
       "    <tr>\n",
       "      <th>315</th>\n",
       "      <td>0.0000</td>\n",
       "      <td>0.0</td>\n",
       "      <td>0.0000</td>\n",
       "      <td>0.0000</td>\n",
       "      <td>0.0000</td>\n",
       "      <td>0.0</td>\n",
       "      <td>0.0000</td>\n",
       "      <td>0.0339</td>\n",
       "      <td>0.0</td>\n",
       "      <td>0.0</td>\n",
       "      <td>...</td>\n",
       "      <td>0.0</td>\n",
       "      <td>0.0</td>\n",
       "      <td>0.0</td>\n",
       "      <td>0.0</td>\n",
       "      <td>0.0</td>\n",
       "      <td>0.0</td>\n",
       "      <td>0.0</td>\n",
       "      <td>0.0</td>\n",
       "      <td>0.0</td>\n",
       "      <td>0.0</td>\n",
       "    </tr>\n",
       "    <tr>\n",
       "      <th>316</th>\n",
       "      <td>0.0000</td>\n",
       "      <td>0.0</td>\n",
       "      <td>2.5800</td>\n",
       "      <td>0.0000</td>\n",
       "      <td>0.0000</td>\n",
       "      <td>0.0</td>\n",
       "      <td>0.0000</td>\n",
       "      <td>0.0000</td>\n",
       "      <td>0.0</td>\n",
       "      <td>0.0</td>\n",
       "      <td>...</td>\n",
       "      <td>0.0</td>\n",
       "      <td>0.0</td>\n",
       "      <td>0.0</td>\n",
       "      <td>0.0</td>\n",
       "      <td>0.0</td>\n",
       "      <td>0.0</td>\n",
       "      <td>0.0</td>\n",
       "      <td>0.0</td>\n",
       "      <td>0.0</td>\n",
       "      <td>0.0</td>\n",
       "    </tr>\n",
       "    <tr>\n",
       "      <th>317</th>\n",
       "      <td>0.0000</td>\n",
       "      <td>0.0</td>\n",
       "      <td>0.0000</td>\n",
       "      <td>7.3265</td>\n",
       "      <td>0.0000</td>\n",
       "      <td>0.0</td>\n",
       "      <td>0.0000</td>\n",
       "      <td>0.0000</td>\n",
       "      <td>0.0</td>\n",
       "      <td>0.0</td>\n",
       "      <td>...</td>\n",
       "      <td>0.0</td>\n",
       "      <td>0.0</td>\n",
       "      <td>0.0</td>\n",
       "      <td>0.0</td>\n",
       "      <td>0.0</td>\n",
       "      <td>0.0</td>\n",
       "      <td>0.0</td>\n",
       "      <td>0.0</td>\n",
       "      <td>0.0</td>\n",
       "      <td>0.0</td>\n",
       "    </tr>\n",
       "    <tr>\n",
       "      <th>318</th>\n",
       "      <td>0.0000</td>\n",
       "      <td>0.0</td>\n",
       "      <td>0.0000</td>\n",
       "      <td>5.8287</td>\n",
       "      <td>0.1445</td>\n",
       "      <td>0.0</td>\n",
       "      <td>0.0000</td>\n",
       "      <td>0.0000</td>\n",
       "      <td>0.0</td>\n",
       "      <td>0.0</td>\n",
       "      <td>...</td>\n",
       "      <td>0.0</td>\n",
       "      <td>0.0</td>\n",
       "      <td>0.0</td>\n",
       "      <td>0.0</td>\n",
       "      <td>0.0</td>\n",
       "      <td>0.0</td>\n",
       "      <td>0.0</td>\n",
       "      <td>0.0</td>\n",
       "      <td>0.0</td>\n",
       "      <td>0.0</td>\n",
       "    </tr>\n",
       "  </tbody>\n",
       "</table>\n",
       "<p>319 rows × 130 columns</p>\n",
       "</div>"
      ],
      "text/plain": [
       "     Oxalis  Quercus  Cyp.bulb  Phaseolus  Tephoria  Caracoles  Insectos  \\\n",
       "0    9.7584      0.0    0.0000     0.0000    0.0000        0.0    0.0000   \n",
       "1    3.9632      0.0    0.0000     0.0000    0.0000        0.0    0.0000   \n",
       "2    3.8238      0.0    0.0000     0.6148    0.0726        0.0    0.0514   \n",
       "3    3.7076      0.0    0.0000     0.0000    0.0000        0.0    0.7900   \n",
       "4    2.2011      0.0    0.7780     0.3908    0.0000        0.0    0.0027   \n",
       "..      ...      ...       ...        ...       ...        ...       ...   \n",
       "314  0.0000      0.0    0.3501     0.0000    0.0000        0.0    0.0000   \n",
       "315  0.0000      0.0    0.0000     0.0000    0.0000        0.0    0.0000   \n",
       "316  0.0000      0.0    2.5800     0.0000    0.0000        0.0    0.0000   \n",
       "317  0.0000      0.0    0.0000     7.3265    0.0000        0.0    0.0000   \n",
       "318  0.0000      0.0    0.0000     5.8287    0.1445        0.0    0.0000   \n",
       "\n",
       "     Physalis  Vitis.arizonica  Lupinus  ...  Bothriochloa.1  Euphorbia.2  \\\n",
       "0      0.0000              0.0      0.0  ...             0.0          0.0   \n",
       "1      0.0000              0.0      0.0  ...             0.0          0.0   \n",
       "2      0.0000              0.0      0.0  ...             0.0          0.0   \n",
       "3      0.0000              0.0      0.0  ...             0.0          0.0   \n",
       "4      0.0000              0.0      0.0  ...             0.0          0.0   \n",
       "..        ...              ...      ...  ...             ...          ...   \n",
       "314    0.0000              0.0      0.0  ...             0.0          0.0   \n",
       "315    0.0339              0.0      0.0  ...             0.0          0.0   \n",
       "316    0.0000              0.0      0.0  ...             0.0          0.0   \n",
       "317    0.0000              0.0      0.0  ...             0.0          0.0   \n",
       "318    0.0000              0.0      0.0  ...             0.0          0.0   \n",
       "\n",
       "     SPA60  SPA61  SPA62  Phaseolus.1  SPA64  SPA65  Arachnida  \\\n",
       "0      0.0    0.0    0.0          0.0    0.0    0.0        0.0   \n",
       "1      0.0    0.0    0.0          0.0    0.0    0.0        0.0   \n",
       "2      0.0    0.0    0.0          0.0    0.0    0.0        0.0   \n",
       "3      0.0    0.0    0.0          0.0    0.0    0.0        0.0   \n",
       "4      0.0    0.0    0.0          0.0    0.0    0.0        0.0   \n",
       "..     ...    ...    ...          ...    ...    ...        ...   \n",
       "314    0.0    0.0    0.0          0.0    0.0    0.0        0.0   \n",
       "315    0.0    0.0    0.0          0.0    0.0    0.0        0.0   \n",
       "316    0.0    0.0    0.0          0.0    0.0    0.0        0.0   \n",
       "317    0.0    0.0    0.0          0.0    0.0    0.0        0.0   \n",
       "318    0.0    0.0    0.0          0.0    0.0    0.0        0.0   \n",
       "\n",
       "     Juniperus prob. deppeana  \n",
       "0                         0.0  \n",
       "1                         0.0  \n",
       "2                         0.0  \n",
       "3                         0.0  \n",
       "4                         0.0  \n",
       "..                        ...  \n",
       "314                       0.0  \n",
       "315                       0.0  \n",
       "316                       0.0  \n",
       "317                       0.0  \n",
       "318                       0.0  \n",
       "\n",
       "[319 rows x 130 columns]"
      ]
     },
     "execution_count": 83,
     "metadata": {},
     "output_type": "execute_result"
    }
   ],
   "source": [
    "df_dieta"
   ]
  },
  {
   "cell_type": "markdown",
   "metadata": {},
   "source": [
    "Basándonos en el análisis propuesto en la tesis, se decidió agrupar las variables de especies de comida con menores proporciones en la dieta de las codornices, creando una columna llamada \"otros\""
   ]
  },
  {
   "cell_type": "code",
   "execution_count": 108,
   "metadata": {},
   "outputs": [
    {
     "data": {
      "text/html": [
       "<div>\n",
       "<style scoped>\n",
       "    .dataframe tbody tr th:only-of-type {\n",
       "        vertical-align: middle;\n",
       "    }\n",
       "\n",
       "    .dataframe tbody tr th {\n",
       "        vertical-align: top;\n",
       "    }\n",
       "\n",
       "    .dataframe thead th {\n",
       "        text-align: right;\n",
       "    }\n",
       "</style>\n",
       "<table border=\"1\" class=\"dataframe\">\n",
       "  <thead>\n",
       "    <tr style=\"text-align: right;\">\n",
       "      <th></th>\n",
       "      <th>Euphorbia</th>\n",
       "      <th>Phaseolus</th>\n",
       "      <th>Setaria</th>\n",
       "      <th>Cyperus.fendlerianus</th>\n",
       "      <th>Quercus</th>\n",
       "      <th>Cyp.bulb</th>\n",
       "      <th>Oxalis</th>\n",
       "      <th>Insectos</th>\n",
       "      <th>Paspalum.distichum</th>\n",
       "      <th>Physalis</th>\n",
       "      <th>...</th>\n",
       "      <th>peso total</th>\n",
       "      <th>covey</th>\n",
       "      <th>dist camino</th>\n",
       "      <th>ppanual17</th>\n",
       "      <th>tmedia17</th>\n",
       "      <th>altitud</th>\n",
       "      <th>lat</th>\n",
       "      <th>lon</th>\n",
       "      <th>hcrop</th>\n",
       "      <th>hland</th>\n",
       "    </tr>\n",
       "  </thead>\n",
       "  <tbody>\n",
       "    <tr>\n",
       "      <th>0</th>\n",
       "      <td>0.0</td>\n",
       "      <td>0.0000</td>\n",
       "      <td>0.0</td>\n",
       "      <td>0.0000</td>\n",
       "      <td>0.0</td>\n",
       "      <td>0.0000</td>\n",
       "      <td>9.7584</td>\n",
       "      <td>0.0000</td>\n",
       "      <td>0.0000</td>\n",
       "      <td>0.0000</td>\n",
       "      <td>...</td>\n",
       "      <td>9.7584</td>\n",
       "      <td>6.0</td>\n",
       "      <td>251.86</td>\n",
       "      <td>462.0</td>\n",
       "      <td>7.054167</td>\n",
       "      <td>2518.0</td>\n",
       "      <td>34.037969</td>\n",
       "      <td>-108.963777</td>\n",
       "      <td>0.000000</td>\n",
       "      <td>0.798600</td>\n",
       "    </tr>\n",
       "    <tr>\n",
       "      <th>1</th>\n",
       "      <td>0.0</td>\n",
       "      <td>0.0000</td>\n",
       "      <td>0.0</td>\n",
       "      <td>0.0000</td>\n",
       "      <td>0.0</td>\n",
       "      <td>0.0000</td>\n",
       "      <td>3.9632</td>\n",
       "      <td>0.0000</td>\n",
       "      <td>0.0000</td>\n",
       "      <td>0.0000</td>\n",
       "      <td>...</td>\n",
       "      <td>3.9632</td>\n",
       "      <td>6.0</td>\n",
       "      <td>251.86</td>\n",
       "      <td>462.0</td>\n",
       "      <td>7.054167</td>\n",
       "      <td>2518.0</td>\n",
       "      <td>34.037969</td>\n",
       "      <td>-108.963777</td>\n",
       "      <td>0.000000</td>\n",
       "      <td>0.798600</td>\n",
       "    </tr>\n",
       "    <tr>\n",
       "      <th>2</th>\n",
       "      <td>0.0</td>\n",
       "      <td>0.6148</td>\n",
       "      <td>0.0</td>\n",
       "      <td>0.0000</td>\n",
       "      <td>0.0</td>\n",
       "      <td>0.0000</td>\n",
       "      <td>3.8238</td>\n",
       "      <td>0.0514</td>\n",
       "      <td>0.0000</td>\n",
       "      <td>0.0000</td>\n",
       "      <td>...</td>\n",
       "      <td>5.4562</td>\n",
       "      <td>10.0</td>\n",
       "      <td>574.06</td>\n",
       "      <td>515.0</td>\n",
       "      <td>15.954167</td>\n",
       "      <td>1527.0</td>\n",
       "      <td>31.375725</td>\n",
       "      <td>-110.530491</td>\n",
       "      <td>0.785803</td>\n",
       "      <td>1.245916</td>\n",
       "    </tr>\n",
       "    <tr>\n",
       "      <th>3</th>\n",
       "      <td>0.0</td>\n",
       "      <td>0.0000</td>\n",
       "      <td>0.0</td>\n",
       "      <td>0.0000</td>\n",
       "      <td>0.0</td>\n",
       "      <td>0.0000</td>\n",
       "      <td>3.7076</td>\n",
       "      <td>0.7900</td>\n",
       "      <td>0.0000</td>\n",
       "      <td>0.0000</td>\n",
       "      <td>...</td>\n",
       "      <td>4.4976</td>\n",
       "      <td>8.0</td>\n",
       "      <td>23.07</td>\n",
       "      <td>385.0</td>\n",
       "      <td>10.979167</td>\n",
       "      <td>1952.0</td>\n",
       "      <td>33.176791</td>\n",
       "      <td>-107.735593</td>\n",
       "      <td>0.464732</td>\n",
       "      <td>0.764466</td>\n",
       "    </tr>\n",
       "    <tr>\n",
       "      <th>4</th>\n",
       "      <td>0.0</td>\n",
       "      <td>0.3908</td>\n",
       "      <td>0.0</td>\n",
       "      <td>0.0000</td>\n",
       "      <td>0.0</td>\n",
       "      <td>0.7780</td>\n",
       "      <td>2.2011</td>\n",
       "      <td>0.0027</td>\n",
       "      <td>0.0024</td>\n",
       "      <td>0.0000</td>\n",
       "      <td>...</td>\n",
       "      <td>5.4630</td>\n",
       "      <td>8.0</td>\n",
       "      <td>236.76</td>\n",
       "      <td>521.0</td>\n",
       "      <td>16.133333</td>\n",
       "      <td>1507.0</td>\n",
       "      <td>31.353053</td>\n",
       "      <td>-110.531060</td>\n",
       "      <td>1.680150</td>\n",
       "      <td>1.541562</td>\n",
       "    </tr>\n",
       "    <tr>\n",
       "      <th>...</th>\n",
       "      <td>...</td>\n",
       "      <td>...</td>\n",
       "      <td>...</td>\n",
       "      <td>...</td>\n",
       "      <td>...</td>\n",
       "      <td>...</td>\n",
       "      <td>...</td>\n",
       "      <td>...</td>\n",
       "      <td>...</td>\n",
       "      <td>...</td>\n",
       "      <td>...</td>\n",
       "      <td>...</td>\n",
       "      <td>...</td>\n",
       "      <td>...</td>\n",
       "      <td>...</td>\n",
       "      <td>...</td>\n",
       "      <td>...</td>\n",
       "      <td>...</td>\n",
       "      <td>...</td>\n",
       "      <td>...</td>\n",
       "      <td>...</td>\n",
       "    </tr>\n",
       "    <tr>\n",
       "      <th>314</th>\n",
       "      <td>0.0</td>\n",
       "      <td>0.0000</td>\n",
       "      <td>0.0</td>\n",
       "      <td>0.0000</td>\n",
       "      <td>0.0</td>\n",
       "      <td>0.3501</td>\n",
       "      <td>0.0000</td>\n",
       "      <td>0.0000</td>\n",
       "      <td>0.0000</td>\n",
       "      <td>0.0000</td>\n",
       "      <td>...</td>\n",
       "      <td>0.3501</td>\n",
       "      <td>12.0</td>\n",
       "      <td>86.99</td>\n",
       "      <td>315.0</td>\n",
       "      <td>14.458333</td>\n",
       "      <td>1543.0</td>\n",
       "      <td>32.590956</td>\n",
       "      <td>-107.920563</td>\n",
       "      <td>0.112925</td>\n",
       "      <td>1.628812</td>\n",
       "    </tr>\n",
       "    <tr>\n",
       "      <th>315</th>\n",
       "      <td>0.0</td>\n",
       "      <td>0.0000</td>\n",
       "      <td>0.0</td>\n",
       "      <td>0.0053</td>\n",
       "      <td>0.0</td>\n",
       "      <td>0.0000</td>\n",
       "      <td>0.0000</td>\n",
       "      <td>0.0000</td>\n",
       "      <td>0.0000</td>\n",
       "      <td>0.0339</td>\n",
       "      <td>...</td>\n",
       "      <td>0.1977</td>\n",
       "      <td>3.0</td>\n",
       "      <td>127.25</td>\n",
       "      <td>324.0</td>\n",
       "      <td>11.175000</td>\n",
       "      <td>2023.0</td>\n",
       "      <td>33.688852</td>\n",
       "      <td>-107.330940</td>\n",
       "      <td>0.000000</td>\n",
       "      <td>1.796301</td>\n",
       "    </tr>\n",
       "    <tr>\n",
       "      <th>316</th>\n",
       "      <td>0.0</td>\n",
       "      <td>0.0000</td>\n",
       "      <td>0.0</td>\n",
       "      <td>0.0000</td>\n",
       "      <td>0.0</td>\n",
       "      <td>2.5800</td>\n",
       "      <td>0.0000</td>\n",
       "      <td>0.0000</td>\n",
       "      <td>0.0000</td>\n",
       "      <td>0.0000</td>\n",
       "      <td>...</td>\n",
       "      <td>2.6084</td>\n",
       "      <td>12.0</td>\n",
       "      <td>86.99</td>\n",
       "      <td>315.0</td>\n",
       "      <td>14.458333</td>\n",
       "      <td>1543.0</td>\n",
       "      <td>32.590956</td>\n",
       "      <td>-107.920563</td>\n",
       "      <td>0.065394</td>\n",
       "      <td>1.628812</td>\n",
       "    </tr>\n",
       "    <tr>\n",
       "      <th>317</th>\n",
       "      <td>0.0</td>\n",
       "      <td>7.3265</td>\n",
       "      <td>0.0</td>\n",
       "      <td>0.0000</td>\n",
       "      <td>0.0</td>\n",
       "      <td>0.0000</td>\n",
       "      <td>0.0000</td>\n",
       "      <td>0.0000</td>\n",
       "      <td>0.0000</td>\n",
       "      <td>0.0000</td>\n",
       "      <td>...</td>\n",
       "      <td>7.3265</td>\n",
       "      <td>8.0</td>\n",
       "      <td>763.38</td>\n",
       "      <td>332.0</td>\n",
       "      <td>14.225000</td>\n",
       "      <td>1560.0</td>\n",
       "      <td>32.592245</td>\n",
       "      <td>-107.930243</td>\n",
       "      <td>0.000000</td>\n",
       "      <td>0.761439</td>\n",
       "    </tr>\n",
       "    <tr>\n",
       "      <th>318</th>\n",
       "      <td>0.0</td>\n",
       "      <td>5.8287</td>\n",
       "      <td>0.0</td>\n",
       "      <td>0.0000</td>\n",
       "      <td>0.0</td>\n",
       "      <td>0.0000</td>\n",
       "      <td>0.0000</td>\n",
       "      <td>0.0000</td>\n",
       "      <td>0.0000</td>\n",
       "      <td>0.0000</td>\n",
       "      <td>...</td>\n",
       "      <td>5.9750</td>\n",
       "      <td>8.0</td>\n",
       "      <td>763.38</td>\n",
       "      <td>332.0</td>\n",
       "      <td>14.225000</td>\n",
       "      <td>1560.0</td>\n",
       "      <td>32.592245</td>\n",
       "      <td>-107.930243</td>\n",
       "      <td>0.116640</td>\n",
       "      <td>0.761439</td>\n",
       "    </tr>\n",
       "  </tbody>\n",
       "</table>\n",
       "<p>319 rows × 25 columns</p>\n",
       "</div>"
      ],
      "text/plain": [
       "     Euphorbia  Phaseolus  Setaria  Cyperus.fendlerianus  Quercus  Cyp.bulb  \\\n",
       "0          0.0     0.0000      0.0                0.0000      0.0    0.0000   \n",
       "1          0.0     0.0000      0.0                0.0000      0.0    0.0000   \n",
       "2          0.0     0.6148      0.0                0.0000      0.0    0.0000   \n",
       "3          0.0     0.0000      0.0                0.0000      0.0    0.0000   \n",
       "4          0.0     0.3908      0.0                0.0000      0.0    0.7780   \n",
       "..         ...        ...      ...                   ...      ...       ...   \n",
       "314        0.0     0.0000      0.0                0.0000      0.0    0.3501   \n",
       "315        0.0     0.0000      0.0                0.0053      0.0    0.0000   \n",
       "316        0.0     0.0000      0.0                0.0000      0.0    2.5800   \n",
       "317        0.0     7.3265      0.0                0.0000      0.0    0.0000   \n",
       "318        0.0     5.8287      0.0                0.0000      0.0    0.0000   \n",
       "\n",
       "     Oxalis  Insectos  Paspalum.distichum  Physalis  ...  peso total covey  \\\n",
       "0    9.7584    0.0000              0.0000    0.0000  ...      9.7584   6.0   \n",
       "1    3.9632    0.0000              0.0000    0.0000  ...      3.9632   6.0   \n",
       "2    3.8238    0.0514              0.0000    0.0000  ...      5.4562  10.0   \n",
       "3    3.7076    0.7900              0.0000    0.0000  ...      4.4976   8.0   \n",
       "4    2.2011    0.0027              0.0024    0.0000  ...      5.4630   8.0   \n",
       "..      ...       ...                 ...       ...  ...         ...   ...   \n",
       "314  0.0000    0.0000              0.0000    0.0000  ...      0.3501  12.0   \n",
       "315  0.0000    0.0000              0.0000    0.0339  ...      0.1977   3.0   \n",
       "316  0.0000    0.0000              0.0000    0.0000  ...      2.6084  12.0   \n",
       "317  0.0000    0.0000              0.0000    0.0000  ...      7.3265   8.0   \n",
       "318  0.0000    0.0000              0.0000    0.0000  ...      5.9750   8.0   \n",
       "\n",
       "    dist camino ppanual17   tmedia17  altitud        lat         lon  \\\n",
       "0        251.86     462.0   7.054167   2518.0  34.037969 -108.963777   \n",
       "1        251.86     462.0   7.054167   2518.0  34.037969 -108.963777   \n",
       "2        574.06     515.0  15.954167   1527.0  31.375725 -110.530491   \n",
       "3         23.07     385.0  10.979167   1952.0  33.176791 -107.735593   \n",
       "4        236.76     521.0  16.133333   1507.0  31.353053 -110.531060   \n",
       "..          ...       ...        ...      ...        ...         ...   \n",
       "314       86.99     315.0  14.458333   1543.0  32.590956 -107.920563   \n",
       "315      127.25     324.0  11.175000   2023.0  33.688852 -107.330940   \n",
       "316       86.99     315.0  14.458333   1543.0  32.590956 -107.920563   \n",
       "317      763.38     332.0  14.225000   1560.0  32.592245 -107.930243   \n",
       "318      763.38     332.0  14.225000   1560.0  32.592245 -107.930243   \n",
       "\n",
       "        hcrop     hland  \n",
       "0    0.000000  0.798600  \n",
       "1    0.000000  0.798600  \n",
       "2    0.785803  1.245916  \n",
       "3    0.464732  0.764466  \n",
       "4    1.680150  1.541562  \n",
       "..        ...       ...  \n",
       "314  0.112925  1.628812  \n",
       "315  0.000000  1.796301  \n",
       "316  0.065394  1.628812  \n",
       "317  0.000000  0.761439  \n",
       "318  0.116640  0.761439  \n",
       "\n",
       "[319 rows x 25 columns]"
      ]
     },
     "execution_count": 108,
     "metadata": {},
     "output_type": "execute_result"
    }
   ],
   "source": [
    "# Agrupamos las especies\n",
    "df_grouped = pd.DataFrame()\n",
    "df_grouped['Euphorbia'] = df['Euphorbia']+df['Euphorbia.1']+df['Euphorbia.2'] #+df['Euphorbia.exstipulata']+df['Euphorbia probably E. bilobata']\n",
    "df_grouped['Phaseolus'] = df['Phaseolus'] + df['Phaseolus.1']\n",
    "df_grouped['Setaria'] = df['Setaria'] + df['Setaria.1'] #+ df['Setaria nigricans']\n",
    "df_grouped[['Cyperus.fendlerianus','Quercus','Cyp.bulb', 'Oxalis', 'Insectos', 'Paspalum.distichum', 'Physalis']] = df[['Cyperus.fendlerianus', 'Quercus', 'Cyp.bulb', 'Oxalis', 'Insectos', 'Paspalum.distichum', 'Physalis']]\n",
    "\n",
    "# Definir una lista de columnas a evitar\n",
    "columnas_evitar = ['Euphorbia', 'Euphorbia.1', 'Euphorbia.2', 'Phaseolus', 'Phaseolus.1', 'Setaria', 'Setaria.1', 'Cyperus.fendlerianus','Quercus','Cyp.bulb', 'Oxalis', 'Insectos', 'Paspalum.distichum', 'Physalis']\n",
    "\n",
    "# Crear una lista de columnas agrupadas, excluyendo las columnas a evitar\n",
    "lista_columnas_agrupadas = [elemento for elemento in vars_dieta_codorniz if elemento not in columnas_evitar]\n",
    "# Calcular la suma de las columnas seleccionadas en 'lista_columnas_agrupadas' del DataFrame original 'df' y asignarla a la columna 'Otros' en 'df_grouped'\n",
    "df_grouped['Otros'] = df[lista_columnas_agrupadas].sum(axis=1)\n",
    "\n",
    "# Asignar las columnas de 'var_name' del DataFrame original 'df' al DataFrame 'df_grouped'\n",
    "df_grouped[var_name] = df[var_name]\n",
    "# Eliminar la columna 'time' del DataFrame 'df_grouped'\n",
    "df_grouped = df_grouped.drop(columns=['time'])\n",
    "\n",
    "df_grouped"
   ]
  },
  {
   "cell_type": "code",
   "execution_count": 109,
   "metadata": {},
   "outputs": [
    {
     "data": {
      "text/html": [
       "<div>\n",
       "<style scoped>\n",
       "    .dataframe tbody tr th:only-of-type {\n",
       "        vertical-align: middle;\n",
       "    }\n",
       "\n",
       "    .dataframe tbody tr th {\n",
       "        vertical-align: top;\n",
       "    }\n",
       "\n",
       "    .dataframe thead th {\n",
       "        text-align: right;\n",
       "    }\n",
       "</style>\n",
       "<table border=\"1\" class=\"dataframe\">\n",
       "  <thead>\n",
       "    <tr style=\"text-align: right;\">\n",
       "      <th></th>\n",
       "      <th>Euphorbia</th>\n",
       "      <th>Phaseolus</th>\n",
       "      <th>Setaria</th>\n",
       "      <th>Cyperus.fendlerianus</th>\n",
       "      <th>Quercus</th>\n",
       "      <th>Cyp.bulb</th>\n",
       "      <th>Oxalis</th>\n",
       "      <th>Insectos</th>\n",
       "      <th>Paspalum.distichum</th>\n",
       "      <th>Physalis</th>\n",
       "      <th>...</th>\n",
       "      <th>peso total</th>\n",
       "      <th>covey</th>\n",
       "      <th>dist camino</th>\n",
       "      <th>ppanual17</th>\n",
       "      <th>tmedia17</th>\n",
       "      <th>altitud</th>\n",
       "      <th>lat</th>\n",
       "      <th>lon</th>\n",
       "      <th>hcrop</th>\n",
       "      <th>hland</th>\n",
       "    </tr>\n",
       "  </thead>\n",
       "  <tbody>\n",
       "    <tr>\n",
       "      <th>count</th>\n",
       "      <td>319.000000</td>\n",
       "      <td>319.000000</td>\n",
       "      <td>319.000000</td>\n",
       "      <td>319.000000</td>\n",
       "      <td>318.000000</td>\n",
       "      <td>317.000000</td>\n",
       "      <td>319.000000</td>\n",
       "      <td>319.000000</td>\n",
       "      <td>319.000000</td>\n",
       "      <td>319.000000</td>\n",
       "      <td>...</td>\n",
       "      <td>319.000000</td>\n",
       "      <td>190.000000</td>\n",
       "      <td>221.000000</td>\n",
       "      <td>221.000000</td>\n",
       "      <td>221.000000</td>\n",
       "      <td>221.000000</td>\n",
       "      <td>221.000000</td>\n",
       "      <td>221.000000</td>\n",
       "      <td>319.000000</td>\n",
       "      <td>220.000000</td>\n",
       "    </tr>\n",
       "    <tr>\n",
       "      <th>mean</th>\n",
       "      <td>0.002866</td>\n",
       "      <td>0.319438</td>\n",
       "      <td>0.024885</td>\n",
       "      <td>0.019694</td>\n",
       "      <td>0.391575</td>\n",
       "      <td>0.194748</td>\n",
       "      <td>0.097181</td>\n",
       "      <td>0.113014</td>\n",
       "      <td>0.069161</td>\n",
       "      <td>0.035234</td>\n",
       "      <td>...</td>\n",
       "      <td>2.084231</td>\n",
       "      <td>9.178947</td>\n",
       "      <td>207.466742</td>\n",
       "      <td>436.755656</td>\n",
       "      <td>13.860351</td>\n",
       "      <td>1709.475113</td>\n",
       "      <td>32.221751</td>\n",
       "      <td>-108.935298</td>\n",
       "      <td>0.645314</td>\n",
       "      <td>1.044265</td>\n",
       "    </tr>\n",
       "    <tr>\n",
       "      <th>std</th>\n",
       "      <td>0.018548</td>\n",
       "      <td>1.021767</td>\n",
       "      <td>0.196809</td>\n",
       "      <td>0.075140</td>\n",
       "      <td>0.873040</td>\n",
       "      <td>0.626539</td>\n",
       "      <td>0.681455</td>\n",
       "      <td>0.384408</td>\n",
       "      <td>0.456589</td>\n",
       "      <td>0.303878</td>\n",
       "      <td>...</td>\n",
       "      <td>1.718818</td>\n",
       "      <td>3.779586</td>\n",
       "      <td>178.331358</td>\n",
       "      <td>78.965781</td>\n",
       "      <td>2.093009</td>\n",
       "      <td>224.818989</td>\n",
       "      <td>0.815692</td>\n",
       "      <td>1.534481</td>\n",
       "      <td>0.528932</td>\n",
       "      <td>0.360545</td>\n",
       "    </tr>\n",
       "    <tr>\n",
       "      <th>min</th>\n",
       "      <td>0.000000</td>\n",
       "      <td>0.000000</td>\n",
       "      <td>0.000000</td>\n",
       "      <td>0.000000</td>\n",
       "      <td>0.000000</td>\n",
       "      <td>0.000000</td>\n",
       "      <td>0.000000</td>\n",
       "      <td>0.000000</td>\n",
       "      <td>0.000000</td>\n",
       "      <td>0.000000</td>\n",
       "      <td>...</td>\n",
       "      <td>0.000000</td>\n",
       "      <td>1.000000</td>\n",
       "      <td>6.400000</td>\n",
       "      <td>235.000000</td>\n",
       "      <td>7.054167</td>\n",
       "      <td>1206.000000</td>\n",
       "      <td>31.343850</td>\n",
       "      <td>-111.072099</td>\n",
       "      <td>0.000000</td>\n",
       "      <td>0.222691</td>\n",
       "    </tr>\n",
       "    <tr>\n",
       "      <th>25%</th>\n",
       "      <td>0.000000</td>\n",
       "      <td>0.000000</td>\n",
       "      <td>0.000000</td>\n",
       "      <td>0.000000</td>\n",
       "      <td>0.000000</td>\n",
       "      <td>0.000000</td>\n",
       "      <td>0.000000</td>\n",
       "      <td>0.000000</td>\n",
       "      <td>0.000000</td>\n",
       "      <td>0.000000</td>\n",
       "      <td>...</td>\n",
       "      <td>0.704350</td>\n",
       "      <td>6.000000</td>\n",
       "      <td>81.820000</td>\n",
       "      <td>376.000000</td>\n",
       "      <td>12.379167</td>\n",
       "      <td>1567.000000</td>\n",
       "      <td>31.479233</td>\n",
       "      <td>-110.585248</td>\n",
       "      <td>0.181204</td>\n",
       "      <td>0.783493</td>\n",
       "    </tr>\n",
       "    <tr>\n",
       "      <th>50%</th>\n",
       "      <td>0.000000</td>\n",
       "      <td>0.000000</td>\n",
       "      <td>0.000000</td>\n",
       "      <td>0.000000</td>\n",
       "      <td>0.000000</td>\n",
       "      <td>0.000000</td>\n",
       "      <td>0.000000</td>\n",
       "      <td>0.000000</td>\n",
       "      <td>0.000000</td>\n",
       "      <td>0.000000</td>\n",
       "      <td>...</td>\n",
       "      <td>1.776000</td>\n",
       "      <td>10.000000</td>\n",
       "      <td>171.920000</td>\n",
       "      <td>422.000000</td>\n",
       "      <td>14.354167</td>\n",
       "      <td>1658.000000</td>\n",
       "      <td>31.791366</td>\n",
       "      <td>-108.940734</td>\n",
       "      <td>0.579030</td>\n",
       "      <td>1.057318</td>\n",
       "    </tr>\n",
       "    <tr>\n",
       "      <th>75%</th>\n",
       "      <td>0.000000</td>\n",
       "      <td>0.091750</td>\n",
       "      <td>0.000000</td>\n",
       "      <td>0.000550</td>\n",
       "      <td>0.134650</td>\n",
       "      <td>0.000000</td>\n",
       "      <td>0.000000</td>\n",
       "      <td>0.030000</td>\n",
       "      <td>0.000000</td>\n",
       "      <td>0.000000</td>\n",
       "      <td>...</td>\n",
       "      <td>3.001150</td>\n",
       "      <td>12.000000</td>\n",
       "      <td>272.860000</td>\n",
       "      <td>518.000000</td>\n",
       "      <td>15.537500</td>\n",
       "      <td>1901.000000</td>\n",
       "      <td>32.894714</td>\n",
       "      <td>-107.723281</td>\n",
       "      <td>0.963353</td>\n",
       "      <td>1.362937</td>\n",
       "    </tr>\n",
       "    <tr>\n",
       "      <th>max</th>\n",
       "      <td>0.192700</td>\n",
       "      <td>7.326500</td>\n",
       "      <td>2.553300</td>\n",
       "      <td>0.656100</td>\n",
       "      <td>4.382100</td>\n",
       "      <td>6.723300</td>\n",
       "      <td>9.758400</td>\n",
       "      <td>2.900000</td>\n",
       "      <td>4.769700</td>\n",
       "      <td>4.471900</td>\n",
       "      <td>...</td>\n",
       "      <td>9.758400</td>\n",
       "      <td>20.000000</td>\n",
       "      <td>774.840000</td>\n",
       "      <td>620.000000</td>\n",
       "      <td>17.312500</td>\n",
       "      <td>2518.000000</td>\n",
       "      <td>34.037969</td>\n",
       "      <td>-105.354701</td>\n",
       "      <td>2.318525</td>\n",
       "      <td>1.796301</td>\n",
       "    </tr>\n",
       "  </tbody>\n",
       "</table>\n",
       "<p>8 rows × 21 columns</p>\n",
       "</div>"
      ],
      "text/plain": [
       "        Euphorbia   Phaseolus     Setaria  Cyperus.fendlerianus     Quercus  \\\n",
       "count  319.000000  319.000000  319.000000            319.000000  318.000000   \n",
       "mean     0.002866    0.319438    0.024885              0.019694    0.391575   \n",
       "std      0.018548    1.021767    0.196809              0.075140    0.873040   \n",
       "min      0.000000    0.000000    0.000000              0.000000    0.000000   \n",
       "25%      0.000000    0.000000    0.000000              0.000000    0.000000   \n",
       "50%      0.000000    0.000000    0.000000              0.000000    0.000000   \n",
       "75%      0.000000    0.091750    0.000000              0.000550    0.134650   \n",
       "max      0.192700    7.326500    2.553300              0.656100    4.382100   \n",
       "\n",
       "         Cyp.bulb      Oxalis    Insectos  Paspalum.distichum    Physalis  \\\n",
       "count  317.000000  319.000000  319.000000          319.000000  319.000000   \n",
       "mean     0.194748    0.097181    0.113014            0.069161    0.035234   \n",
       "std      0.626539    0.681455    0.384408            0.456589    0.303878   \n",
       "min      0.000000    0.000000    0.000000            0.000000    0.000000   \n",
       "25%      0.000000    0.000000    0.000000            0.000000    0.000000   \n",
       "50%      0.000000    0.000000    0.000000            0.000000    0.000000   \n",
       "75%      0.000000    0.000000    0.030000            0.000000    0.000000   \n",
       "max      6.723300    9.758400    2.900000            4.769700    4.471900   \n",
       "\n",
       "       ...  peso total       covey  dist camino   ppanual17    tmedia17  \\\n",
       "count  ...  319.000000  190.000000   221.000000  221.000000  221.000000   \n",
       "mean   ...    2.084231    9.178947   207.466742  436.755656   13.860351   \n",
       "std    ...    1.718818    3.779586   178.331358   78.965781    2.093009   \n",
       "min    ...    0.000000    1.000000     6.400000  235.000000    7.054167   \n",
       "25%    ...    0.704350    6.000000    81.820000  376.000000   12.379167   \n",
       "50%    ...    1.776000   10.000000   171.920000  422.000000   14.354167   \n",
       "75%    ...    3.001150   12.000000   272.860000  518.000000   15.537500   \n",
       "max    ...    9.758400   20.000000   774.840000  620.000000   17.312500   \n",
       "\n",
       "           altitud         lat         lon       hcrop       hland  \n",
       "count   221.000000  221.000000  221.000000  319.000000  220.000000  \n",
       "mean   1709.475113   32.221751 -108.935298    0.645314    1.044265  \n",
       "std     224.818989    0.815692    1.534481    0.528932    0.360545  \n",
       "min    1206.000000   31.343850 -111.072099    0.000000    0.222691  \n",
       "25%    1567.000000   31.479233 -110.585248    0.181204    0.783493  \n",
       "50%    1658.000000   31.791366 -108.940734    0.579030    1.057318  \n",
       "75%    1901.000000   32.894714 -107.723281    0.963353    1.362937  \n",
       "max    2518.000000   34.037969 -105.354701    2.318525    1.796301  \n",
       "\n",
       "[8 rows x 21 columns]"
      ]
     },
     "execution_count": 109,
     "metadata": {},
     "output_type": "execute_result"
    }
   ],
   "source": [
    "df_grouped.describe()"
   ]
  },
  {
   "cell_type": "code",
   "execution_count": 113,
   "metadata": {},
   "outputs": [],
   "source": [
    "corr_matrix = df_grouped.select_dtypes(include='number').corr()"
   ]
  },
  {
   "cell_type": "code",
   "execution_count": 121,
   "metadata": {},
   "outputs": [
    {
     "data": {
      "image/png": "[encoded data removed]",
      "text/plain": [
       "<Figure size 1500x1000 with 2 Axes>"
      ]
     },
     "metadata": {},
     "output_type": "display_data"
    }
   ],
   "source": [
    "# Crear el mapa de calor de correlaciones\n",
    "plt.figure(figsize=(15, 10))\n",
    "sns.heatmap(corr_matrix, annot=True, cmap='coolwarm', fmt=\".2f\")\n",
    "plt.title('Mapa de Calor de Correlaciones')\n",
    "plt.show()"
   ]
  },
  {
   "cell_type": "code",
   "execution_count": null,
   "metadata": {},
   "outputs": [],
   "source": []
  }
 ],
 "metadata": {
  "kernelspec": {
   "display_name": "agricultura",
   "language": "python",
   "name": "python3"
  },
  "language_info": {
   "codemirror_mode": {
    "name": "ipython",
    "version": 3
   },
   "file_extension": ".py",
   "mimetype": "text/x-python",
   "name": "python",
   "nbconvert_exporter": "python",
   "pygments_lexer": "ipython3",
   "version": "3.12.1"
  }
 },
 "nbformat": 4,
 "nbformat_minor": 2
}
