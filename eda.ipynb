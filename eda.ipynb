{
 "cells": [
  {
   "cell_type": "code",
   "execution_count": 263,
   "metadata": {},
   "outputs": [],
   "source": [
    "import pandas as pd\n",
    "import numpy as np\n",
    "import matplotlib.pyplot as plt\n",
    "import plotly.express as px\n",
    "from datetime import datetime, time"
   ]
  },
  {
   "cell_type": "markdown",
   "metadata": {},
   "source": [
    "## Datos"
   ]
  },
  {
   "cell_type": "code",
   "execution_count": 264,
   "metadata": {},
   "outputs": [
    {
     "data": {
      "text/plain": [
       "(319, 146)"
      ]
     },
     "execution_count": 264,
     "metadata": {},
     "output_type": "execute_result"
    }
   ],
   "source": [
    "df = pd.read_excel('./dieta_oscar_MCD.xlsx')\n",
    "df.shape"
   ]
  },
  {
   "cell_type": "code",
   "execution_count": 265,
   "metadata": {},
   "outputs": [
    {
     "data": {
      "text/html": [
       "<div>\n",
       "<style scoped>\n",
       "    .dataframe tbody tr th:only-of-type {\n",
       "        vertical-align: middle;\n",
       "    }\n",
       "\n",
       "    .dataframe tbody tr th {\n",
       "        vertical-align: top;\n",
       "    }\n",
       "\n",
       "    .dataframe thead th {\n",
       "        text-align: right;\n",
       "    }\n",
       "</style>\n",
       "<table border=\"1\" class=\"dataframe\">\n",
       "  <thead>\n",
       "    <tr style=\"text-align: right;\">\n",
       "      <th></th>\n",
       "      <th>id</th>\n",
       "      <th>edad</th>\n",
       "      <th>sexo</th>\n",
       "      <th>estado</th>\n",
       "      <th>peso total</th>\n",
       "      <th>Oxalis</th>\n",
       "      <th>Quercus</th>\n",
       "      <th>Cyp.bulb</th>\n",
       "      <th>Phaseolus</th>\n",
       "      <th>Tephoria</th>\n",
       "      <th>...</th>\n",
       "      <th>covey</th>\n",
       "      <th>dist camino</th>\n",
       "      <th>ppanual17</th>\n",
       "      <th>tmedia17</th>\n",
       "      <th>altitud</th>\n",
       "      <th>lat</th>\n",
       "      <th>lon</th>\n",
       "      <th>hcrop</th>\n",
       "      <th>hland</th>\n",
       "      <th>gap</th>\n",
       "    </tr>\n",
       "  </thead>\n",
       "  <tbody>\n",
       "    <tr>\n",
       "      <th>45</th>\n",
       "      <td>2016-180</td>\n",
       "      <td>NaN</td>\n",
       "      <td>Female</td>\n",
       "      <td>AZ</td>\n",
       "      <td>2.9144</td>\n",
       "      <td>0.0000</td>\n",
       "      <td>2.7436</td>\n",
       "      <td>0.0000</td>\n",
       "      <td>0.0875</td>\n",
       "      <td>0.0000</td>\n",
       "      <td>...</td>\n",
       "      <td>NaN</td>\n",
       "      <td>NaN</td>\n",
       "      <td>NaN</td>\n",
       "      <td>NaN</td>\n",
       "      <td>NaN</td>\n",
       "      <td>NaN</td>\n",
       "      <td>NaN</td>\n",
       "      <td>0.263718</td>\n",
       "      <td>NaN</td>\n",
       "      <td>NaN</td>\n",
       "    </tr>\n",
       "    <tr>\n",
       "      <th>138</th>\n",
       "      <td>2016-120</td>\n",
       "      <td>J</td>\n",
       "      <td>Male</td>\n",
       "      <td>AZ</td>\n",
       "      <td>3.2824</td>\n",
       "      <td>0.0000</td>\n",
       "      <td>0.0000</td>\n",
       "      <td>0.0000</td>\n",
       "      <td>2.9940</td>\n",
       "      <td>0.0517</td>\n",
       "      <td>...</td>\n",
       "      <td>NaN</td>\n",
       "      <td>111.82</td>\n",
       "      <td>520.0</td>\n",
       "      <td>15.5375</td>\n",
       "      <td>1558.0</td>\n",
       "      <td>31.484718</td>\n",
       "      <td>-110.602862</td>\n",
       "      <td>0.390418</td>\n",
       "      <td>1.395863</td>\n",
       "      <td>Apacherian-Chihuahuan Mesquite Upland Scrub</td>\n",
       "    </tr>\n",
       "    <tr>\n",
       "      <th>12</th>\n",
       "      <td>2016-171</td>\n",
       "      <td>NaN</td>\n",
       "      <td>Female</td>\n",
       "      <td>AZ</td>\n",
       "      <td>3.8346</td>\n",
       "      <td>0.2531</td>\n",
       "      <td>2.3085</td>\n",
       "      <td>0.4103</td>\n",
       "      <td>0.1158</td>\n",
       "      <td>0.0000</td>\n",
       "      <td>...</td>\n",
       "      <td>NaN</td>\n",
       "      <td>NaN</td>\n",
       "      <td>NaN</td>\n",
       "      <td>NaN</td>\n",
       "      <td>NaN</td>\n",
       "      <td>NaN</td>\n",
       "      <td>NaN</td>\n",
       "      <td>1.378614</td>\n",
       "      <td>NaN</td>\n",
       "      <td>NaN</td>\n",
       "    </tr>\n",
       "  </tbody>\n",
       "</table>\n",
       "<p>3 rows × 146 columns</p>\n",
       "</div>"
      ],
      "text/plain": [
       "           id edad    sexo estado  peso total  Oxalis  Quercus  Cyp.bulb  \\\n",
       "45   2016-180  NaN  Female     AZ      2.9144  0.0000   2.7436    0.0000   \n",
       "138  2016-120    J    Male     AZ      3.2824  0.0000   0.0000    0.0000   \n",
       "12   2016-171  NaN  Female     AZ      3.8346  0.2531   2.3085    0.4103   \n",
       "\n",
       "     Phaseolus  Tephoria  ...  covey  dist camino  ppanual17  tmedia17  \\\n",
       "45      0.0875    0.0000  ...    NaN          NaN        NaN       NaN   \n",
       "138     2.9940    0.0517  ...    NaN       111.82      520.0   15.5375   \n",
       "12      0.1158    0.0000  ...    NaN          NaN        NaN       NaN   \n",
       "\n",
       "     altitud        lat         lon     hcrop     hland  \\\n",
       "45       NaN        NaN         NaN  0.263718       NaN   \n",
       "138   1558.0  31.484718 -110.602862  0.390418  1.395863   \n",
       "12       NaN        NaN         NaN  1.378614       NaN   \n",
       "\n",
       "                                             gap  \n",
       "45                                           NaN  \n",
       "138  Apacherian-Chihuahuan Mesquite Upland Scrub  \n",
       "12                                           NaN  \n",
       "\n",
       "[3 rows x 146 columns]"
      ]
     },
     "execution_count": 265,
     "metadata": {},
     "output_type": "execute_result"
    }
   ],
   "source": [
    "df.sample(3)"
   ]
  },
  {
   "cell_type": "markdown",
   "metadata": {},
   "source": [
    "## Separacion de datos"
   ]
  },
  {
   "cell_type": "code",
   "execution_count": 266,
   "metadata": {},
   "outputs": [],
   "source": [
    "columnas = df.columns.to_list()\n",
    "\n",
    "var_name = columnas[:5] + columnas[-11:]\n",
    "vars_dieta_codorniz = columnas[5:-11]"
   ]
  },
  {
   "cell_type": "code",
   "execution_count": 267,
   "metadata": {},
   "outputs": [
    {
     "data": {
      "text/html": [
       "<div>\n",
       "<style scoped>\n",
       "    .dataframe tbody tr th:only-of-type {\n",
       "        vertical-align: middle;\n",
       "    }\n",
       "\n",
       "    .dataframe tbody tr th {\n",
       "        vertical-align: top;\n",
       "    }\n",
       "\n",
       "    .dataframe thead th {\n",
       "        text-align: right;\n",
       "    }\n",
       "</style>\n",
       "<table border=\"1\" class=\"dataframe\">\n",
       "  <thead>\n",
       "    <tr style=\"text-align: right;\">\n",
       "      <th></th>\n",
       "      <th>Oxalis</th>\n",
       "      <th>Quercus</th>\n",
       "      <th>Cyp.bulb</th>\n",
       "      <th>Phaseolus</th>\n",
       "      <th>Tephoria</th>\n",
       "      <th>Caracoles</th>\n",
       "      <th>Insectos</th>\n",
       "      <th>Physalis</th>\n",
       "      <th>Vitis.arizonica</th>\n",
       "      <th>Lupinus</th>\n",
       "      <th>...</th>\n",
       "      <th>Bothriochloa.1</th>\n",
       "      <th>Euphorbia.2</th>\n",
       "      <th>SPA60</th>\n",
       "      <th>SPA61</th>\n",
       "      <th>SPA62</th>\n",
       "      <th>Phaseolus.1</th>\n",
       "      <th>SPA64</th>\n",
       "      <th>SPA65</th>\n",
       "      <th>Arachnida</th>\n",
       "      <th>Juniperus prob. deppeana</th>\n",
       "    </tr>\n",
       "  </thead>\n",
       "  <tbody>\n",
       "    <tr>\n",
       "      <th>128</th>\n",
       "      <td>0.0</td>\n",
       "      <td>0.0000</td>\n",
       "      <td>0.0000</td>\n",
       "      <td>1.9805</td>\n",
       "      <td>0.1370</td>\n",
       "      <td>0.0</td>\n",
       "      <td>0.0000</td>\n",
       "      <td>0.0</td>\n",
       "      <td>0.0</td>\n",
       "      <td>0.0</td>\n",
       "      <td>...</td>\n",
       "      <td>0.0</td>\n",
       "      <td>0.0</td>\n",
       "      <td>0.0</td>\n",
       "      <td>0.0</td>\n",
       "      <td>0.0</td>\n",
       "      <td>0.0</td>\n",
       "      <td>0.0</td>\n",
       "      <td>0.0</td>\n",
       "      <td>0.0</td>\n",
       "      <td>0.0</td>\n",
       "    </tr>\n",
       "    <tr>\n",
       "      <th>84</th>\n",
       "      <td>0.0</td>\n",
       "      <td>0.6117</td>\n",
       "      <td>0.0000</td>\n",
       "      <td>0.0000</td>\n",
       "      <td>0.0000</td>\n",
       "      <td>0.0</td>\n",
       "      <td>0.0827</td>\n",
       "      <td>0.0</td>\n",
       "      <td>0.0</td>\n",
       "      <td>0.0</td>\n",
       "      <td>...</td>\n",
       "      <td>0.0</td>\n",
       "      <td>0.0</td>\n",
       "      <td>0.0</td>\n",
       "      <td>0.0</td>\n",
       "      <td>0.0</td>\n",
       "      <td>0.0</td>\n",
       "      <td>0.0</td>\n",
       "      <td>0.0</td>\n",
       "      <td>0.0</td>\n",
       "      <td>0.0</td>\n",
       "    </tr>\n",
       "    <tr>\n",
       "      <th>171</th>\n",
       "      <td>0.0</td>\n",
       "      <td>0.0000</td>\n",
       "      <td>0.2863</td>\n",
       "      <td>0.1707</td>\n",
       "      <td>0.0813</td>\n",
       "      <td>0.0</td>\n",
       "      <td>0.0000</td>\n",
       "      <td>0.0</td>\n",
       "      <td>0.0</td>\n",
       "      <td>0.0</td>\n",
       "      <td>...</td>\n",
       "      <td>0.0</td>\n",
       "      <td>0.0</td>\n",
       "      <td>0.0</td>\n",
       "      <td>0.0</td>\n",
       "      <td>0.0</td>\n",
       "      <td>0.0</td>\n",
       "      <td>0.0</td>\n",
       "      <td>0.0</td>\n",
       "      <td>0.0</td>\n",
       "      <td>0.0</td>\n",
       "    </tr>\n",
       "  </tbody>\n",
       "</table>\n",
       "<p>3 rows × 130 columns</p>\n",
       "</div>"
      ],
      "text/plain": [
       "     Oxalis  Quercus  Cyp.bulb  Phaseolus  Tephoria  Caracoles  Insectos  \\\n",
       "128     0.0   0.0000    0.0000     1.9805    0.1370        0.0    0.0000   \n",
       "84      0.0   0.6117    0.0000     0.0000    0.0000        0.0    0.0827   \n",
       "171     0.0   0.0000    0.2863     0.1707    0.0813        0.0    0.0000   \n",
       "\n",
       "     Physalis  Vitis.arizonica  Lupinus  ...  Bothriochloa.1  Euphorbia.2  \\\n",
       "128       0.0              0.0      0.0  ...             0.0          0.0   \n",
       "84        0.0              0.0      0.0  ...             0.0          0.0   \n",
       "171       0.0              0.0      0.0  ...             0.0          0.0   \n",
       "\n",
       "     SPA60  SPA61  SPA62  Phaseolus.1  SPA64  SPA65  Arachnida  \\\n",
       "128    0.0    0.0    0.0          0.0    0.0    0.0        0.0   \n",
       "84     0.0    0.0    0.0          0.0    0.0    0.0        0.0   \n",
       "171    0.0    0.0    0.0          0.0    0.0    0.0        0.0   \n",
       "\n",
       "     Juniperus prob. deppeana  \n",
       "128                       0.0  \n",
       "84                        0.0  \n",
       "171                       0.0  \n",
       "\n",
       "[3 rows x 130 columns]"
      ]
     },
     "execution_count": 267,
     "metadata": {},
     "output_type": "execute_result"
    }
   ],
   "source": [
    "df[vars_dieta_codorniz].sample(3)"
   ]
  },
  {
   "cell_type": "code",
   "execution_count": 268,
   "metadata": {},
   "outputs": [
    {
     "data": {
      "text/html": [
       "<div>\n",
       "<style scoped>\n",
       "    .dataframe tbody tr th:only-of-type {\n",
       "        vertical-align: middle;\n",
       "    }\n",
       "\n",
       "    .dataframe tbody tr th {\n",
       "        vertical-align: top;\n",
       "    }\n",
       "\n",
       "    .dataframe thead th {\n",
       "        text-align: right;\n",
       "    }\n",
       "</style>\n",
       "<table border=\"1\" class=\"dataframe\">\n",
       "  <thead>\n",
       "    <tr style=\"text-align: right;\">\n",
       "      <th></th>\n",
       "      <th>id</th>\n",
       "      <th>edad</th>\n",
       "      <th>sexo</th>\n",
       "      <th>estado</th>\n",
       "      <th>peso total</th>\n",
       "      <th>time</th>\n",
       "      <th>covey</th>\n",
       "      <th>dist camino</th>\n",
       "      <th>ppanual17</th>\n",
       "      <th>tmedia17</th>\n",
       "      <th>altitud</th>\n",
       "      <th>lat</th>\n",
       "      <th>lon</th>\n",
       "      <th>hcrop</th>\n",
       "      <th>hland</th>\n",
       "      <th>gap</th>\n",
       "    </tr>\n",
       "  </thead>\n",
       "  <tbody>\n",
       "    <tr>\n",
       "      <th>281</th>\n",
       "      <td>2014-97</td>\n",
       "      <td>A</td>\n",
       "      <td>Female</td>\n",
       "      <td>NM</td>\n",
       "      <td>1.3161</td>\n",
       "      <td>1200.0</td>\n",
       "      <td>NaN</td>\n",
       "      <td>NaN</td>\n",
       "      <td>NaN</td>\n",
       "      <td>NaN</td>\n",
       "      <td>NaN</td>\n",
       "      <td>NaN</td>\n",
       "      <td>NaN</td>\n",
       "      <td>0.275509</td>\n",
       "      <td>NaN</td>\n",
       "      <td>NaN</td>\n",
       "    </tr>\n",
       "    <tr>\n",
       "      <th>193</th>\n",
       "      <td>2014-1</td>\n",
       "      <td>A</td>\n",
       "      <td>Male</td>\n",
       "      <td>NM</td>\n",
       "      <td>3.3387</td>\n",
       "      <td>1430.0</td>\n",
       "      <td>8.0</td>\n",
       "      <td>97.11</td>\n",
       "      <td>422.0</td>\n",
       "      <td>14.220833</td>\n",
       "      <td>1694.0</td>\n",
       "      <td>31.512000</td>\n",
       "      <td>-108.979722</td>\n",
       "      <td>0.547430</td>\n",
       "      <td>1.062829</td>\n",
       "      <td>Apacherian-Chihuahuan Piedmont Semi-Desert Gra...</td>\n",
       "    </tr>\n",
       "    <tr>\n",
       "      <th>250</th>\n",
       "      <td>2014-59</td>\n",
       "      <td>J</td>\n",
       "      <td>Female</td>\n",
       "      <td>NM</td>\n",
       "      <td>2.5646</td>\n",
       "      <td>1500.0</td>\n",
       "      <td>10.0</td>\n",
       "      <td>611.16</td>\n",
       "      <td>347.0</td>\n",
       "      <td>14.020833</td>\n",
       "      <td>1643.0</td>\n",
       "      <td>32.381441</td>\n",
       "      <td>-108.357641</td>\n",
       "      <td>0.843341</td>\n",
       "      <td>0.688753</td>\n",
       "      <td>Apacherian-Chihuahuan Piedmont Semi-Desert Gra...</td>\n",
       "    </tr>\n",
       "  </tbody>\n",
       "</table>\n",
       "</div>"
      ],
      "text/plain": [
       "          id edad    sexo estado  peso total    time  covey  dist camino  \\\n",
       "281  2014-97    A  Female     NM      1.3161  1200.0    NaN          NaN   \n",
       "193   2014-1    A    Male     NM      3.3387  1430.0    8.0        97.11   \n",
       "250  2014-59    J  Female     NM      2.5646  1500.0   10.0       611.16   \n",
       "\n",
       "     ppanual17   tmedia17  altitud        lat         lon     hcrop     hland  \\\n",
       "281        NaN        NaN      NaN        NaN         NaN  0.275509       NaN   \n",
       "193      422.0  14.220833   1694.0  31.512000 -108.979722  0.547430  1.062829   \n",
       "250      347.0  14.020833   1643.0  32.381441 -108.357641  0.843341  0.688753   \n",
       "\n",
       "                                                   gap  \n",
       "281                                                NaN  \n",
       "193  Apacherian-Chihuahuan Piedmont Semi-Desert Gra...  \n",
       "250  Apacherian-Chihuahuan Piedmont Semi-Desert Gra...  "
      ]
     },
     "execution_count": 268,
     "metadata": {},
     "output_type": "execute_result"
    }
   ],
   "source": [
    "df[var_name].sample(3)"
   ]
  },
  {
   "cell_type": "markdown",
   "metadata": {},
   "source": [
    "## Transformación"
   ]
  },
  {
   "cell_type": "code",
   "execution_count": 269,
   "metadata": {},
   "outputs": [
    {
     "data": {
      "text/plain": [
       "edad\n",
       "J      165\n",
       "NaN     87\n",
       "A       67\n",
       "Name: count, dtype: int64"
      ]
     },
     "execution_count": 269,
     "metadata": {},
     "output_type": "execute_result"
    }
   ],
   "source": [
    "df['edad'].value_counts(dropna=False)"
   ]
  },
  {
   "cell_type": "code",
   "execution_count": 270,
   "metadata": {},
   "outputs": [],
   "source": [
    "# Variable: time\n",
    "# Pasa el formato actual a tipo time con formato hh:mm:ss\n",
    "def convertir_a_formato_de_24_horas(valor):\n",
    "    if pd.isna(valor):\n",
    "        return np.nan\n",
    "    horas, minutos = divmod(int(valor), 100)\n",
    "    return time(horas, minutos)\n",
    "\n",
    "df['time'] = df['time'].apply(convertir_a_formato_de_24_horas)\n"
   ]
  },
  {
   "cell_type": "code",
   "execution_count": 271,
   "metadata": {},
   "outputs": [
    {
     "data": {
      "text/html": [
       "<div>\n",
       "<style scoped>\n",
       "    .dataframe tbody tr th:only-of-type {\n",
       "        vertical-align: middle;\n",
       "    }\n",
       "\n",
       "    .dataframe tbody tr th {\n",
       "        vertical-align: top;\n",
       "    }\n",
       "\n",
       "    .dataframe thead th {\n",
       "        text-align: right;\n",
       "    }\n",
       "</style>\n",
       "<table border=\"1\" class=\"dataframe\">\n",
       "  <thead>\n",
       "    <tr style=\"text-align: right;\">\n",
       "      <th></th>\n",
       "      <th>id</th>\n",
       "      <th>edad</th>\n",
       "      <th>sexo</th>\n",
       "      <th>estado</th>\n",
       "      <th>peso total</th>\n",
       "      <th>time</th>\n",
       "      <th>covey</th>\n",
       "      <th>dist camino</th>\n",
       "      <th>ppanual17</th>\n",
       "      <th>tmedia17</th>\n",
       "      <th>altitud</th>\n",
       "      <th>lat</th>\n",
       "      <th>lon</th>\n",
       "      <th>hcrop</th>\n",
       "      <th>hland</th>\n",
       "      <th>gap</th>\n",
       "    </tr>\n",
       "  </thead>\n",
       "  <tbody>\n",
       "    <tr>\n",
       "      <th>155</th>\n",
       "      <td>2016-155</td>\n",
       "      <td>A</td>\n",
       "      <td>Female</td>\n",
       "      <td>AZ</td>\n",
       "      <td>0.33350</td>\n",
       "      <td>10:30:00</td>\n",
       "      <td>5.0</td>\n",
       "      <td>30.91</td>\n",
       "      <td>529.0</td>\n",
       "      <td>15.3750</td>\n",
       "      <td>1531.0</td>\n",
       "      <td>31.428275</td>\n",
       "      <td>-110.632926</td>\n",
       "      <td>0.138835</td>\n",
       "      <td>1.044944</td>\n",
       "      <td>Apacherian-Chihuahuan Piedmont Semi-Desert Gra...</td>\n",
       "    </tr>\n",
       "    <tr>\n",
       "      <th>279</th>\n",
       "      <td>2014-95</td>\n",
       "      <td>J</td>\n",
       "      <td>Male</td>\n",
       "      <td>NM</td>\n",
       "      <td>1.59070</td>\n",
       "      <td>12:00:00</td>\n",
       "      <td>NaN</td>\n",
       "      <td>NaN</td>\n",
       "      <td>NaN</td>\n",
       "      <td>NaN</td>\n",
       "      <td>NaN</td>\n",
       "      <td>NaN</td>\n",
       "      <td>NaN</td>\n",
       "      <td>0.170279</td>\n",
       "      <td>NaN</td>\n",
       "      <td>NaN</td>\n",
       "    </tr>\n",
       "    <tr>\n",
       "      <th>85</th>\n",
       "      <td>2016-220</td>\n",
       "      <td>NaN</td>\n",
       "      <td>Female</td>\n",
       "      <td>AZ</td>\n",
       "      <td>1.21210</td>\n",
       "      <td>NaN</td>\n",
       "      <td>NaN</td>\n",
       "      <td>NaN</td>\n",
       "      <td>NaN</td>\n",
       "      <td>NaN</td>\n",
       "      <td>NaN</td>\n",
       "      <td>NaN</td>\n",
       "      <td>NaN</td>\n",
       "      <td>0.903811</td>\n",
       "      <td>NaN</td>\n",
       "      <td>NaN</td>\n",
       "    </tr>\n",
       "    <tr>\n",
       "      <th>254</th>\n",
       "      <td>2014-62</td>\n",
       "      <td>J</td>\n",
       "      <td>Male</td>\n",
       "      <td>NM</td>\n",
       "      <td>2.60119</td>\n",
       "      <td>15:30:00</td>\n",
       "      <td>10.0</td>\n",
       "      <td>316.65</td>\n",
       "      <td>410.0</td>\n",
       "      <td>9.2625</td>\n",
       "      <td>2066.0</td>\n",
       "      <td>33.396185</td>\n",
       "      <td>-108.106088</td>\n",
       "      <td>1.116840</td>\n",
       "      <td>0.783493</td>\n",
       "      <td>Colorado Plateau Pinyon-Juniper Woodland</td>\n",
       "    </tr>\n",
       "    <tr>\n",
       "      <th>82</th>\n",
       "      <td>2016-201</td>\n",
       "      <td>NaN</td>\n",
       "      <td>NaN</td>\n",
       "      <td>AZ</td>\n",
       "      <td>1.07230</td>\n",
       "      <td>NaN</td>\n",
       "      <td>NaN</td>\n",
       "      <td>NaN</td>\n",
       "      <td>NaN</td>\n",
       "      <td>NaN</td>\n",
       "      <td>NaN</td>\n",
       "      <td>NaN</td>\n",
       "      <td>NaN</td>\n",
       "      <td>0.836129</td>\n",
       "      <td>NaN</td>\n",
       "      <td>NaN</td>\n",
       "    </tr>\n",
       "  </tbody>\n",
       "</table>\n",
       "</div>"
      ],
      "text/plain": [
       "           id edad    sexo estado  peso total      time  covey  dist camino  \\\n",
       "155  2016-155    A  Female     AZ     0.33350  10:30:00    5.0        30.91   \n",
       "279   2014-95    J    Male     NM     1.59070  12:00:00    NaN          NaN   \n",
       "85   2016-220  NaN  Female     AZ     1.21210       NaN    NaN          NaN   \n",
       "254   2014-62    J    Male     NM     2.60119  15:30:00   10.0       316.65   \n",
       "82   2016-201  NaN     NaN     AZ     1.07230       NaN    NaN          NaN   \n",
       "\n",
       "     ppanual17  tmedia17  altitud        lat         lon     hcrop     hland  \\\n",
       "155      529.0   15.3750   1531.0  31.428275 -110.632926  0.138835  1.044944   \n",
       "279        NaN       NaN      NaN        NaN         NaN  0.170279       NaN   \n",
       "85         NaN       NaN      NaN        NaN         NaN  0.903811       NaN   \n",
       "254      410.0    9.2625   2066.0  33.396185 -108.106088  1.116840  0.783493   \n",
       "82         NaN       NaN      NaN        NaN         NaN  0.836129       NaN   \n",
       "\n",
       "                                                   gap  \n",
       "155  Apacherian-Chihuahuan Piedmont Semi-Desert Gra...  \n",
       "279                                                NaN  \n",
       "85                                                 NaN  \n",
       "254           Colorado Plateau Pinyon-Juniper Woodland  \n",
       "82                                                 NaN  "
      ]
     },
     "execution_count": 271,
     "metadata": {},
     "output_type": "execute_result"
    }
   ],
   "source": [
    "df[var_name].sample(5)"
   ]
  },
  {
   "cell_type": "code",
   "execution_count": 272,
   "metadata": {},
   "outputs": [
    {
     "name": "stdout",
     "output_type": "stream",
     "text": [
      "Estado:  ['NM' 'AZ' 'Az']\n",
      "Sexo:  ['Female' 'Male' nan 'male' 'Male ']\n"
     ]
    }
   ],
   "source": [
    "print('Estado: ',(df['estado'].unique()))\n",
    "print('Sexo: ',(df['sexo'].unique()))"
   ]
  },
  {
   "cell_type": "code",
   "execution_count": 273,
   "metadata": {},
   "outputs": [
    {
     "data": {
      "text/plain": [
       "estado\n",
       "AZ    177\n",
       "NM    142\n",
       "Name: count, dtype: int64"
      ]
     },
     "execution_count": 273,
     "metadata": {},
     "output_type": "execute_result"
    }
   ],
   "source": [
    "df['estado'] = df['estado'].str.upper()\n",
    "df['estado'].value_counts(dropna=False)"
   ]
  },
  {
   "cell_type": "code",
   "execution_count": 274,
   "metadata": {},
   "outputs": [
    {
     "data": {
      "text/plain": [
       "sexo\n",
       "Male      173\n",
       "Female    104\n",
       "NaN        42\n",
       "Name: count, dtype: int64"
      ]
     },
     "execution_count": 274,
     "metadata": {},
     "output_type": "execute_result"
    }
   ],
   "source": [
    "df['sexo'] = df['sexo'].apply(lambda x: x.strip().capitalize() if pd.notna(x) else x)\n",
    "df['sexo'].value_counts(dropna=False)"
   ]
  },
  {
   "cell_type": "code",
   "execution_count": 275,
   "metadata": {},
   "outputs": [
    {
     "data": {
      "text/plain": [
       "dist camino\n",
       "False    221\n",
       "True      98\n",
       "Name: count, dtype: int64"
      ]
     },
     "execution_count": 275,
     "metadata": {},
     "output_type": "execute_result"
    }
   ],
   "source": [
    "df['dist camino'].isna().value_counts(dropna=False)"
   ]
  },
  {
   "cell_type": "markdown",
   "metadata": {},
   "source": [
    "### Valores vacios"
   ]
  },
  {
   "cell_type": "code",
   "execution_count": 276,
   "metadata": {},
   "outputs": [
    {
     "data": {
      "application/vnd.plotly.v1+json": {
       "config": {
        "plotlyServerURL": "https://plot.ly"
       },
       "data": [
        {
         "alignmentgroup": "True",
         "hovertemplate": "Variables=%{x}<br>Cantidad de NaN=%{y}<extra></extra>",
         "legendgroup": "",
         "marker": {
          "color": "#636efa",
          "pattern": {
           "shape": ""
          }
         },
         "name": "",
         "offsetgroup": "",
         "orientation": "v",
         "showlegend": false,
         "textposition": "auto",
         "type": "bar",
         "x": [
          "edad",
          "sexo",
          "Quercus",
          "Cyp.bulb",
          "Lotus.wrightii",
          "Fabacea",
          "SP34",
          "SPA33",
          "SPA55",
          "Bothriochloa.1",
          "time",
          "covey",
          "dist camino",
          "ppanual17",
          "tmedia17",
          "altitud",
          "lat",
          "lon",
          "hland",
          "gap"
         ],
         "xaxis": "x",
         "y": [
          87,
          42,
          1,
          2,
          1,
          1,
          1,
          1,
          2,
          1,
          87,
          129,
          98,
          98,
          98,
          98,
          98,
          98,
          99,
          98
         ],
         "yaxis": "y"
        }
       ],
       "layout": {
        "barmode": "relative",
        "legend": {
         "tracegroupgap": 0
        },
        "template": {
         "data": {
          "bar": [
           {
            "error_x": {
             "color": "#2a3f5f"
            },
            "error_y": {
             "color": "#2a3f5f"
            },
            "marker": {
             "line": {
              "color": "#E5ECF6",
              "width": 0.5
             },
             "pattern": {
              "fillmode": "overlay",
              "size": 10,
              "solidity": 0.2
             }
            },
            "type": "bar"
           }
          ],
          "barpolar": [
           {
            "marker": {
             "line": {
              "color": "#E5ECF6",
              "width": 0.5
             },
             "pattern": {
              "fillmode": "overlay",
              "size": 10,
              "solidity": 0.2
             }
            },
            "type": "barpolar"
           }
          ],
          "carpet": [
           {
            "aaxis": {
             "endlinecolor": "#2a3f5f",
             "gridcolor": "white",
             "linecolor": "white",
             "minorgridcolor": "white",
             "startlinecolor": "#2a3f5f"
            },
            "baxis": {
             "endlinecolor": "#2a3f5f",
             "gridcolor": "white",
             "linecolor": "white",
             "minorgridcolor": "white",
             "startlinecolor": "#2a3f5f"
            },
            "type": "carpet"
           }
          ],
          "choropleth": [
           {
            "colorbar": {
             "outlinewidth": 0,
             "ticks": ""
            },
            "type": "choropleth"
           }
          ],
          "contour": [
           {
            "colorbar": {
             "outlinewidth": 0,
             "ticks": ""
            },
            "colorscale": [
             [
              0,
              "#0d0887"
             ],
             [
              0.1111111111111111,
              "#46039f"
             ],
             [
              0.2222222222222222,
              "#7201a8"
             ],
             [
              0.3333333333333333,
              "#9c179e"
             ],
             [
              0.4444444444444444,
              "#bd3786"
             ],
             [
              0.5555555555555556,
              "#d8576b"
             ],
             [
              0.6666666666666666,
              "#ed7953"
             ],
             [
              0.7777777777777778,
              "#fb9f3a"
             ],
             [
              0.8888888888888888,
              "#fdca26"
             ],
             [
              1,
              "#f0f921"
             ]
            ],
            "type": "contour"
           }
          ],
          "contourcarpet": [
           {
            "colorbar": {
             "outlinewidth": 0,
             "ticks": ""
            },
            "type": "contourcarpet"
           }
          ],
          "heatmap": [
           {
            "colorbar": {
             "outlinewidth": 0,
             "ticks": ""
            },
            "colorscale": [
             [
              0,
              "#0d0887"
             ],
             [
              0.1111111111111111,
              "#46039f"
             ],
             [
              0.2222222222222222,
              "#7201a8"
             ],
             [
              0.3333333333333333,
              "#9c179e"
             ],
             [
              0.4444444444444444,
              "#bd3786"
             ],
             [
              0.5555555555555556,
              "#d8576b"
             ],
             [
              0.6666666666666666,
              "#ed7953"
             ],
             [
              0.7777777777777778,
              "#fb9f3a"
             ],
             [
              0.8888888888888888,
              "#fdca26"
             ],
             [
              1,
              "#f0f921"
             ]
            ],
            "type": "heatmap"
           }
          ],
          "heatmapgl": [
           {
            "colorbar": {
             "outlinewidth": 0,
             "ticks": ""
            },
            "colorscale": [
             [
              0,
              "#0d0887"
             ],
             [
              0.1111111111111111,
              "#46039f"
             ],
             [
              0.2222222222222222,
              "#7201a8"
             ],
             [
              0.3333333333333333,
              "#9c179e"
             ],
             [
              0.4444444444444444,
              "#bd3786"
             ],
             [
              0.5555555555555556,
              "#d8576b"
             ],
             [
              0.6666666666666666,
              "#ed7953"
             ],
             [
              0.7777777777777778,
              "#fb9f3a"
             ],
             [
              0.8888888888888888,
              "#fdca26"
             ],
             [
              1,
              "#f0f921"
             ]
            ],
            "type": "heatmapgl"
           }
          ],
          "histogram": [
           {
            "marker": {
             "pattern": {
              "fillmode": "overlay",
              "size": 10,
              "solidity": 0.2
             }
            },
            "type": "histogram"
           }
          ],
          "histogram2d": [
           {
            "colorbar": {
             "outlinewidth": 0,
             "ticks": ""
            },
            "colorscale": [
             [
              0,
              "#0d0887"
             ],
             [
              0.1111111111111111,
              "#46039f"
             ],
             [
              0.2222222222222222,
              "#7201a8"
             ],
             [
              0.3333333333333333,
              "#9c179e"
             ],
             [
              0.4444444444444444,
              "#bd3786"
             ],
             [
              0.5555555555555556,
              "#d8576b"
             ],
             [
              0.6666666666666666,
              "#ed7953"
             ],
             [
              0.7777777777777778,
              "#fb9f3a"
             ],
             [
              0.8888888888888888,
              "#fdca26"
             ],
             [
              1,
              "#f0f921"
             ]
            ],
            "type": "histogram2d"
           }
          ],
          "histogram2dcontour": [
           {
            "colorbar": {
             "outlinewidth": 0,
             "ticks": ""
            },
            "colorscale": [
             [
              0,
              "#0d0887"
             ],
             [
              0.1111111111111111,
              "#46039f"
             ],
             [
              0.2222222222222222,
              "#7201a8"
             ],
             [
              0.3333333333333333,
              "#9c179e"
             ],
             [
              0.4444444444444444,
              "#bd3786"
             ],
             [
              0.5555555555555556,
              "#d8576b"
             ],
             [
              0.6666666666666666,
              "#ed7953"
             ],
             [
              0.7777777777777778,
              "#fb9f3a"
             ],
             [
              0.8888888888888888,
              "#fdca26"
             ],
             [
              1,
              "#f0f921"
             ]
            ],
            "type": "histogram2dcontour"
           }
          ],
          "mesh3d": [
           {
            "colorbar": {
             "outlinewidth": 0,
             "ticks": ""
            },
            "type": "mesh3d"
           }
          ],
          "parcoords": [
           {
            "line": {
             "colorbar": {
              "outlinewidth": 0,
              "ticks": ""
             }
            },
            "type": "parcoords"
           }
          ],
          "pie": [
           {
            "automargin": true,
            "type": "pie"
           }
          ],
          "scatter": [
           {
            "fillpattern": {
             "fillmode": "overlay",
             "size": 10,
             "solidity": 0.2
            },
            "type": "scatter"
           }
          ],
          "scatter3d": [
           {
            "line": {
             "colorbar": {
              "outlinewidth": 0,
              "ticks": ""
             }
            },
            "marker": {
             "colorbar": {
              "outlinewidth": 0,
              "ticks": ""
             }
            },
            "type": "scatter3d"
           }
          ],
          "scattercarpet": [
           {
            "marker": {
             "colorbar": {
              "outlinewidth": 0,
              "ticks": ""
             }
            },
            "type": "scattercarpet"
           }
          ],
          "scattergeo": [
           {
            "marker": {
             "colorbar": {
              "outlinewidth": 0,
              "ticks": ""
             }
            },
            "type": "scattergeo"
           }
          ],
          "scattergl": [
           {
            "marker": {
             "colorbar": {
              "outlinewidth": 0,
              "ticks": ""
             }
            },
            "type": "scattergl"
           }
          ],
          "scattermapbox": [
           {
            "marker": {
             "colorbar": {
              "outlinewidth": 0,
              "ticks": ""
             }
            },
            "type": "scattermapbox"
           }
          ],
          "scatterpolar": [
           {
            "marker": {
             "colorbar": {
              "outlinewidth": 0,
              "ticks": ""
             }
            },
            "type": "scatterpolar"
           }
          ],
          "scatterpolargl": [
           {
            "marker": {
             "colorbar": {
              "outlinewidth": 0,
              "ticks": ""
             }
            },
            "type": "scatterpolargl"
           }
          ],
          "scatterternary": [
           {
            "marker": {
             "colorbar": {
              "outlinewidth": 0,
              "ticks": ""
             }
            },
            "type": "scatterternary"
           }
          ],
          "surface": [
           {
            "colorbar": {
             "outlinewidth": 0,
             "ticks": ""
            },
            "colorscale": [
             [
              0,
              "#0d0887"
             ],
             [
              0.1111111111111111,
              "#46039f"
             ],
             [
              0.2222222222222222,
              "#7201a8"
             ],
             [
              0.3333333333333333,
              "#9c179e"
             ],
             [
              0.4444444444444444,
              "#bd3786"
             ],
             [
              0.5555555555555556,
              "#d8576b"
             ],
             [
              0.6666666666666666,
              "#ed7953"
             ],
             [
              0.7777777777777778,
              "#fb9f3a"
             ],
             [
              0.8888888888888888,
              "#fdca26"
             ],
             [
              1,
              "#f0f921"
             ]
            ],
            "type": "surface"
           }
          ],
          "table": [
           {
            "cells": {
             "fill": {
              "color": "#EBF0F8"
             },
             "line": {
              "color": "white"
             }
            },
            "header": {
             "fill": {
              "color": "#C8D4E3"
             },
             "line": {
              "color": "white"
             }
            },
            "type": "table"
           }
          ]
         },
         "layout": {
          "annotationdefaults": {
           "arrowcolor": "#2a3f5f",
           "arrowhead": 0,
           "arrowwidth": 1
          },
          "autotypenumbers": "strict",
          "coloraxis": {
           "colorbar": {
            "outlinewidth": 0,
            "ticks": ""
           }
          },
          "colorscale": {
           "diverging": [
            [
             0,
             "#8e0152"
            ],
            [
             0.1,
             "#c51b7d"
            ],
            [
             0.2,
             "#de77ae"
            ],
            [
             0.3,
             "#f1b6da"
            ],
            [
             0.4,
             "#fde0ef"
            ],
            [
             0.5,
             "#f7f7f7"
            ],
            [
             0.6,
             "#e6f5d0"
            ],
            [
             0.7,
             "#b8e186"
            ],
            [
             0.8,
             "#7fbc41"
            ],
            [
             0.9,
             "#4d9221"
            ],
            [
             1,
             "#276419"
            ]
           ],
           "sequential": [
            [
             0,
             "#0d0887"
            ],
            [
             0.1111111111111111,
             "#46039f"
            ],
            [
             0.2222222222222222,
             "#7201a8"
            ],
            [
             0.3333333333333333,
             "#9c179e"
            ],
            [
             0.4444444444444444,
             "#bd3786"
            ],
            [
             0.5555555555555556,
             "#d8576b"
            ],
            [
             0.6666666666666666,
             "#ed7953"
            ],
            [
             0.7777777777777778,
             "#fb9f3a"
            ],
            [
             0.8888888888888888,
             "#fdca26"
            ],
            [
             1,
             "#f0f921"
            ]
           ],
           "sequentialminus": [
            [
             0,
             "#0d0887"
            ],
            [
             0.1111111111111111,
             "#46039f"
            ],
            [
             0.2222222222222222,
             "#7201a8"
            ],
            [
             0.3333333333333333,
             "#9c179e"
            ],
            [
             0.4444444444444444,
             "#bd3786"
            ],
            [
             0.5555555555555556,
             "#d8576b"
            ],
            [
             0.6666666666666666,
             "#ed7953"
            ],
            [
             0.7777777777777778,
             "#fb9f3a"
            ],
            [
             0.8888888888888888,
             "#fdca26"
            ],
            [
             1,
             "#f0f921"
            ]
           ]
          },
          "colorway": [
           "#636efa",
           "#EF553B",
           "#00cc96",
           "#ab63fa",
           "#FFA15A",
           "#19d3f3",
           "#FF6692",
           "#B6E880",
           "#FF97FF",
           "#FECB52"
          ],
          "font": {
           "color": "#2a3f5f"
          },
          "geo": {
           "bgcolor": "white",
           "lakecolor": "white",
           "landcolor": "#E5ECF6",
           "showlakes": true,
           "showland": true,
           "subunitcolor": "white"
          },
          "hoverlabel": {
           "align": "left"
          },
          "hovermode": "closest",
          "mapbox": {
           "style": "light"
          },
          "paper_bgcolor": "white",
          "plot_bgcolor": "#E5ECF6",
          "polar": {
           "angularaxis": {
            "gridcolor": "white",
            "linecolor": "white",
            "ticks": ""
           },
           "bgcolor": "#E5ECF6",
           "radialaxis": {
            "gridcolor": "white",
            "linecolor": "white",
            "ticks": ""
           }
          },
          "scene": {
           "xaxis": {
            "backgroundcolor": "#E5ECF6",
            "gridcolor": "white",
            "gridwidth": 2,
            "linecolor": "white",
            "showbackground": true,
            "ticks": "",
            "zerolinecolor": "white"
           },
           "yaxis": {
            "backgroundcolor": "#E5ECF6",
            "gridcolor": "white",
            "gridwidth": 2,
            "linecolor": "white",
            "showbackground": true,
            "ticks": "",
            "zerolinecolor": "white"
           },
           "zaxis": {
            "backgroundcolor": "#E5ECF6",
            "gridcolor": "white",
            "gridwidth": 2,
            "linecolor": "white",
            "showbackground": true,
            "ticks": "",
            "zerolinecolor": "white"
           }
          },
          "shapedefaults": {
           "line": {
            "color": "#2a3f5f"
           }
          },
          "ternary": {
           "aaxis": {
            "gridcolor": "white",
            "linecolor": "white",
            "ticks": ""
           },
           "baxis": {
            "gridcolor": "white",
            "linecolor": "white",
            "ticks": ""
           },
           "bgcolor": "#E5ECF6",
           "caxis": {
            "gridcolor": "white",
            "linecolor": "white",
            "ticks": ""
           }
          },
          "title": {
           "x": 0.05
          },
          "xaxis": {
           "automargin": true,
           "gridcolor": "white",
           "linecolor": "white",
           "ticks": "",
           "title": {
            "standoff": 15
           },
           "zerolinecolor": "white",
           "zerolinewidth": 2
          },
          "yaxis": {
           "automargin": true,
           "gridcolor": "white",
           "linecolor": "white",
           "ticks": "",
           "title": {
            "standoff": 15
           },
           "zerolinecolor": "white",
           "zerolinewidth": 2
          }
         }
        },
        "title": {
         "text": "Cantidad de NaN por Columna"
        },
        "xaxis": {
         "anchor": "y",
         "domain": [
          0,
          1
         ],
         "tickangle": 90,
         "title": {
          "text": "Variables"
         }
        },
        "yaxis": {
         "anchor": "x",
         "domain": [
          0,
          1
         ],
         "title": {
          "text": "Cantidad de NaN"
         }
        }
       }
      }
     },
     "metadata": {},
     "output_type": "display_data"
    }
   ],
   "source": [
    "columnas_con_nan = df.columns[df.isna().any()].tolist()\n",
    "nan_por_columna = df[columnas_con_nan].isna().sum()\n",
    "\n",
    "fig = px.bar(x=columnas_con_nan, y=nan_por_columna[columnas_con_nan],\n",
    "             labels={'x': 'Variables', 'y': 'Cantidad de NaN'},\n",
    "             title='Cantidad de NaN por Columna')\n",
    "\n",
    "# Rotar las etiquetas en el eje x a vertical\n",
    "fig.update_xaxes(tickangle=90)\n",
    "\n",
    "# Mostrar el gráfico\n",
    "fig.show()"
   ]
  },
  {
   "cell_type": "code",
   "execution_count": 282,
   "metadata": {},
   "outputs": [
    {
     "data": {
      "text/plain": [
       "edad               87\n",
       "sexo               42\n",
       "Quercus             1\n",
       "Cyp.bulb            2\n",
       "Lotus.wrightii      1\n",
       "Fabacea             1\n",
       "SP34                1\n",
       "SPA33               1\n",
       "SPA55               2\n",
       "Bothriochloa.1      1\n",
       "time               87\n",
       "covey             129\n",
       "dist camino        98\n",
       "ppanual17          98\n",
       "tmedia17           98\n",
       "altitud            98\n",
       "lat                98\n",
       "lon                98\n",
       "hland              99\n",
       "gap                98\n",
       "dtype: int64"
      ]
     },
     "execution_count": 282,
     "metadata": {},
     "output_type": "execute_result"
    }
   ],
   "source": [
    "nan_por_columna"
   ]
  },
  {
   "cell_type": "markdown",
   "metadata": {},
   "source": [
    "### GAP"
   ]
  },
  {
   "cell_type": "code",
   "execution_count": 277,
   "metadata": {},
   "outputs": [
    {
     "data": {
      "text/html": [
       "<div>\n",
       "<style scoped>\n",
       "    .dataframe tbody tr th:only-of-type {\n",
       "        vertical-align: middle;\n",
       "    }\n",
       "\n",
       "    .dataframe tbody tr th {\n",
       "        vertical-align: top;\n",
       "    }\n",
       "\n",
       "    .dataframe thead th {\n",
       "        text-align: right;\n",
       "    }\n",
       "</style>\n",
       "<table border=\"1\" class=\"dataframe\">\n",
       "  <thead>\n",
       "    <tr style=\"text-align: right;\">\n",
       "      <th></th>\n",
       "      <th>gap</th>\n",
       "      <th>Frecuencia</th>\n",
       "    </tr>\n",
       "  </thead>\n",
       "  <tbody>\n",
       "    <tr>\n",
       "      <th>0</th>\n",
       "      <td>North American Warm Desert Bedrock Cliff and O...</td>\n",
       "      <td>1</td>\n",
       "    </tr>\n",
       "    <tr>\n",
       "      <th>1</th>\n",
       "      <td>Rocky Mountain Gambel Oak-Mixed Montane Shrubland</td>\n",
       "      <td>2</td>\n",
       "    </tr>\n",
       "    <tr>\n",
       "      <th>2</th>\n",
       "      <td>North American Warm Desert Wash</td>\n",
       "      <td>3</td>\n",
       "    </tr>\n",
       "    <tr>\n",
       "      <th>3</th>\n",
       "      <td>Chihuahuan Mixed Salt Desert Scrub</td>\n",
       "      <td>3</td>\n",
       "    </tr>\n",
       "    <tr>\n",
       "      <th>4</th>\n",
       "      <td>Southern Rocky Mountain Pinyon-Juniper Woodland</td>\n",
       "      <td>5</td>\n",
       "    </tr>\n",
       "    <tr>\n",
       "      <th>5</th>\n",
       "      <td>Chihuahuan Creosotebush, Mixed Desert and Thor...</td>\n",
       "      <td>7</td>\n",
       "    </tr>\n",
       "    <tr>\n",
       "      <th>6</th>\n",
       "      <td>Mogollon Chaparral</td>\n",
       "      <td>7</td>\n",
       "    </tr>\n",
       "    <tr>\n",
       "      <th>7</th>\n",
       "      <td>Madrean Juniper Savanna</td>\n",
       "      <td>8</td>\n",
       "    </tr>\n",
       "    <tr>\n",
       "      <th>8</th>\n",
       "      <td>Rocky Mountain Ponderosa Pine Woodland</td>\n",
       "      <td>12</td>\n",
       "    </tr>\n",
       "    <tr>\n",
       "      <th>9</th>\n",
       "      <td>Apacherian-Chihuahuan Mesquite Upland Scrub</td>\n",
       "      <td>18</td>\n",
       "    </tr>\n",
       "    <tr>\n",
       "      <th>10</th>\n",
       "      <td>Madrean Encinal</td>\n",
       "      <td>26</td>\n",
       "    </tr>\n",
       "    <tr>\n",
       "      <th>11</th>\n",
       "      <td>Colorado Plateau Pinyon-Juniper Woodland</td>\n",
       "      <td>26</td>\n",
       "    </tr>\n",
       "    <tr>\n",
       "      <th>12</th>\n",
       "      <td>Madrean Pinyon-Juniper Woodland</td>\n",
       "      <td>51</td>\n",
       "    </tr>\n",
       "    <tr>\n",
       "      <th>13</th>\n",
       "      <td>Apacherian-Chihuahuan Piedmont Semi-Desert Gra...</td>\n",
       "      <td>52</td>\n",
       "    </tr>\n",
       "    <tr>\n",
       "      <th>14</th>\n",
       "      <td>nan</td>\n",
       "      <td>98</td>\n",
       "    </tr>\n",
       "  </tbody>\n",
       "</table>\n",
       "</div>"
      ],
      "text/plain": [
       "                                                  gap  Frecuencia\n",
       "0   North American Warm Desert Bedrock Cliff and O...           1\n",
       "1   Rocky Mountain Gambel Oak-Mixed Montane Shrubland           2\n",
       "2                     North American Warm Desert Wash           3\n",
       "3                  Chihuahuan Mixed Salt Desert Scrub           3\n",
       "4     Southern Rocky Mountain Pinyon-Juniper Woodland           5\n",
       "5   Chihuahuan Creosotebush, Mixed Desert and Thor...           7\n",
       "6                                  Mogollon Chaparral           7\n",
       "7                             Madrean Juniper Savanna           8\n",
       "8              Rocky Mountain Ponderosa Pine Woodland          12\n",
       "9         Apacherian-Chihuahuan Mesquite Upland Scrub          18\n",
       "10                                    Madrean Encinal          26\n",
       "11           Colorado Plateau Pinyon-Juniper Woodland          26\n",
       "12                    Madrean Pinyon-Juniper Woodland          51\n",
       "13  Apacherian-Chihuahuan Piedmont Semi-Desert Gra...          52\n",
       "14                                                nan          98"
      ]
     },
     "execution_count": 277,
     "metadata": {},
     "output_type": "execute_result"
    }
   ],
   "source": [
    "frecuencia_gap = df['gap'].value_counts(dropna=False).sort_values(ascending=True)\n",
    "frecuencia_gap = frecuencia_gap.reset_index()  \n",
    "frecuencia_gap.columns = ['gap', 'Frecuencia'] \n",
    "frecuencia_gap['gap'] = frecuencia_gap['gap'].astype(str)\n",
    "frecuencia_gap"
   ]
  },
  {
   "cell_type": "code",
   "execution_count": 278,
   "metadata": {},
   "outputs": [
    {
     "data": {
      "application/vnd.plotly.v1+json": {
       "config": {
        "plotlyServerURL": "https://plot.ly"
       },
       "data": [
        {
         "alignmentgroup": "True",
         "hovertemplate": "Frecuencia=%{x}<br>Ubicación=%{y}<extra></extra>",
         "legendgroup": "",
         "marker": {
          "color": "#636efa",
          "pattern": {
           "shape": ""
          }
         },
         "name": "",
         "offsetgroup": "",
         "orientation": "h",
         "showlegend": false,
         "textposition": "auto",
         "type": "bar",
         "x": [
          1,
          2,
          3,
          3,
          5,
          7,
          7,
          8,
          12,
          18,
          26,
          26,
          51,
          52,
          98
         ],
         "xaxis": "x",
         "y": [
          "North American Warm Desert Bedrock Cliff and Outcrop",
          "Rocky Mountain Gambel Oak-Mixed Montane Shrubland",
          "North American Warm Desert Wash",
          "Chihuahuan Mixed Salt Desert Scrub",
          "Southern Rocky Mountain Pinyon-Juniper Woodland",
          "Chihuahuan Creosotebush, Mixed Desert and Thorn Scrub",
          "Mogollon Chaparral",
          "Madrean Juniper Savanna",
          "Rocky Mountain Ponderosa Pine Woodland",
          "Apacherian-Chihuahuan Mesquite Upland Scrub",
          "Madrean Encinal",
          "Colorado Plateau Pinyon-Juniper Woodland",
          "Madrean Pinyon-Juniper Woodland",
          "Apacherian-Chihuahuan Piedmont Semi-Desert Grassland and Steppe",
          "nan"
         ],
         "yaxis": "y"
        }
       ],
       "layout": {
        "barmode": "relative",
        "legend": {
         "tracegroupgap": 0
        },
        "template": {
         "data": {
          "bar": [
           {
            "error_x": {
             "color": "#2a3f5f"
            },
            "error_y": {
             "color": "#2a3f5f"
            },
            "marker": {
             "line": {
              "color": "#E5ECF6",
              "width": 0.5
             },
             "pattern": {
              "fillmode": "overlay",
              "size": 10,
              "solidity": 0.2
             }
            },
            "type": "bar"
           }
          ],
          "barpolar": [
           {
            "marker": {
             "line": {
              "color": "#E5ECF6",
              "width": 0.5
             },
             "pattern": {
              "fillmode": "overlay",
              "size": 10,
              "solidity": 0.2
             }
            },
            "type": "barpolar"
           }
          ],
          "carpet": [
           {
            "aaxis": {
             "endlinecolor": "#2a3f5f",
             "gridcolor": "white",
             "linecolor": "white",
             "minorgridcolor": "white",
             "startlinecolor": "#2a3f5f"
            },
            "baxis": {
             "endlinecolor": "#2a3f5f",
             "gridcolor": "white",
             "linecolor": "white",
             "minorgridcolor": "white",
             "startlinecolor": "#2a3f5f"
            },
            "type": "carpet"
           }
          ],
          "choropleth": [
           {
            "colorbar": {
             "outlinewidth": 0,
             "ticks": ""
            },
            "type": "choropleth"
           }
          ],
          "contour": [
           {
            "colorbar": {
             "outlinewidth": 0,
             "ticks": ""
            },
            "colorscale": [
             [
              0,
              "#0d0887"
             ],
             [
              0.1111111111111111,
              "#46039f"
             ],
             [
              0.2222222222222222,
              "#7201a8"
             ],
             [
              0.3333333333333333,
              "#9c179e"
             ],
             [
              0.4444444444444444,
              "#bd3786"
             ],
             [
              0.5555555555555556,
              "#d8576b"
             ],
             [
              0.6666666666666666,
              "#ed7953"
             ],
             [
              0.7777777777777778,
              "#fb9f3a"
             ],
             [
              0.8888888888888888,
              "#fdca26"
             ],
             [
              1,
              "#f0f921"
             ]
            ],
            "type": "contour"
           }
          ],
          "contourcarpet": [
           {
            "colorbar": {
             "outlinewidth": 0,
             "ticks": ""
            },
            "type": "contourcarpet"
           }
          ],
          "heatmap": [
           {
            "colorbar": {
             "outlinewidth": 0,
             "ticks": ""
            },
            "colorscale": [
             [
              0,
              "#0d0887"
             ],
             [
              0.1111111111111111,
              "#46039f"
             ],
             [
              0.2222222222222222,
              "#7201a8"
             ],
             [
              0.3333333333333333,
              "#9c179e"
             ],
             [
              0.4444444444444444,
              "#bd3786"
             ],
             [
              0.5555555555555556,
              "#d8576b"
             ],
             [
              0.6666666666666666,
              "#ed7953"
             ],
             [
              0.7777777777777778,
              "#fb9f3a"
             ],
             [
              0.8888888888888888,
              "#fdca26"
             ],
             [
              1,
              "#f0f921"
             ]
            ],
            "type": "heatmap"
           }
          ],
          "heatmapgl": [
           {
            "colorbar": {
             "outlinewidth": 0,
             "ticks": ""
            },
            "colorscale": [
             [
              0,
              "#0d0887"
             ],
             [
              0.1111111111111111,
              "#46039f"
             ],
             [
              0.2222222222222222,
              "#7201a8"
             ],
             [
              0.3333333333333333,
              "#9c179e"
             ],
             [
              0.4444444444444444,
              "#bd3786"
             ],
             [
              0.5555555555555556,
              "#d8576b"
             ],
             [
              0.6666666666666666,
              "#ed7953"
             ],
             [
              0.7777777777777778,
              "#fb9f3a"
             ],
             [
              0.8888888888888888,
              "#fdca26"
             ],
             [
              1,
              "#f0f921"
             ]
            ],
            "type": "heatmapgl"
           }
          ],
          "histogram": [
           {
            "marker": {
             "pattern": {
              "fillmode": "overlay",
              "size": 10,
              "solidity": 0.2
             }
            },
            "type": "histogram"
           }
          ],
          "histogram2d": [
           {
            "colorbar": {
             "outlinewidth": 0,
             "ticks": ""
            },
            "colorscale": [
             [
              0,
              "#0d0887"
             ],
             [
              0.1111111111111111,
              "#46039f"
             ],
             [
              0.2222222222222222,
              "#7201a8"
             ],
             [
              0.3333333333333333,
              "#9c179e"
             ],
             [
              0.4444444444444444,
              "#bd3786"
             ],
             [
              0.5555555555555556,
              "#d8576b"
             ],
             [
              0.6666666666666666,
              "#ed7953"
             ],
             [
              0.7777777777777778,
              "#fb9f3a"
             ],
             [
              0.8888888888888888,
              "#fdca26"
             ],
             [
              1,
              "#f0f921"
             ]
            ],
            "type": "histogram2d"
           }
          ],
          "histogram2dcontour": [
           {
            "colorbar": {
             "outlinewidth": 0,
             "ticks": ""
            },
            "colorscale": [
             [
              0,
              "#0d0887"
             ],
             [
              0.1111111111111111,
              "#46039f"
             ],
             [
              0.2222222222222222,
              "#7201a8"
             ],
             [
              0.3333333333333333,
              "#9c179e"
             ],
             [
              0.4444444444444444,
              "#bd3786"
             ],
             [
              0.5555555555555556,
              "#d8576b"
             ],
             [
              0.6666666666666666,
              "#ed7953"
             ],
             [
              0.7777777777777778,
              "#fb9f3a"
             ],
             [
              0.8888888888888888,
              "#fdca26"
             ],
             [
              1,
              "#f0f921"
             ]
            ],
            "type": "histogram2dcontour"
           }
          ],
          "mesh3d": [
           {
            "colorbar": {
             "outlinewidth": 0,
             "ticks": ""
            },
            "type": "mesh3d"
           }
          ],
          "parcoords": [
           {
            "line": {
             "colorbar": {
              "outlinewidth": 0,
              "ticks": ""
             }
            },
            "type": "parcoords"
           }
          ],
          "pie": [
           {
            "automargin": true,
            "type": "pie"
           }
          ],
          "scatter": [
           {
            "fillpattern": {
             "fillmode": "overlay",
             "size": 10,
             "solidity": 0.2
            },
            "type": "scatter"
           }
          ],
          "scatter3d": [
           {
            "line": {
             "colorbar": {
              "outlinewidth": 0,
              "ticks": ""
             }
            },
            "marker": {
             "colorbar": {
              "outlinewidth": 0,
              "ticks": ""
             }
            },
            "type": "scatter3d"
           }
          ],
          "scattercarpet": [
           {
            "marker": {
             "colorbar": {
              "outlinewidth": 0,
              "ticks": ""
             }
            },
            "type": "scattercarpet"
           }
          ],
          "scattergeo": [
           {
            "marker": {
             "colorbar": {
              "outlinewidth": 0,
              "ticks": ""
             }
            },
            "type": "scattergeo"
           }
          ],
          "scattergl": [
           {
            "marker": {
             "colorbar": {
              "outlinewidth": 0,
              "ticks": ""
             }
            },
            "type": "scattergl"
           }
          ],
          "scattermapbox": [
           {
            "marker": {
             "colorbar": {
              "outlinewidth": 0,
              "ticks": ""
             }
            },
            "type": "scattermapbox"
           }
          ],
          "scatterpolar": [
           {
            "marker": {
             "colorbar": {
              "outlinewidth": 0,
              "ticks": ""
             }
            },
            "type": "scatterpolar"
           }
          ],
          "scatterpolargl": [
           {
            "marker": {
             "colorbar": {
              "outlinewidth": 0,
              "ticks": ""
             }
            },
            "type": "scatterpolargl"
           }
          ],
          "scatterternary": [
           {
            "marker": {
             "colorbar": {
              "outlinewidth": 0,
              "ticks": ""
             }
            },
            "type": "scatterternary"
           }
          ],
          "surface": [
           {
            "colorbar": {
             "outlinewidth": 0,
             "ticks": ""
            },
            "colorscale": [
             [
              0,
              "#0d0887"
             ],
             [
              0.1111111111111111,
              "#46039f"
             ],
             [
              0.2222222222222222,
              "#7201a8"
             ],
             [
              0.3333333333333333,
              "#9c179e"
             ],
             [
              0.4444444444444444,
              "#bd3786"
             ],
             [
              0.5555555555555556,
              "#d8576b"
             ],
             [
              0.6666666666666666,
              "#ed7953"
             ],
             [
              0.7777777777777778,
              "#fb9f3a"
             ],
             [
              0.8888888888888888,
              "#fdca26"
             ],
             [
              1,
              "#f0f921"
             ]
            ],
            "type": "surface"
           }
          ],
          "table": [
           {
            "cells": {
             "fill": {
              "color": "#EBF0F8"
             },
             "line": {
              "color": "white"
             }
            },
            "header": {
             "fill": {
              "color": "#C8D4E3"
             },
             "line": {
              "color": "white"
             }
            },
            "type": "table"
           }
          ]
         },
         "layout": {
          "annotationdefaults": {
           "arrowcolor": "#2a3f5f",
           "arrowhead": 0,
           "arrowwidth": 1
          },
          "autotypenumbers": "strict",
          "coloraxis": {
           "colorbar": {
            "outlinewidth": 0,
            "ticks": ""
           }
          },
          "colorscale": {
           "diverging": [
            [
             0,
             "#8e0152"
            ],
            [
             0.1,
             "#c51b7d"
            ],
            [
             0.2,
             "#de77ae"
            ],
            [
             0.3,
             "#f1b6da"
            ],
            [
             0.4,
             "#fde0ef"
            ],
            [
             0.5,
             "#f7f7f7"
            ],
            [
             0.6,
             "#e6f5d0"
            ],
            [
             0.7,
             "#b8e186"
            ],
            [
             0.8,
             "#7fbc41"
            ],
            [
             0.9,
             "#4d9221"
            ],
            [
             1,
             "#276419"
            ]
           ],
           "sequential": [
            [
             0,
             "#0d0887"
            ],
            [
             0.1111111111111111,
             "#46039f"
            ],
            [
             0.2222222222222222,
             "#7201a8"
            ],
            [
             0.3333333333333333,
             "#9c179e"
            ],
            [
             0.4444444444444444,
             "#bd3786"
            ],
            [
             0.5555555555555556,
             "#d8576b"
            ],
            [
             0.6666666666666666,
             "#ed7953"
            ],
            [
             0.7777777777777778,
             "#fb9f3a"
            ],
            [
             0.8888888888888888,
             "#fdca26"
            ],
            [
             1,
             "#f0f921"
            ]
           ],
           "sequentialminus": [
            [
             0,
             "#0d0887"
            ],
            [
             0.1111111111111111,
             "#46039f"
            ],
            [
             0.2222222222222222,
             "#7201a8"
            ],
            [
             0.3333333333333333,
             "#9c179e"
            ],
            [
             0.4444444444444444,
             "#bd3786"
            ],
            [
             0.5555555555555556,
             "#d8576b"
            ],
            [
             0.6666666666666666,
             "#ed7953"
            ],
            [
             0.7777777777777778,
             "#fb9f3a"
            ],
            [
             0.8888888888888888,
             "#fdca26"
            ],
            [
             1,
             "#f0f921"
            ]
           ]
          },
          "colorway": [
           "#636efa",
           "#EF553B",
           "#00cc96",
           "#ab63fa",
           "#FFA15A",
           "#19d3f3",
           "#FF6692",
           "#B6E880",
           "#FF97FF",
           "#FECB52"
          ],
          "font": {
           "color": "#2a3f5f"
          },
          "geo": {
           "bgcolor": "white",
           "lakecolor": "white",
           "landcolor": "#E5ECF6",
           "showlakes": true,
           "showland": true,
           "subunitcolor": "white"
          },
          "hoverlabel": {
           "align": "left"
          },
          "hovermode": "closest",
          "mapbox": {
           "style": "light"
          },
          "paper_bgcolor": "white",
          "plot_bgcolor": "#E5ECF6",
          "polar": {
           "angularaxis": {
            "gridcolor": "white",
            "linecolor": "white",
            "ticks": ""
           },
           "bgcolor": "#E5ECF6",
           "radialaxis": {
            "gridcolor": "white",
            "linecolor": "white",
            "ticks": ""
           }
          },
          "scene": {
           "xaxis": {
            "backgroundcolor": "#E5ECF6",
            "gridcolor": "white",
            "gridwidth": 2,
            "linecolor": "white",
            "showbackground": true,
            "ticks": "",
            "zerolinecolor": "white"
           },
           "yaxis": {
            "backgroundcolor": "#E5ECF6",
            "gridcolor": "white",
            "gridwidth": 2,
            "linecolor": "white",
            "showbackground": true,
            "ticks": "",
            "zerolinecolor": "white"
           },
           "zaxis": {
            "backgroundcolor": "#E5ECF6",
            "gridcolor": "white",
            "gridwidth": 2,
            "linecolor": "white",
            "showbackground": true,
            "ticks": "",
            "zerolinecolor": "white"
           }
          },
          "shapedefaults": {
           "line": {
            "color": "#2a3f5f"
           }
          },
          "ternary": {
           "aaxis": {
            "gridcolor": "white",
            "linecolor": "white",
            "ticks": ""
           },
           "baxis": {
            "gridcolor": "white",
            "linecolor": "white",
            "ticks": ""
           },
           "bgcolor": "#E5ECF6",
           "caxis": {
            "gridcolor": "white",
            "linecolor": "white",
            "ticks": ""
           }
          },
          "title": {
           "x": 0.05
          },
          "xaxis": {
           "automargin": true,
           "gridcolor": "white",
           "linecolor": "white",
           "ticks": "",
           "title": {
            "standoff": 15
           },
           "zerolinecolor": "white",
           "zerolinewidth": 2
          },
          "yaxis": {
           "automargin": true,
           "gridcolor": "white",
           "linecolor": "white",
           "ticks": "",
           "title": {
            "standoff": 15
           },
           "zerolinecolor": "white",
           "zerolinewidth": 2
          }
         }
        },
        "title": {
         "text": "Frecuencia de gap"
        },
        "xaxis": {
         "anchor": "y",
         "domain": [
          0,
          1
         ],
         "title": {
          "text": "Frecuencia"
         }
        },
        "yaxis": {
         "anchor": "x",
         "domain": [
          0,
          1
         ],
         "title": {
          "text": "Ubicación"
         }
        }
       }
      }
     },
     "metadata": {},
     "output_type": "display_data"
    }
   ],
   "source": [
    "fig = px.bar(frecuencia_gap, x='Frecuencia', y='gap', orientation='h',\n",
    "             labels={'gap': 'Ubicación', 'Frecuencia': 'Frecuencia'},\n",
    "             title='Frecuencia de gap')\n",
    "\n",
    "fig.show()"
   ]
  },
  {
   "cell_type": "code",
   "execution_count": 281,
   "metadata": {},
   "outputs": [
    {
     "data": {
      "text/html": [
       "<div>\n",
       "<style scoped>\n",
       "    .dataframe tbody tr th:only-of-type {\n",
       "        vertical-align: middle;\n",
       "    }\n",
       "\n",
       "    .dataframe tbody tr th {\n",
       "        vertical-align: top;\n",
       "    }\n",
       "\n",
       "    .dataframe thead th {\n",
       "        text-align: right;\n",
       "    }\n",
       "</style>\n",
       "<table border=\"1\" class=\"dataframe\">\n",
       "  <thead>\n",
       "    <tr style=\"text-align: right;\">\n",
       "      <th></th>\n",
       "      <th>peso total</th>\n",
       "      <th>covey</th>\n",
       "      <th>dist camino</th>\n",
       "      <th>ppanual17</th>\n",
       "      <th>tmedia17</th>\n",
       "      <th>altitud</th>\n",
       "      <th>lat</th>\n",
       "      <th>lon</th>\n",
       "      <th>hcrop</th>\n",
       "      <th>hland</th>\n",
       "    </tr>\n",
       "  </thead>\n",
       "  <tbody>\n",
       "    <tr>\n",
       "      <th>count</th>\n",
       "      <td>319.000000</td>\n",
       "      <td>190.000000</td>\n",
       "      <td>221.000000</td>\n",
       "      <td>221.000000</td>\n",
       "      <td>221.000000</td>\n",
       "      <td>221.000000</td>\n",
       "      <td>221.000000</td>\n",
       "      <td>221.000000</td>\n",
       "      <td>319.000000</td>\n",
       "      <td>220.000000</td>\n",
       "    </tr>\n",
       "    <tr>\n",
       "      <th>mean</th>\n",
       "      <td>2.084231</td>\n",
       "      <td>9.178947</td>\n",
       "      <td>207.466742</td>\n",
       "      <td>436.755656</td>\n",
       "      <td>13.860351</td>\n",
       "      <td>1709.475113</td>\n",
       "      <td>32.221751</td>\n",
       "      <td>-108.935298</td>\n",
       "      <td>0.645314</td>\n",
       "      <td>1.044265</td>\n",
       "    </tr>\n",
       "    <tr>\n",
       "      <th>std</th>\n",
       "      <td>1.718818</td>\n",
       "      <td>3.779586</td>\n",
       "      <td>178.331358</td>\n",
       "      <td>78.965781</td>\n",
       "      <td>2.093009</td>\n",
       "      <td>224.818989</td>\n",
       "      <td>0.815692</td>\n",
       "      <td>1.534481</td>\n",
       "      <td>0.528932</td>\n",
       "      <td>0.360545</td>\n",
       "    </tr>\n",
       "    <tr>\n",
       "      <th>min</th>\n",
       "      <td>0.000000</td>\n",
       "      <td>1.000000</td>\n",
       "      <td>6.400000</td>\n",
       "      <td>235.000000</td>\n",
       "      <td>7.054167</td>\n",
       "      <td>1206.000000</td>\n",
       "      <td>31.343850</td>\n",
       "      <td>-111.072099</td>\n",
       "      <td>0.000000</td>\n",
       "      <td>0.222691</td>\n",
       "    </tr>\n",
       "    <tr>\n",
       "      <th>25%</th>\n",
       "      <td>0.704350</td>\n",
       "      <td>6.000000</td>\n",
       "      <td>81.820000</td>\n",
       "      <td>376.000000</td>\n",
       "      <td>12.379167</td>\n",
       "      <td>1567.000000</td>\n",
       "      <td>31.479233</td>\n",
       "      <td>-110.585248</td>\n",
       "      <td>0.181204</td>\n",
       "      <td>0.783493</td>\n",
       "    </tr>\n",
       "    <tr>\n",
       "      <th>50%</th>\n",
       "      <td>1.776000</td>\n",
       "      <td>10.000000</td>\n",
       "      <td>171.920000</td>\n",
       "      <td>422.000000</td>\n",
       "      <td>14.354167</td>\n",
       "      <td>1658.000000</td>\n",
       "      <td>31.791366</td>\n",
       "      <td>-108.940734</td>\n",
       "      <td>0.579030</td>\n",
       "      <td>1.057318</td>\n",
       "    </tr>\n",
       "    <tr>\n",
       "      <th>75%</th>\n",
       "      <td>3.001150</td>\n",
       "      <td>12.000000</td>\n",
       "      <td>272.860000</td>\n",
       "      <td>518.000000</td>\n",
       "      <td>15.537500</td>\n",
       "      <td>1901.000000</td>\n",
       "      <td>32.894714</td>\n",
       "      <td>-107.723281</td>\n",
       "      <td>0.963353</td>\n",
       "      <td>1.362937</td>\n",
       "    </tr>\n",
       "    <tr>\n",
       "      <th>max</th>\n",
       "      <td>9.758400</td>\n",
       "      <td>20.000000</td>\n",
       "      <td>774.840000</td>\n",
       "      <td>620.000000</td>\n",
       "      <td>17.312500</td>\n",
       "      <td>2518.000000</td>\n",
       "      <td>34.037969</td>\n",
       "      <td>-105.354701</td>\n",
       "      <td>2.318525</td>\n",
       "      <td>1.796301</td>\n",
       "    </tr>\n",
       "  </tbody>\n",
       "</table>\n",
       "</div>"
      ],
      "text/plain": [
       "       peso total       covey  dist camino   ppanual17    tmedia17  \\\n",
       "count  319.000000  190.000000   221.000000  221.000000  221.000000   \n",
       "mean     2.084231    9.178947   207.466742  436.755656   13.860351   \n",
       "std      1.718818    3.779586   178.331358   78.965781    2.093009   \n",
       "min      0.000000    1.000000     6.400000  235.000000    7.054167   \n",
       "25%      0.704350    6.000000    81.820000  376.000000   12.379167   \n",
       "50%      1.776000   10.000000   171.920000  422.000000   14.354167   \n",
       "75%      3.001150   12.000000   272.860000  518.000000   15.537500   \n",
       "max      9.758400   20.000000   774.840000  620.000000   17.312500   \n",
       "\n",
       "           altitud         lat         lon       hcrop       hland  \n",
       "count   221.000000  221.000000  221.000000  319.000000  220.000000  \n",
       "mean   1709.475113   32.221751 -108.935298    0.645314    1.044265  \n",
       "std     224.818989    0.815692    1.534481    0.528932    0.360545  \n",
       "min    1206.000000   31.343850 -111.072099    0.000000    0.222691  \n",
       "25%    1567.000000   31.479233 -110.585248    0.181204    0.783493  \n",
       "50%    1658.000000   31.791366 -108.940734    0.579030    1.057318  \n",
       "75%    1901.000000   32.894714 -107.723281    0.963353    1.362937  \n",
       "max    2518.000000   34.037969 -105.354701    2.318525    1.796301  "
      ]
     },
     "execution_count": 281,
     "metadata": {},
     "output_type": "execute_result"
    }
   ],
   "source": [
    "df[var_name].describe()"
   ]
  },
  {
   "cell_type": "code",
   "execution_count": 283,
   "metadata": {},
   "outputs": [
    {
     "data": {
      "text/html": [
       "<div>\n",
       "<style scoped>\n",
       "    .dataframe tbody tr th:only-of-type {\n",
       "        vertical-align: middle;\n",
       "    }\n",
       "\n",
       "    .dataframe tbody tr th {\n",
       "        vertical-align: top;\n",
       "    }\n",
       "\n",
       "    .dataframe thead th {\n",
       "        text-align: right;\n",
       "    }\n",
       "</style>\n",
       "<table border=\"1\" class=\"dataframe\">\n",
       "  <thead>\n",
       "    <tr style=\"text-align: right;\">\n",
       "      <th></th>\n",
       "      <th>id</th>\n",
       "      <th>edad</th>\n",
       "      <th>sexo</th>\n",
       "      <th>estado</th>\n",
       "      <th>peso total</th>\n",
       "      <th>time</th>\n",
       "      <th>covey</th>\n",
       "      <th>dist camino</th>\n",
       "      <th>ppanual17</th>\n",
       "      <th>tmedia17</th>\n",
       "      <th>altitud</th>\n",
       "      <th>lat</th>\n",
       "      <th>lon</th>\n",
       "      <th>hcrop</th>\n",
       "      <th>hland</th>\n",
       "      <th>gap</th>\n",
       "    </tr>\n",
       "  </thead>\n",
       "  <tbody>\n",
       "    <tr>\n",
       "      <th>0</th>\n",
       "      <td>2014-104</td>\n",
       "      <td>J</td>\n",
       "      <td>Female</td>\n",
       "      <td>NM</td>\n",
       "      <td>9.7584</td>\n",
       "      <td>14:20:00</td>\n",
       "      <td>6.0</td>\n",
       "      <td>251.86</td>\n",
       "      <td>462.0</td>\n",
       "      <td>7.054167</td>\n",
       "      <td>2518.0</td>\n",
       "      <td>34.037969</td>\n",
       "      <td>-108.963777</td>\n",
       "      <td>0.000000</td>\n",
       "      <td>0.798600</td>\n",
       "      <td>Rocky Mountain Ponderosa Pine Woodland</td>\n",
       "    </tr>\n",
       "    <tr>\n",
       "      <th>1</th>\n",
       "      <td>2014-105</td>\n",
       "      <td>J</td>\n",
       "      <td>Male</td>\n",
       "      <td>NM</td>\n",
       "      <td>3.9632</td>\n",
       "      <td>14:20:00</td>\n",
       "      <td>6.0</td>\n",
       "      <td>251.86</td>\n",
       "      <td>462.0</td>\n",
       "      <td>7.054167</td>\n",
       "      <td>2518.0</td>\n",
       "      <td>34.037969</td>\n",
       "      <td>-108.963777</td>\n",
       "      <td>0.000000</td>\n",
       "      <td>0.798600</td>\n",
       "      <td>Rocky Mountain Ponderosa Pine Woodland</td>\n",
       "    </tr>\n",
       "    <tr>\n",
       "      <th>2</th>\n",
       "      <td>2016-133</td>\n",
       "      <td>A</td>\n",
       "      <td>Female</td>\n",
       "      <td>AZ</td>\n",
       "      <td>5.4562</td>\n",
       "      <td>17:00:00</td>\n",
       "      <td>10.0</td>\n",
       "      <td>574.06</td>\n",
       "      <td>515.0</td>\n",
       "      <td>15.954167</td>\n",
       "      <td>1527.0</td>\n",
       "      <td>31.375725</td>\n",
       "      <td>-110.530491</td>\n",
       "      <td>0.785803</td>\n",
       "      <td>1.245916</td>\n",
       "      <td>Madrean Encinal</td>\n",
       "    </tr>\n",
       "    <tr>\n",
       "      <th>3</th>\n",
       "      <td>2014-28</td>\n",
       "      <td>J</td>\n",
       "      <td>Female</td>\n",
       "      <td>NM</td>\n",
       "      <td>4.4976</td>\n",
       "      <td>16:10:00</td>\n",
       "      <td>8.0</td>\n",
       "      <td>23.07</td>\n",
       "      <td>385.0</td>\n",
       "      <td>10.979167</td>\n",
       "      <td>1952.0</td>\n",
       "      <td>33.176791</td>\n",
       "      <td>-107.735593</td>\n",
       "      <td>0.464732</td>\n",
       "      <td>0.764466</td>\n",
       "      <td>Colorado Plateau Pinyon-Juniper Woodland</td>\n",
       "    </tr>\n",
       "    <tr>\n",
       "      <th>4</th>\n",
       "      <td>2016-132</td>\n",
       "      <td>J</td>\n",
       "      <td>Male</td>\n",
       "      <td>AZ</td>\n",
       "      <td>5.4630</td>\n",
       "      <td>16:00:00</td>\n",
       "      <td>8.0</td>\n",
       "      <td>236.76</td>\n",
       "      <td>521.0</td>\n",
       "      <td>16.133333</td>\n",
       "      <td>1507.0</td>\n",
       "      <td>31.353053</td>\n",
       "      <td>-110.531060</td>\n",
       "      <td>1.680150</td>\n",
       "      <td>1.541562</td>\n",
       "      <td>Apacherian-Chihuahuan Mesquite Upland Scrub</td>\n",
       "    </tr>\n",
       "    <tr>\n",
       "      <th>...</th>\n",
       "      <td>...</td>\n",
       "      <td>...</td>\n",
       "      <td>...</td>\n",
       "      <td>...</td>\n",
       "      <td>...</td>\n",
       "      <td>...</td>\n",
       "      <td>...</td>\n",
       "      <td>...</td>\n",
       "      <td>...</td>\n",
       "      <td>...</td>\n",
       "      <td>...</td>\n",
       "      <td>...</td>\n",
       "      <td>...</td>\n",
       "      <td>...</td>\n",
       "      <td>...</td>\n",
       "      <td>...</td>\n",
       "    </tr>\n",
       "    <tr>\n",
       "      <th>314</th>\n",
       "      <td>2015-59</td>\n",
       "      <td>A</td>\n",
       "      <td>Female</td>\n",
       "      <td>NM</td>\n",
       "      <td>0.3501</td>\n",
       "      <td>13:00:00</td>\n",
       "      <td>12.0</td>\n",
       "      <td>86.99</td>\n",
       "      <td>315.0</td>\n",
       "      <td>14.458333</td>\n",
       "      <td>1543.0</td>\n",
       "      <td>32.590956</td>\n",
       "      <td>-107.920563</td>\n",
       "      <td>0.112925</td>\n",
       "      <td>1.628812</td>\n",
       "      <td>Apacherian-Chihuahuan Piedmont Semi-Desert Gra...</td>\n",
       "    </tr>\n",
       "    <tr>\n",
       "      <th>315</th>\n",
       "      <td>2015-6</td>\n",
       "      <td>J</td>\n",
       "      <td>Female</td>\n",
       "      <td>NM</td>\n",
       "      <td>0.1977</td>\n",
       "      <td>12:30:00</td>\n",
       "      <td>3.0</td>\n",
       "      <td>127.25</td>\n",
       "      <td>324.0</td>\n",
       "      <td>11.175000</td>\n",
       "      <td>2023.0</td>\n",
       "      <td>33.688852</td>\n",
       "      <td>-107.330940</td>\n",
       "      <td>0.000000</td>\n",
       "      <td>1.796301</td>\n",
       "      <td>North American Warm Desert Bedrock Cliff and O...</td>\n",
       "    </tr>\n",
       "    <tr>\n",
       "      <th>316</th>\n",
       "      <td>2015-60</td>\n",
       "      <td>J</td>\n",
       "      <td>Female</td>\n",
       "      <td>NM</td>\n",
       "      <td>2.6084</td>\n",
       "      <td>13:00:00</td>\n",
       "      <td>12.0</td>\n",
       "      <td>86.99</td>\n",
       "      <td>315.0</td>\n",
       "      <td>14.458333</td>\n",
       "      <td>1543.0</td>\n",
       "      <td>32.590956</td>\n",
       "      <td>-107.920563</td>\n",
       "      <td>0.065394</td>\n",
       "      <td>1.628812</td>\n",
       "      <td>Apacherian-Chihuahuan Piedmont Semi-Desert Gra...</td>\n",
       "    </tr>\n",
       "    <tr>\n",
       "      <th>317</th>\n",
       "      <td>2015-61</td>\n",
       "      <td>A</td>\n",
       "      <td>Male</td>\n",
       "      <td>NM</td>\n",
       "      <td>7.3265</td>\n",
       "      <td>14:30:00</td>\n",
       "      <td>8.0</td>\n",
       "      <td>763.38</td>\n",
       "      <td>332.0</td>\n",
       "      <td>14.225000</td>\n",
       "      <td>1560.0</td>\n",
       "      <td>32.592245</td>\n",
       "      <td>-107.930243</td>\n",
       "      <td>0.000000</td>\n",
       "      <td>0.761439</td>\n",
       "      <td>Madrean Pinyon-Juniper Woodland</td>\n",
       "    </tr>\n",
       "    <tr>\n",
       "      <th>318</th>\n",
       "      <td>2015-63</td>\n",
       "      <td>J</td>\n",
       "      <td>Female</td>\n",
       "      <td>NM</td>\n",
       "      <td>5.9750</td>\n",
       "      <td>14:30:00</td>\n",
       "      <td>8.0</td>\n",
       "      <td>763.38</td>\n",
       "      <td>332.0</td>\n",
       "      <td>14.225000</td>\n",
       "      <td>1560.0</td>\n",
       "      <td>32.592245</td>\n",
       "      <td>-107.930243</td>\n",
       "      <td>0.116640</td>\n",
       "      <td>0.761439</td>\n",
       "      <td>Madrean Pinyon-Juniper Woodland</td>\n",
       "    </tr>\n",
       "  </tbody>\n",
       "</table>\n",
       "<p>319 rows × 16 columns</p>\n",
       "</div>"
      ],
      "text/plain": [
       "           id edad    sexo estado  peso total      time  covey  dist camino  \\\n",
       "0    2014-104    J  Female     NM      9.7584  14:20:00    6.0       251.86   \n",
       "1    2014-105    J    Male     NM      3.9632  14:20:00    6.0       251.86   \n",
       "2    2016-133    A  Female     AZ      5.4562  17:00:00   10.0       574.06   \n",
       "3     2014-28    J  Female     NM      4.4976  16:10:00    8.0        23.07   \n",
       "4    2016-132    J    Male     AZ      5.4630  16:00:00    8.0       236.76   \n",
       "..        ...  ...     ...    ...         ...       ...    ...          ...   \n",
       "314   2015-59    A  Female     NM      0.3501  13:00:00   12.0        86.99   \n",
       "315    2015-6    J  Female     NM      0.1977  12:30:00    3.0       127.25   \n",
       "316   2015-60    J  Female     NM      2.6084  13:00:00   12.0        86.99   \n",
       "317   2015-61    A    Male     NM      7.3265  14:30:00    8.0       763.38   \n",
       "318   2015-63    J  Female     NM      5.9750  14:30:00    8.0       763.38   \n",
       "\n",
       "     ppanual17   tmedia17  altitud        lat         lon     hcrop     hland  \\\n",
       "0        462.0   7.054167   2518.0  34.037969 -108.963777  0.000000  0.798600   \n",
       "1        462.0   7.054167   2518.0  34.037969 -108.963777  0.000000  0.798600   \n",
       "2        515.0  15.954167   1527.0  31.375725 -110.530491  0.785803  1.245916   \n",
       "3        385.0  10.979167   1952.0  33.176791 -107.735593  0.464732  0.764466   \n",
       "4        521.0  16.133333   1507.0  31.353053 -110.531060  1.680150  1.541562   \n",
       "..         ...        ...      ...        ...         ...       ...       ...   \n",
       "314      315.0  14.458333   1543.0  32.590956 -107.920563  0.112925  1.628812   \n",
       "315      324.0  11.175000   2023.0  33.688852 -107.330940  0.000000  1.796301   \n",
       "316      315.0  14.458333   1543.0  32.590956 -107.920563  0.065394  1.628812   \n",
       "317      332.0  14.225000   1560.0  32.592245 -107.930243  0.000000  0.761439   \n",
       "318      332.0  14.225000   1560.0  32.592245 -107.930243  0.116640  0.761439   \n",
       "\n",
       "                                                   gap  \n",
       "0               Rocky Mountain Ponderosa Pine Woodland  \n",
       "1               Rocky Mountain Ponderosa Pine Woodland  \n",
       "2                                      Madrean Encinal  \n",
       "3             Colorado Plateau Pinyon-Juniper Woodland  \n",
       "4          Apacherian-Chihuahuan Mesquite Upland Scrub  \n",
       "..                                                 ...  \n",
       "314  Apacherian-Chihuahuan Piedmont Semi-Desert Gra...  \n",
       "315  North American Warm Desert Bedrock Cliff and O...  \n",
       "316  Apacherian-Chihuahuan Piedmont Semi-Desert Gra...  \n",
       "317                    Madrean Pinyon-Juniper Woodland  \n",
       "318                    Madrean Pinyon-Juniper Woodland  \n",
       "\n",
       "[319 rows x 16 columns]"
      ]
     },
     "execution_count": 283,
     "metadata": {},
     "output_type": "execute_result"
    }
   ],
   "source": [
    "df[var_name]"
   ]
  },
  {
   "cell_type": "code",
   "execution_count": 286,
   "metadata": {},
   "outputs": [
    {
     "data": {
      "application/vnd.plotly.v1+json": {
       "config": {
        "plotlyServerURL": "https://plot.ly"
       },
       "data": [
        {
         "alignmentgroup": "True",
         "hovertemplate": "Variables=%{x}<br>Cantidad de NaN=%{y}<extra></extra>",
         "legendgroup": "",
         "marker": {
          "color": "#636efa",
          "pattern": {
           "shape": ""
          }
         },
         "name": "",
         "offsetgroup": "",
         "orientation": "v",
         "showlegend": false,
         "textposition": "auto",
         "type": "bar",
         "x": [
          "sexo",
          "Quercus",
          "Cyp.bulb",
          "Lotus.wrightii",
          "Fabacea",
          "SP34",
          "SPA33",
          "SPA55",
          "Bothriochloa.1",
          "time",
          "covey",
          "dist camino",
          "ppanual17",
          "tmedia17",
          "altitud",
          "lat",
          "lon",
          "hland",
          "gap"
         ],
         "xaxis": "x",
         "y": [
          42,
          1,
          2,
          1,
          1,
          1,
          1,
          2,
          1,
          87,
          129,
          98,
          98,
          98,
          98,
          98,
          98,
          99,
          98
         ],
         "yaxis": "y"
        }
       ],
       "layout": {
        "barmode": "relative",
        "legend": {
         "tracegroupgap": 0
        },
        "template": {
         "data": {
          "bar": [
           {
            "error_x": {
             "color": "#2a3f5f"
            },
            "error_y": {
             "color": "#2a3f5f"
            },
            "marker": {
             "line": {
              "color": "#E5ECF6",
              "width": 0.5
             },
             "pattern": {
              "fillmode": "overlay",
              "size": 10,
              "solidity": 0.2
             }
            },
            "type": "bar"
           }
          ],
          "barpolar": [
           {
            "marker": {
             "line": {
              "color": "#E5ECF6",
              "width": 0.5
             },
             "pattern": {
              "fillmode": "overlay",
              "size": 10,
              "solidity": 0.2
             }
            },
            "type": "barpolar"
           }
          ],
          "carpet": [
           {
            "aaxis": {
             "endlinecolor": "#2a3f5f",
             "gridcolor": "white",
             "linecolor": "white",
             "minorgridcolor": "white",
             "startlinecolor": "#2a3f5f"
            },
            "baxis": {
             "endlinecolor": "#2a3f5f",
             "gridcolor": "white",
             "linecolor": "white",
             "minorgridcolor": "white",
             "startlinecolor": "#2a3f5f"
            },
            "type": "carpet"
           }
          ],
          "choropleth": [
           {
            "colorbar": {
             "outlinewidth": 0,
             "ticks": ""
            },
            "type": "choropleth"
           }
          ],
          "contour": [
           {
            "colorbar": {
             "outlinewidth": 0,
             "ticks": ""
            },
            "colorscale": [
             [
              0,
              "#0d0887"
             ],
             [
              0.1111111111111111,
              "#46039f"
             ],
             [
              0.2222222222222222,
              "#7201a8"
             ],
             [
              0.3333333333333333,
              "#9c179e"
             ],
             [
              0.4444444444444444,
              "#bd3786"
             ],
             [
              0.5555555555555556,
              "#d8576b"
             ],
             [
              0.6666666666666666,
              "#ed7953"
             ],
             [
              0.7777777777777778,
              "#fb9f3a"
             ],
             [
              0.8888888888888888,
              "#fdca26"
             ],
             [
              1,
              "#f0f921"
             ]
            ],
            "type": "contour"
           }
          ],
          "contourcarpet": [
           {
            "colorbar": {
             "outlinewidth": 0,
             "ticks": ""
            },
            "type": "contourcarpet"
           }
          ],
          "heatmap": [
           {
            "colorbar": {
             "outlinewidth": 0,
             "ticks": ""
            },
            "colorscale": [
             [
              0,
              "#0d0887"
             ],
             [
              0.1111111111111111,
              "#46039f"
             ],
             [
              0.2222222222222222,
              "#7201a8"
             ],
             [
              0.3333333333333333,
              "#9c179e"
             ],
             [
              0.4444444444444444,
              "#bd3786"
             ],
             [
              0.5555555555555556,
              "#d8576b"
             ],
             [
              0.6666666666666666,
              "#ed7953"
             ],
             [
              0.7777777777777778,
              "#fb9f3a"
             ],
             [
              0.8888888888888888,
              "#fdca26"
             ],
             [
              1,
              "#f0f921"
             ]
            ],
            "type": "heatmap"
           }
          ],
          "heatmapgl": [
           {
            "colorbar": {
             "outlinewidth": 0,
             "ticks": ""
            },
            "colorscale": [
             [
              0,
              "#0d0887"
             ],
             [
              0.1111111111111111,
              "#46039f"
             ],
             [
              0.2222222222222222,
              "#7201a8"
             ],
             [
              0.3333333333333333,
              "#9c179e"
             ],
             [
              0.4444444444444444,
              "#bd3786"
             ],
             [
              0.5555555555555556,
              "#d8576b"
             ],
             [
              0.6666666666666666,
              "#ed7953"
             ],
             [
              0.7777777777777778,
              "#fb9f3a"
             ],
             [
              0.8888888888888888,
              "#fdca26"
             ],
             [
              1,
              "#f0f921"
             ]
            ],
            "type": "heatmapgl"
           }
          ],
          "histogram": [
           {
            "marker": {
             "pattern": {
              "fillmode": "overlay",
              "size": 10,
              "solidity": 0.2
             }
            },
            "type": "histogram"
           }
          ],
          "histogram2d": [
           {
            "colorbar": {
             "outlinewidth": 0,
             "ticks": ""
            },
            "colorscale": [
             [
              0,
              "#0d0887"
             ],
             [
              0.1111111111111111,
              "#46039f"
             ],
             [
              0.2222222222222222,
              "#7201a8"
             ],
             [
              0.3333333333333333,
              "#9c179e"
             ],
             [
              0.4444444444444444,
              "#bd3786"
             ],
             [
              0.5555555555555556,
              "#d8576b"
             ],
             [
              0.6666666666666666,
              "#ed7953"
             ],
             [
              0.7777777777777778,
              "#fb9f3a"
             ],
             [
              0.8888888888888888,
              "#fdca26"
             ],
             [
              1,
              "#f0f921"
             ]
            ],
            "type": "histogram2d"
           }
          ],
          "histogram2dcontour": [
           {
            "colorbar": {
             "outlinewidth": 0,
             "ticks": ""
            },
            "colorscale": [
             [
              0,
              "#0d0887"
             ],
             [
              0.1111111111111111,
              "#46039f"
             ],
             [
              0.2222222222222222,
              "#7201a8"
             ],
             [
              0.3333333333333333,
              "#9c179e"
             ],
             [
              0.4444444444444444,
              "#bd3786"
             ],
             [
              0.5555555555555556,
              "#d8576b"
             ],
             [
              0.6666666666666666,
              "#ed7953"
             ],
             [
              0.7777777777777778,
              "#fb9f3a"
             ],
             [
              0.8888888888888888,
              "#fdca26"
             ],
             [
              1,
              "#f0f921"
             ]
            ],
            "type": "histogram2dcontour"
           }
          ],
          "mesh3d": [
           {
            "colorbar": {
             "outlinewidth": 0,
             "ticks": ""
            },
            "type": "mesh3d"
           }
          ],
          "parcoords": [
           {
            "line": {
             "colorbar": {
              "outlinewidth": 0,
              "ticks": ""
             }
            },
            "type": "parcoords"
           }
          ],
          "pie": [
           {
            "automargin": true,
            "type": "pie"
           }
          ],
          "scatter": [
           {
            "fillpattern": {
             "fillmode": "overlay",
             "size": 10,
             "solidity": 0.2
            },
            "type": "scatter"
           }
          ],
          "scatter3d": [
           {
            "line": {
             "colorbar": {
              "outlinewidth": 0,
              "ticks": ""
             }
            },
            "marker": {
             "colorbar": {
              "outlinewidth": 0,
              "ticks": ""
             }
            },
            "type": "scatter3d"
           }
          ],
          "scattercarpet": [
           {
            "marker": {
             "colorbar": {
              "outlinewidth": 0,
              "ticks": ""
             }
            },
            "type": "scattercarpet"
           }
          ],
          "scattergeo": [
           {
            "marker": {
             "colorbar": {
              "outlinewidth": 0,
              "ticks": ""
             }
            },
            "type": "scattergeo"
           }
          ],
          "scattergl": [
           {
            "marker": {
             "colorbar": {
              "outlinewidth": 0,
              "ticks": ""
             }
            },
            "type": "scattergl"
           }
          ],
          "scattermapbox": [
           {
            "marker": {
             "colorbar": {
              "outlinewidth": 0,
              "ticks": ""
             }
            },
            "type": "scattermapbox"
           }
          ],
          "scatterpolar": [
           {
            "marker": {
             "colorbar": {
              "outlinewidth": 0,
              "ticks": ""
             }
            },
            "type": "scatterpolar"
           }
          ],
          "scatterpolargl": [
           {
            "marker": {
             "colorbar": {
              "outlinewidth": 0,
              "ticks": ""
             }
            },
            "type": "scatterpolargl"
           }
          ],
          "scatterternary": [
           {
            "marker": {
             "colorbar": {
              "outlinewidth": 0,
              "ticks": ""
             }
            },
            "type": "scatterternary"
           }
          ],
          "surface": [
           {
            "colorbar": {
             "outlinewidth": 0,
             "ticks": ""
            },
            "colorscale": [
             [
              0,
              "#0d0887"
             ],
             [
              0.1111111111111111,
              "#46039f"
             ],
             [
              0.2222222222222222,
              "#7201a8"
             ],
             [
              0.3333333333333333,
              "#9c179e"
             ],
             [
              0.4444444444444444,
              "#bd3786"
             ],
             [
              0.5555555555555556,
              "#d8576b"
             ],
             [
              0.6666666666666666,
              "#ed7953"
             ],
             [
              0.7777777777777778,
              "#fb9f3a"
             ],
             [
              0.8888888888888888,
              "#fdca26"
             ],
             [
              1,
              "#f0f921"
             ]
            ],
            "type": "surface"
           }
          ],
          "table": [
           {
            "cells": {
             "fill": {
              "color": "#EBF0F8"
             },
             "line": {
              "color": "white"
             }
            },
            "header": {
             "fill": {
              "color": "#C8D4E3"
             },
             "line": {
              "color": "white"
             }
            },
            "type": "table"
           }
          ]
         },
         "layout": {
          "annotationdefaults": {
           "arrowcolor": "#2a3f5f",
           "arrowhead": 0,
           "arrowwidth": 1
          },
          "autotypenumbers": "strict",
          "coloraxis": {
           "colorbar": {
            "outlinewidth": 0,
            "ticks": ""
           }
          },
          "colorscale": {
           "diverging": [
            [
             0,
             "#8e0152"
            ],
            [
             0.1,
             "#c51b7d"
            ],
            [
             0.2,
             "#de77ae"
            ],
            [
             0.3,
             "#f1b6da"
            ],
            [
             0.4,
             "#fde0ef"
            ],
            [
             0.5,
             "#f7f7f7"
            ],
            [
             0.6,
             "#e6f5d0"
            ],
            [
             0.7,
             "#b8e186"
            ],
            [
             0.8,
             "#7fbc41"
            ],
            [
             0.9,
             "#4d9221"
            ],
            [
             1,
             "#276419"
            ]
           ],
           "sequential": [
            [
             0,
             "#0d0887"
            ],
            [
             0.1111111111111111,
             "#46039f"
            ],
            [
             0.2222222222222222,
             "#7201a8"
            ],
            [
             0.3333333333333333,
             "#9c179e"
            ],
            [
             0.4444444444444444,
             "#bd3786"
            ],
            [
             0.5555555555555556,
             "#d8576b"
            ],
            [
             0.6666666666666666,
             "#ed7953"
            ],
            [
             0.7777777777777778,
             "#fb9f3a"
            ],
            [
             0.8888888888888888,
             "#fdca26"
            ],
            [
             1,
             "#f0f921"
            ]
           ],
           "sequentialminus": [
            [
             0,
             "#0d0887"
            ],
            [
             0.1111111111111111,
             "#46039f"
            ],
            [
             0.2222222222222222,
             "#7201a8"
            ],
            [
             0.3333333333333333,
             "#9c179e"
            ],
            [
             0.4444444444444444,
             "#bd3786"
            ],
            [
             0.5555555555555556,
             "#d8576b"
            ],
            [
             0.6666666666666666,
             "#ed7953"
            ],
            [
             0.7777777777777778,
             "#fb9f3a"
            ],
            [
             0.8888888888888888,
             "#fdca26"
            ],
            [
             1,
             "#f0f921"
            ]
           ]
          },
          "colorway": [
           "#636efa",
           "#EF553B",
           "#00cc96",
           "#ab63fa",
           "#FFA15A",
           "#19d3f3",
           "#FF6692",
           "#B6E880",
           "#FF97FF",
           "#FECB52"
          ],
          "font": {
           "color": "#2a3f5f"
          },
          "geo": {
           "bgcolor": "white",
           "lakecolor": "white",
           "landcolor": "#E5ECF6",
           "showlakes": true,
           "showland": true,
           "subunitcolor": "white"
          },
          "hoverlabel": {
           "align": "left"
          },
          "hovermode": "closest",
          "mapbox": {
           "style": "light"
          },
          "paper_bgcolor": "white",
          "plot_bgcolor": "#E5ECF6",
          "polar": {
           "angularaxis": {
            "gridcolor": "white",
            "linecolor": "white",
            "ticks": ""
           },
           "bgcolor": "#E5ECF6",
           "radialaxis": {
            "gridcolor": "white",
            "linecolor": "white",
            "ticks": ""
           }
          },
          "scene": {
           "xaxis": {
            "backgroundcolor": "#E5ECF6",
            "gridcolor": "white",
            "gridwidth": 2,
            "linecolor": "white",
            "showbackground": true,
            "ticks": "",
            "zerolinecolor": "white"
           },
           "yaxis": {
            "backgroundcolor": "#E5ECF6",
            "gridcolor": "white",
            "gridwidth": 2,
            "linecolor": "white",
            "showbackground": true,
            "ticks": "",
            "zerolinecolor": "white"
           },
           "zaxis": {
            "backgroundcolor": "#E5ECF6",
            "gridcolor": "white",
            "gridwidth": 2,
            "linecolor": "white",
            "showbackground": true,
            "ticks": "",
            "zerolinecolor": "white"
           }
          },
          "shapedefaults": {
           "line": {
            "color": "#2a3f5f"
           }
          },
          "ternary": {
           "aaxis": {
            "gridcolor": "white",
            "linecolor": "white",
            "ticks": ""
           },
           "baxis": {
            "gridcolor": "white",
            "linecolor": "white",
            "ticks": ""
           },
           "bgcolor": "#E5ECF6",
           "caxis": {
            "gridcolor": "white",
            "linecolor": "white",
            "ticks": ""
           }
          },
          "title": {
           "x": 0.05
          },
          "xaxis": {
           "automargin": true,
           "gridcolor": "white",
           "linecolor": "white",
           "ticks": "",
           "title": {
            "standoff": 15
           },
           "zerolinecolor": "white",
           "zerolinewidth": 2
          },
          "yaxis": {
           "automargin": true,
           "gridcolor": "white",
           "linecolor": "white",
           "ticks": "",
           "title": {
            "standoff": 15
           },
           "zerolinecolor": "white",
           "zerolinewidth": 2
          }
         }
        },
        "title": {
         "text": "Cantidad de NaN por Columna"
        },
        "xaxis": {
         "anchor": "y",
         "domain": [
          0,
          1
         ],
         "tickangle": 90,
         "title": {
          "text": "Variables"
         }
        },
        "yaxis": {
         "anchor": "x",
         "domain": [
          0,
          1
         ],
         "title": {
          "text": "Cantidad de NaN"
         }
        }
       }
      }
     },
     "metadata": {},
     "output_type": "display_data"
    }
   ],
   "source": [
    "df['edad'].fillna('Desconocido', inplace=True)\n",
    "columnas_con_nan = df.columns[df.isna().any()].tolist()\n",
    "nan_por_columna = df[columnas_con_nan].isna().sum()\n",
    "\n",
    "fig = px.bar(x=columnas_con_nan, y=nan_por_columna[columnas_con_nan],\n",
    "             labels={'x': 'Variables', 'y': 'Cantidad de NaN'},\n",
    "             title='Cantidad de NaN por Columna')\n",
    "\n",
    "# Rotar las etiquetas en el eje x a vertical\n",
    "fig.update_xaxes(tickangle=90)\n",
    "\n",
    "# Mostrar el gráfico\n",
    "fig.show()\n"
   ]
  },
  {
   "cell_type": "markdown",
   "metadata": {},
   "source": [
    "## Dieta de codornices"
   ]
  },
  {
   "cell_type": "code",
   "execution_count": 291,
   "metadata": {},
   "outputs": [],
   "source": [
    "df_dieta = df[vars_dieta_codorniz]"
   ]
  },
  {
   "cell_type": "code",
   "execution_count": 292,
   "metadata": {},
   "outputs": [
    {
     "data": {
      "text/html": [
       "<div>\n",
       "<style scoped>\n",
       "    .dataframe tbody tr th:only-of-type {\n",
       "        vertical-align: middle;\n",
       "    }\n",
       "\n",
       "    .dataframe tbody tr th {\n",
       "        vertical-align: top;\n",
       "    }\n",
       "\n",
       "    .dataframe thead th {\n",
       "        text-align: right;\n",
       "    }\n",
       "</style>\n",
       "<table border=\"1\" class=\"dataframe\">\n",
       "  <thead>\n",
       "    <tr style=\"text-align: right;\">\n",
       "      <th></th>\n",
       "      <th>Oxalis</th>\n",
       "      <th>Quercus</th>\n",
       "      <th>Cyp.bulb</th>\n",
       "      <th>Phaseolus</th>\n",
       "      <th>Tephoria</th>\n",
       "      <th>Caracoles</th>\n",
       "      <th>Insectos</th>\n",
       "      <th>Physalis</th>\n",
       "      <th>Vitis.arizonica</th>\n",
       "      <th>Lupinus</th>\n",
       "      <th>...</th>\n",
       "      <th>Bothriochloa.1</th>\n",
       "      <th>Euphorbia.2</th>\n",
       "      <th>SPA60</th>\n",
       "      <th>SPA61</th>\n",
       "      <th>SPA62</th>\n",
       "      <th>Phaseolus.1</th>\n",
       "      <th>SPA64</th>\n",
       "      <th>SPA65</th>\n",
       "      <th>Arachnida</th>\n",
       "      <th>Juniperus prob. deppeana</th>\n",
       "    </tr>\n",
       "  </thead>\n",
       "  <tbody>\n",
       "    <tr>\n",
       "      <th>0</th>\n",
       "      <td>9.7584</td>\n",
       "      <td>0.0</td>\n",
       "      <td>0.0000</td>\n",
       "      <td>0.0000</td>\n",
       "      <td>0.0000</td>\n",
       "      <td>0.0</td>\n",
       "      <td>0.0000</td>\n",
       "      <td>0.0000</td>\n",
       "      <td>0.0</td>\n",
       "      <td>0.0</td>\n",
       "      <td>...</td>\n",
       "      <td>0.0</td>\n",
       "      <td>0.0</td>\n",
       "      <td>0.0</td>\n",
       "      <td>0.0</td>\n",
       "      <td>0.0</td>\n",
       "      <td>0.0</td>\n",
       "      <td>0.0</td>\n",
       "      <td>0.0</td>\n",
       "      <td>0.0</td>\n",
       "      <td>0.0</td>\n",
       "    </tr>\n",
       "    <tr>\n",
       "      <th>1</th>\n",
       "      <td>3.9632</td>\n",
       "      <td>0.0</td>\n",
       "      <td>0.0000</td>\n",
       "      <td>0.0000</td>\n",
       "      <td>0.0000</td>\n",
       "      <td>0.0</td>\n",
       "      <td>0.0000</td>\n",
       "      <td>0.0000</td>\n",
       "      <td>0.0</td>\n",
       "      <td>0.0</td>\n",
       "      <td>...</td>\n",
       "      <td>0.0</td>\n",
       "      <td>0.0</td>\n",
       "      <td>0.0</td>\n",
       "      <td>0.0</td>\n",
       "      <td>0.0</td>\n",
       "      <td>0.0</td>\n",
       "      <td>0.0</td>\n",
       "      <td>0.0</td>\n",
       "      <td>0.0</td>\n",
       "      <td>0.0</td>\n",
       "    </tr>\n",
       "    <tr>\n",
       "      <th>2</th>\n",
       "      <td>3.8238</td>\n",
       "      <td>0.0</td>\n",
       "      <td>0.0000</td>\n",
       "      <td>0.6148</td>\n",
       "      <td>0.0726</td>\n",
       "      <td>0.0</td>\n",
       "      <td>0.0514</td>\n",
       "      <td>0.0000</td>\n",
       "      <td>0.0</td>\n",
       "      <td>0.0</td>\n",
       "      <td>...</td>\n",
       "      <td>0.0</td>\n",
       "      <td>0.0</td>\n",
       "      <td>0.0</td>\n",
       "      <td>0.0</td>\n",
       "      <td>0.0</td>\n",
       "      <td>0.0</td>\n",
       "      <td>0.0</td>\n",
       "      <td>0.0</td>\n",
       "      <td>0.0</td>\n",
       "      <td>0.0</td>\n",
       "    </tr>\n",
       "    <tr>\n",
       "      <th>3</th>\n",
       "      <td>3.7076</td>\n",
       "      <td>0.0</td>\n",
       "      <td>0.0000</td>\n",
       "      <td>0.0000</td>\n",
       "      <td>0.0000</td>\n",
       "      <td>0.0</td>\n",
       "      <td>0.7900</td>\n",
       "      <td>0.0000</td>\n",
       "      <td>0.0</td>\n",
       "      <td>0.0</td>\n",
       "      <td>...</td>\n",
       "      <td>0.0</td>\n",
       "      <td>0.0</td>\n",
       "      <td>0.0</td>\n",
       "      <td>0.0</td>\n",
       "      <td>0.0</td>\n",
       "      <td>0.0</td>\n",
       "      <td>0.0</td>\n",
       "      <td>0.0</td>\n",
       "      <td>0.0</td>\n",
       "      <td>0.0</td>\n",
       "    </tr>\n",
       "    <tr>\n",
       "      <th>4</th>\n",
       "      <td>2.2011</td>\n",
       "      <td>0.0</td>\n",
       "      <td>0.7780</td>\n",
       "      <td>0.3908</td>\n",
       "      <td>0.0000</td>\n",
       "      <td>0.0</td>\n",
       "      <td>0.0027</td>\n",
       "      <td>0.0000</td>\n",
       "      <td>0.0</td>\n",
       "      <td>0.0</td>\n",
       "      <td>...</td>\n",
       "      <td>0.0</td>\n",
       "      <td>0.0</td>\n",
       "      <td>0.0</td>\n",
       "      <td>0.0</td>\n",
       "      <td>0.0</td>\n",
       "      <td>0.0</td>\n",
       "      <td>0.0</td>\n",
       "      <td>0.0</td>\n",
       "      <td>0.0</td>\n",
       "      <td>0.0</td>\n",
       "    </tr>\n",
       "    <tr>\n",
       "      <th>...</th>\n",
       "      <td>...</td>\n",
       "      <td>...</td>\n",
       "      <td>...</td>\n",
       "      <td>...</td>\n",
       "      <td>...</td>\n",
       "      <td>...</td>\n",
       "      <td>...</td>\n",
       "      <td>...</td>\n",
       "      <td>...</td>\n",
       "      <td>...</td>\n",
       "      <td>...</td>\n",
       "      <td>...</td>\n",
       "      <td>...</td>\n",
       "      <td>...</td>\n",
       "      <td>...</td>\n",
       "      <td>...</td>\n",
       "      <td>...</td>\n",
       "      <td>...</td>\n",
       "      <td>...</td>\n",
       "      <td>...</td>\n",
       "      <td>...</td>\n",
       "    </tr>\n",
       "    <tr>\n",
       "      <th>314</th>\n",
       "      <td>0.0000</td>\n",
       "      <td>0.0</td>\n",
       "      <td>0.3501</td>\n",
       "      <td>0.0000</td>\n",
       "      <td>0.0000</td>\n",
       "      <td>0.0</td>\n",
       "      <td>0.0000</td>\n",
       "      <td>0.0000</td>\n",
       "      <td>0.0</td>\n",
       "      <td>0.0</td>\n",
       "      <td>...</td>\n",
       "      <td>0.0</td>\n",
       "      <td>0.0</td>\n",
       "      <td>0.0</td>\n",
       "      <td>0.0</td>\n",
       "      <td>0.0</td>\n",
       "      <td>0.0</td>\n",
       "      <td>0.0</td>\n",
       "      <td>0.0</td>\n",
       "      <td>0.0</td>\n",
       "      <td>0.0</td>\n",
       "    </tr>\n",
       "    <tr>\n",
       "      <th>315</th>\n",
       "      <td>0.0000</td>\n",
       "      <td>0.0</td>\n",
       "      <td>0.0000</td>\n",
       "      <td>0.0000</td>\n",
       "      <td>0.0000</td>\n",
       "      <td>0.0</td>\n",
       "      <td>0.0000</td>\n",
       "      <td>0.0339</td>\n",
       "      <td>0.0</td>\n",
       "      <td>0.0</td>\n",
       "      <td>...</td>\n",
       "      <td>0.0</td>\n",
       "      <td>0.0</td>\n",
       "      <td>0.0</td>\n",
       "      <td>0.0</td>\n",
       "      <td>0.0</td>\n",
       "      <td>0.0</td>\n",
       "      <td>0.0</td>\n",
       "      <td>0.0</td>\n",
       "      <td>0.0</td>\n",
       "      <td>0.0</td>\n",
       "    </tr>\n",
       "    <tr>\n",
       "      <th>316</th>\n",
       "      <td>0.0000</td>\n",
       "      <td>0.0</td>\n",
       "      <td>2.5800</td>\n",
       "      <td>0.0000</td>\n",
       "      <td>0.0000</td>\n",
       "      <td>0.0</td>\n",
       "      <td>0.0000</td>\n",
       "      <td>0.0000</td>\n",
       "      <td>0.0</td>\n",
       "      <td>0.0</td>\n",
       "      <td>...</td>\n",
       "      <td>0.0</td>\n",
       "      <td>0.0</td>\n",
       "      <td>0.0</td>\n",
       "      <td>0.0</td>\n",
       "      <td>0.0</td>\n",
       "      <td>0.0</td>\n",
       "      <td>0.0</td>\n",
       "      <td>0.0</td>\n",
       "      <td>0.0</td>\n",
       "      <td>0.0</td>\n",
       "    </tr>\n",
       "    <tr>\n",
       "      <th>317</th>\n",
       "      <td>0.0000</td>\n",
       "      <td>0.0</td>\n",
       "      <td>0.0000</td>\n",
       "      <td>7.3265</td>\n",
       "      <td>0.0000</td>\n",
       "      <td>0.0</td>\n",
       "      <td>0.0000</td>\n",
       "      <td>0.0000</td>\n",
       "      <td>0.0</td>\n",
       "      <td>0.0</td>\n",
       "      <td>...</td>\n",
       "      <td>0.0</td>\n",
       "      <td>0.0</td>\n",
       "      <td>0.0</td>\n",
       "      <td>0.0</td>\n",
       "      <td>0.0</td>\n",
       "      <td>0.0</td>\n",
       "      <td>0.0</td>\n",
       "      <td>0.0</td>\n",
       "      <td>0.0</td>\n",
       "      <td>0.0</td>\n",
       "    </tr>\n",
       "    <tr>\n",
       "      <th>318</th>\n",
       "      <td>0.0000</td>\n",
       "      <td>0.0</td>\n",
       "      <td>0.0000</td>\n",
       "      <td>5.8287</td>\n",
       "      <td>0.1445</td>\n",
       "      <td>0.0</td>\n",
       "      <td>0.0000</td>\n",
       "      <td>0.0000</td>\n",
       "      <td>0.0</td>\n",
       "      <td>0.0</td>\n",
       "      <td>...</td>\n",
       "      <td>0.0</td>\n",
       "      <td>0.0</td>\n",
       "      <td>0.0</td>\n",
       "      <td>0.0</td>\n",
       "      <td>0.0</td>\n",
       "      <td>0.0</td>\n",
       "      <td>0.0</td>\n",
       "      <td>0.0</td>\n",
       "      <td>0.0</td>\n",
       "      <td>0.0</td>\n",
       "    </tr>\n",
       "  </tbody>\n",
       "</table>\n",
       "<p>319 rows × 130 columns</p>\n",
       "</div>"
      ],
      "text/plain": [
       "     Oxalis  Quercus  Cyp.bulb  Phaseolus  Tephoria  Caracoles  Insectos  \\\n",
       "0    9.7584      0.0    0.0000     0.0000    0.0000        0.0    0.0000   \n",
       "1    3.9632      0.0    0.0000     0.0000    0.0000        0.0    0.0000   \n",
       "2    3.8238      0.0    0.0000     0.6148    0.0726        0.0    0.0514   \n",
       "3    3.7076      0.0    0.0000     0.0000    0.0000        0.0    0.7900   \n",
       "4    2.2011      0.0    0.7780     0.3908    0.0000        0.0    0.0027   \n",
       "..      ...      ...       ...        ...       ...        ...       ...   \n",
       "314  0.0000      0.0    0.3501     0.0000    0.0000        0.0    0.0000   \n",
       "315  0.0000      0.0    0.0000     0.0000    0.0000        0.0    0.0000   \n",
       "316  0.0000      0.0    2.5800     0.0000    0.0000        0.0    0.0000   \n",
       "317  0.0000      0.0    0.0000     7.3265    0.0000        0.0    0.0000   \n",
       "318  0.0000      0.0    0.0000     5.8287    0.1445        0.0    0.0000   \n",
       "\n",
       "     Physalis  Vitis.arizonica  Lupinus  ...  Bothriochloa.1  Euphorbia.2  \\\n",
       "0      0.0000              0.0      0.0  ...             0.0          0.0   \n",
       "1      0.0000              0.0      0.0  ...             0.0          0.0   \n",
       "2      0.0000              0.0      0.0  ...             0.0          0.0   \n",
       "3      0.0000              0.0      0.0  ...             0.0          0.0   \n",
       "4      0.0000              0.0      0.0  ...             0.0          0.0   \n",
       "..        ...              ...      ...  ...             ...          ...   \n",
       "314    0.0000              0.0      0.0  ...             0.0          0.0   \n",
       "315    0.0339              0.0      0.0  ...             0.0          0.0   \n",
       "316    0.0000              0.0      0.0  ...             0.0          0.0   \n",
       "317    0.0000              0.0      0.0  ...             0.0          0.0   \n",
       "318    0.0000              0.0      0.0  ...             0.0          0.0   \n",
       "\n",
       "     SPA60  SPA61  SPA62  Phaseolus.1  SPA64  SPA65  Arachnida  \\\n",
       "0      0.0    0.0    0.0          0.0    0.0    0.0        0.0   \n",
       "1      0.0    0.0    0.0          0.0    0.0    0.0        0.0   \n",
       "2      0.0    0.0    0.0          0.0    0.0    0.0        0.0   \n",
       "3      0.0    0.0    0.0          0.0    0.0    0.0        0.0   \n",
       "4      0.0    0.0    0.0          0.0    0.0    0.0        0.0   \n",
       "..     ...    ...    ...          ...    ...    ...        ...   \n",
       "314    0.0    0.0    0.0          0.0    0.0    0.0        0.0   \n",
       "315    0.0    0.0    0.0          0.0    0.0    0.0        0.0   \n",
       "316    0.0    0.0    0.0          0.0    0.0    0.0        0.0   \n",
       "317    0.0    0.0    0.0          0.0    0.0    0.0        0.0   \n",
       "318    0.0    0.0    0.0          0.0    0.0    0.0        0.0   \n",
       "\n",
       "     Juniperus prob. deppeana  \n",
       "0                         0.0  \n",
       "1                         0.0  \n",
       "2                         0.0  \n",
       "3                         0.0  \n",
       "4                         0.0  \n",
       "..                        ...  \n",
       "314                       0.0  \n",
       "315                       0.0  \n",
       "316                       0.0  \n",
       "317                       0.0  \n",
       "318                       0.0  \n",
       "\n",
       "[319 rows x 130 columns]"
      ]
     },
     "execution_count": 292,
     "metadata": {},
     "output_type": "execute_result"
    }
   ],
   "source": [
    "df_dieta"
   ]
  },
  {
   "cell_type": "code",
   "execution_count": 300,
   "metadata": {},
   "outputs": [
    {
     "data": {
      "text/plain": [
       "Quercus\n",
       "0.0000    227\n",
       "0.0718      2\n",
       "0.8823      1\n",
       "0.4520      1\n",
       "0.5136      1\n",
       "         ... \n",
       "2.1119      1\n",
       "2.2135      1\n",
       "2.2704      1\n",
       "2.5874      1\n",
       "0.0217      1\n",
       "Name: count, Length: 91, dtype: int64"
      ]
     },
     "execution_count": 300,
     "metadata": {},
     "output_type": "execute_result"
    }
   ],
   "source": [
    "df_dieta['Quercus'].value_counts()"
   ]
  },
  {
   "cell_type": "code",
   "execution_count": 294,
   "metadata": {},
   "outputs": [
    {
     "data": {
      "text/html": [
       "<div>\n",
       "<style scoped>\n",
       "    .dataframe tbody tr th:only-of-type {\n",
       "        vertical-align: middle;\n",
       "    }\n",
       "\n",
       "    .dataframe tbody tr th {\n",
       "        vertical-align: top;\n",
       "    }\n",
       "\n",
       "    .dataframe thead th {\n",
       "        text-align: right;\n",
       "    }\n",
       "</style>\n",
       "<table border=\"1\" class=\"dataframe\">\n",
       "  <thead>\n",
       "    <tr style=\"text-align: right;\">\n",
       "      <th></th>\n",
       "      <th>Oxalis</th>\n",
       "      <th>Quercus</th>\n",
       "      <th>Cyp.bulb</th>\n",
       "      <th>Phaseolus</th>\n",
       "      <th>Tephoria</th>\n",
       "      <th>Caracoles</th>\n",
       "      <th>Insectos</th>\n",
       "      <th>Physalis</th>\n",
       "      <th>Vitis.arizonica</th>\n",
       "      <th>Lupinus</th>\n",
       "      <th>...</th>\n",
       "      <th>Bothriochloa.1</th>\n",
       "      <th>Euphorbia.2</th>\n",
       "      <th>SPA60</th>\n",
       "      <th>SPA61</th>\n",
       "      <th>SPA62</th>\n",
       "      <th>Phaseolus.1</th>\n",
       "      <th>SPA64</th>\n",
       "      <th>SPA65</th>\n",
       "      <th>Arachnida</th>\n",
       "      <th>Juniperus prob. deppeana</th>\n",
       "    </tr>\n",
       "  </thead>\n",
       "  <tbody>\n",
       "    <tr>\n",
       "      <th>count</th>\n",
       "      <td>319.000000</td>\n",
       "      <td>318.000000</td>\n",
       "      <td>317.000000</td>\n",
       "      <td>319.000000</td>\n",
       "      <td>319.000000</td>\n",
       "      <td>319.000000</td>\n",
       "      <td>319.000000</td>\n",
       "      <td>319.000000</td>\n",
       "      <td>319.000000</td>\n",
       "      <td>319.000000</td>\n",
       "      <td>...</td>\n",
       "      <td>318.000000</td>\n",
       "      <td>319.000000</td>\n",
       "      <td>319.000000</td>\n",
       "      <td>319.000000</td>\n",
       "      <td>319.000000</td>\n",
       "      <td>319.000000</td>\n",
       "      <td>319.000000</td>\n",
       "      <td>319.000000</td>\n",
       "      <td>319.000000</td>\n",
       "      <td>319.000000</td>\n",
       "    </tr>\n",
       "    <tr>\n",
       "      <th>mean</th>\n",
       "      <td>0.097181</td>\n",
       "      <td>0.391575</td>\n",
       "      <td>0.194748</td>\n",
       "      <td>0.319146</td>\n",
       "      <td>0.014456</td>\n",
       "      <td>0.000230</td>\n",
       "      <td>0.113014</td>\n",
       "      <td>0.035234</td>\n",
       "      <td>0.008553</td>\n",
       "      <td>0.000138</td>\n",
       "      <td>...</td>\n",
       "      <td>0.000004</td>\n",
       "      <td>0.002021</td>\n",
       "      <td>0.000029</td>\n",
       "      <td>0.000471</td>\n",
       "      <td>0.000219</td>\n",
       "      <td>0.000291</td>\n",
       "      <td>0.001678</td>\n",
       "      <td>0.000022</td>\n",
       "      <td>0.000483</td>\n",
       "      <td>0.000013</td>\n",
       "    </tr>\n",
       "    <tr>\n",
       "      <th>std</th>\n",
       "      <td>0.681455</td>\n",
       "      <td>0.873040</td>\n",
       "      <td>0.626539</td>\n",
       "      <td>1.021837</td>\n",
       "      <td>0.054934</td>\n",
       "      <td>0.002218</td>\n",
       "      <td>0.384408</td>\n",
       "      <td>0.303878</td>\n",
       "      <td>0.094990</td>\n",
       "      <td>0.002000</td>\n",
       "      <td>...</td>\n",
       "      <td>0.000067</td>\n",
       "      <td>0.015414</td>\n",
       "      <td>0.000418</td>\n",
       "      <td>0.004995</td>\n",
       "      <td>0.002126</td>\n",
       "      <td>0.004302</td>\n",
       "      <td>0.027182</td>\n",
       "      <td>0.000392</td>\n",
       "      <td>0.008622</td>\n",
       "      <td>0.000230</td>\n",
       "    </tr>\n",
       "    <tr>\n",
       "      <th>min</th>\n",
       "      <td>0.000000</td>\n",
       "      <td>0.000000</td>\n",
       "      <td>0.000000</td>\n",
       "      <td>0.000000</td>\n",
       "      <td>0.000000</td>\n",
       "      <td>0.000000</td>\n",
       "      <td>0.000000</td>\n",
       "      <td>0.000000</td>\n",
       "      <td>0.000000</td>\n",
       "      <td>0.000000</td>\n",
       "      <td>...</td>\n",
       "      <td>0.000000</td>\n",
       "      <td>0.000000</td>\n",
       "      <td>0.000000</td>\n",
       "      <td>0.000000</td>\n",
       "      <td>0.000000</td>\n",
       "      <td>0.000000</td>\n",
       "      <td>0.000000</td>\n",
       "      <td>0.000000</td>\n",
       "      <td>0.000000</td>\n",
       "      <td>0.000000</td>\n",
       "    </tr>\n",
       "    <tr>\n",
       "      <th>25%</th>\n",
       "      <td>0.000000</td>\n",
       "      <td>0.000000</td>\n",
       "      <td>0.000000</td>\n",
       "      <td>0.000000</td>\n",
       "      <td>0.000000</td>\n",
       "      <td>0.000000</td>\n",
       "      <td>0.000000</td>\n",
       "      <td>0.000000</td>\n",
       "      <td>0.000000</td>\n",
       "      <td>0.000000</td>\n",
       "      <td>...</td>\n",
       "      <td>0.000000</td>\n",
       "      <td>0.000000</td>\n",
       "      <td>0.000000</td>\n",
       "      <td>0.000000</td>\n",
       "      <td>0.000000</td>\n",
       "      <td>0.000000</td>\n",
       "      <td>0.000000</td>\n",
       "      <td>0.000000</td>\n",
       "      <td>0.000000</td>\n",
       "      <td>0.000000</td>\n",
       "    </tr>\n",
       "    <tr>\n",
       "      <th>50%</th>\n",
       "      <td>0.000000</td>\n",
       "      <td>0.000000</td>\n",
       "      <td>0.000000</td>\n",
       "      <td>0.000000</td>\n",
       "      <td>0.000000</td>\n",
       "      <td>0.000000</td>\n",
       "      <td>0.000000</td>\n",
       "      <td>0.000000</td>\n",
       "      <td>0.000000</td>\n",
       "      <td>0.000000</td>\n",
       "      <td>...</td>\n",
       "      <td>0.000000</td>\n",
       "      <td>0.000000</td>\n",
       "      <td>0.000000</td>\n",
       "      <td>0.000000</td>\n",
       "      <td>0.000000</td>\n",
       "      <td>0.000000</td>\n",
       "      <td>0.000000</td>\n",
       "      <td>0.000000</td>\n",
       "      <td>0.000000</td>\n",
       "      <td>0.000000</td>\n",
       "    </tr>\n",
       "    <tr>\n",
       "      <th>75%</th>\n",
       "      <td>0.000000</td>\n",
       "      <td>0.134650</td>\n",
       "      <td>0.000000</td>\n",
       "      <td>0.091750</td>\n",
       "      <td>0.000000</td>\n",
       "      <td>0.000000</td>\n",
       "      <td>0.030000</td>\n",
       "      <td>0.000000</td>\n",
       "      <td>0.000000</td>\n",
       "      <td>0.000000</td>\n",
       "      <td>...</td>\n",
       "      <td>0.000000</td>\n",
       "      <td>0.000000</td>\n",
       "      <td>0.000000</td>\n",
       "      <td>0.000000</td>\n",
       "      <td>0.000000</td>\n",
       "      <td>0.000000</td>\n",
       "      <td>0.000000</td>\n",
       "      <td>0.000000</td>\n",
       "      <td>0.000000</td>\n",
       "      <td>0.000000</td>\n",
       "    </tr>\n",
       "    <tr>\n",
       "      <th>max</th>\n",
       "      <td>9.758400</td>\n",
       "      <td>4.382100</td>\n",
       "      <td>6.723300</td>\n",
       "      <td>7.326500</td>\n",
       "      <td>0.666200</td>\n",
       "      <td>0.027800</td>\n",
       "      <td>2.900000</td>\n",
       "      <td>4.471900</td>\n",
       "      <td>1.666400</td>\n",
       "      <td>0.034500</td>\n",
       "      <td>...</td>\n",
       "      <td>0.001200</td>\n",
       "      <td>0.192700</td>\n",
       "      <td>0.007200</td>\n",
       "      <td>0.065500</td>\n",
       "      <td>0.029700</td>\n",
       "      <td>0.074700</td>\n",
       "      <td>0.482800</td>\n",
       "      <td>0.007000</td>\n",
       "      <td>0.154000</td>\n",
       "      <td>0.004100</td>\n",
       "    </tr>\n",
       "  </tbody>\n",
       "</table>\n",
       "<p>8 rows × 130 columns</p>\n",
       "</div>"
      ],
      "text/plain": [
       "           Oxalis     Quercus    Cyp.bulb   Phaseolus    Tephoria   Caracoles  \\\n",
       "count  319.000000  318.000000  317.000000  319.000000  319.000000  319.000000   \n",
       "mean     0.097181    0.391575    0.194748    0.319146    0.014456    0.000230   \n",
       "std      0.681455    0.873040    0.626539    1.021837    0.054934    0.002218   \n",
       "min      0.000000    0.000000    0.000000    0.000000    0.000000    0.000000   \n",
       "25%      0.000000    0.000000    0.000000    0.000000    0.000000    0.000000   \n",
       "50%      0.000000    0.000000    0.000000    0.000000    0.000000    0.000000   \n",
       "75%      0.000000    0.134650    0.000000    0.091750    0.000000    0.000000   \n",
       "max      9.758400    4.382100    6.723300    7.326500    0.666200    0.027800   \n",
       "\n",
       "         Insectos    Physalis  Vitis.arizonica     Lupinus  ...  \\\n",
       "count  319.000000  319.000000       319.000000  319.000000  ...   \n",
       "mean     0.113014    0.035234         0.008553    0.000138  ...   \n",
       "std      0.384408    0.303878         0.094990    0.002000  ...   \n",
       "min      0.000000    0.000000         0.000000    0.000000  ...   \n",
       "25%      0.000000    0.000000         0.000000    0.000000  ...   \n",
       "50%      0.000000    0.000000         0.000000    0.000000  ...   \n",
       "75%      0.030000    0.000000         0.000000    0.000000  ...   \n",
       "max      2.900000    4.471900         1.666400    0.034500  ...   \n",
       "\n",
       "       Bothriochloa.1  Euphorbia.2       SPA60       SPA61       SPA62  \\\n",
       "count      318.000000   319.000000  319.000000  319.000000  319.000000   \n",
       "mean         0.000004     0.002021    0.000029    0.000471    0.000219   \n",
       "std          0.000067     0.015414    0.000418    0.004995    0.002126   \n",
       "min          0.000000     0.000000    0.000000    0.000000    0.000000   \n",
       "25%          0.000000     0.000000    0.000000    0.000000    0.000000   \n",
       "50%          0.000000     0.000000    0.000000    0.000000    0.000000   \n",
       "75%          0.000000     0.000000    0.000000    0.000000    0.000000   \n",
       "max          0.001200     0.192700    0.007200    0.065500    0.029700   \n",
       "\n",
       "       Phaseolus.1       SPA64       SPA65   Arachnida  \\\n",
       "count   319.000000  319.000000  319.000000  319.000000   \n",
       "mean      0.000291    0.001678    0.000022    0.000483   \n",
       "std       0.004302    0.027182    0.000392    0.008622   \n",
       "min       0.000000    0.000000    0.000000    0.000000   \n",
       "25%       0.000000    0.000000    0.000000    0.000000   \n",
       "50%       0.000000    0.000000    0.000000    0.000000   \n",
       "75%       0.000000    0.000000    0.000000    0.000000   \n",
       "max       0.074700    0.482800    0.007000    0.154000   \n",
       "\n",
       "       Juniperus prob. deppeana  \n",
       "count                319.000000  \n",
       "mean                   0.000013  \n",
       "std                    0.000230  \n",
       "min                    0.000000  \n",
       "25%                    0.000000  \n",
       "50%                    0.000000  \n",
       "75%                    0.000000  \n",
       "max                    0.004100  \n",
       "\n",
       "[8 rows x 130 columns]"
      ]
     },
     "execution_count": 294,
     "metadata": {},
     "output_type": "execute_result"
    }
   ],
   "source": [
    "df_dieta.describe()"
   ]
  },
  {
   "cell_type": "code",
   "execution_count": 299,
   "metadata": {},
   "outputs": [
    {
     "data": {
      "text/html": [
       "<div>\n",
       "<style scoped>\n",
       "    .dataframe tbody tr th:only-of-type {\n",
       "        vertical-align: middle;\n",
       "    }\n",
       "\n",
       "    .dataframe tbody tr th {\n",
       "        vertical-align: top;\n",
       "    }\n",
       "\n",
       "    .dataframe thead th {\n",
       "        text-align: right;\n",
       "    }\n",
       "</style>\n",
       "<table border=\"1\" class=\"dataframe\">\n",
       "  <thead>\n",
       "    <tr style=\"text-align: right;\">\n",
       "      <th></th>\n",
       "      <th>Oxalis</th>\n",
       "      <th>Quercus</th>\n",
       "      <th>Cyp.bulb</th>\n",
       "      <th>Phaseolus</th>\n",
       "      <th>Tephoria</th>\n",
       "      <th>Caracoles</th>\n",
       "      <th>Insectos</th>\n",
       "      <th>Physalis</th>\n",
       "      <th>Vitis.arizonica</th>\n",
       "      <th>Lupinus</th>\n",
       "      <th>...</th>\n",
       "      <th>Bothriochloa.1</th>\n",
       "      <th>Euphorbia.2</th>\n",
       "      <th>SPA60</th>\n",
       "      <th>SPA61</th>\n",
       "      <th>SPA62</th>\n",
       "      <th>Phaseolus.1</th>\n",
       "      <th>SPA64</th>\n",
       "      <th>SPA65</th>\n",
       "      <th>Arachnida</th>\n",
       "      <th>Juniperus prob. deppeana</th>\n",
       "    </tr>\n",
       "  </thead>\n",
       "  <tbody>\n",
       "    <tr>\n",
       "      <th>Oxalis</th>\n",
       "      <td>1.000000</td>\n",
       "      <td>-0.056767</td>\n",
       "      <td>-0.013678</td>\n",
       "      <td>-0.027159</td>\n",
       "      <td>-0.013171</td>\n",
       "      <td>-0.010850</td>\n",
       "      <td>-0.001060</td>\n",
       "      <td>-0.016587</td>\n",
       "      <td>-0.009894</td>\n",
       "      <td>-0.009841</td>\n",
       "      <td>...</td>\n",
       "      <td>-0.008035</td>\n",
       "      <td>-0.018759</td>\n",
       "      <td>-0.009869</td>\n",
       "      <td>-0.013477</td>\n",
       "      <td>-0.014747</td>\n",
       "      <td>-0.009685</td>\n",
       "      <td>-0.008832</td>\n",
       "      <td>-0.008010</td>\n",
       "      <td>-0.008010</td>\n",
       "      <td>-0.008010</td>\n",
       "    </tr>\n",
       "    <tr>\n",
       "      <th>Quercus</th>\n",
       "      <td>-0.056767</td>\n",
       "      <td>1.000000</td>\n",
       "      <td>-0.112893</td>\n",
       "      <td>-0.103958</td>\n",
       "      <td>-0.029679</td>\n",
       "      <td>-0.031719</td>\n",
       "      <td>0.129927</td>\n",
       "      <td>-0.008947</td>\n",
       "      <td>-0.015689</td>\n",
       "      <td>-0.023149</td>\n",
       "      <td>...</td>\n",
       "      <td>-0.025319</td>\n",
       "      <td>-0.057018</td>\n",
       "      <td>-0.031089</td>\n",
       "      <td>0.009197</td>\n",
       "      <td>0.014957</td>\n",
       "      <td>0.001702</td>\n",
       "      <td>0.002921</td>\n",
       "      <td>0.086228</td>\n",
       "      <td>-0.025231</td>\n",
       "      <td>0.102079</td>\n",
       "    </tr>\n",
       "    <tr>\n",
       "      <th>Cyp.bulb</th>\n",
       "      <td>-0.013678</td>\n",
       "      <td>-0.112893</td>\n",
       "      <td>1.000000</td>\n",
       "      <td>-0.087802</td>\n",
       "      <td>-0.064005</td>\n",
       "      <td>-0.028808</td>\n",
       "      <td>0.001124</td>\n",
       "      <td>-0.023934</td>\n",
       "      <td>-0.028165</td>\n",
       "      <td>-0.021518</td>\n",
       "      <td>...</td>\n",
       "      <td>-0.017571</td>\n",
       "      <td>-0.038815</td>\n",
       "      <td>-0.021579</td>\n",
       "      <td>-0.004139</td>\n",
       "      <td>-0.014993</td>\n",
       "      <td>-0.012127</td>\n",
       "      <td>-0.015179</td>\n",
       "      <td>0.000841</td>\n",
       "      <td>-0.017513</td>\n",
       "      <td>-0.017513</td>\n",
       "    </tr>\n",
       "    <tr>\n",
       "      <th>Phaseolus</th>\n",
       "      <td>-0.027159</td>\n",
       "      <td>-0.103958</td>\n",
       "      <td>-0.087802</td>\n",
       "      <td>1.000000</td>\n",
       "      <td>0.666866</td>\n",
       "      <td>0.011873</td>\n",
       "      <td>-0.051658</td>\n",
       "      <td>-0.036327</td>\n",
       "      <td>-0.019952</td>\n",
       "      <td>-0.019690</td>\n",
       "      <td>...</td>\n",
       "      <td>0.017713</td>\n",
       "      <td>0.034241</td>\n",
       "      <td>0.018940</td>\n",
       "      <td>-0.026657</td>\n",
       "      <td>-0.020240</td>\n",
       "      <td>-0.018373</td>\n",
       "      <td>-0.018046</td>\n",
       "      <td>-0.014711</td>\n",
       "      <td>0.041309</td>\n",
       "      <td>0.006121</td>\n",
       "    </tr>\n",
       "    <tr>\n",
       "      <th>Tephoria</th>\n",
       "      <td>-0.013171</td>\n",
       "      <td>-0.029679</td>\n",
       "      <td>-0.064005</td>\n",
       "      <td>0.666866</td>\n",
       "      <td>1.000000</td>\n",
       "      <td>-0.003294</td>\n",
       "      <td>-0.020366</td>\n",
       "      <td>-0.030607</td>\n",
       "      <td>-0.009863</td>\n",
       "      <td>-0.012161</td>\n",
       "      <td>...</td>\n",
       "      <td>0.025051</td>\n",
       "      <td>0.079699</td>\n",
       "      <td>0.020239</td>\n",
       "      <td>0.062193</td>\n",
       "      <td>0.008240</td>\n",
       "      <td>-0.003146</td>\n",
       "      <td>-0.009574</td>\n",
       "      <td>0.008531</td>\n",
       "      <td>-0.014780</td>\n",
       "      <td>0.004135</td>\n",
       "    </tr>\n",
       "    <tr>\n",
       "      <th>...</th>\n",
       "      <td>...</td>\n",
       "      <td>...</td>\n",
       "      <td>...</td>\n",
       "      <td>...</td>\n",
       "      <td>...</td>\n",
       "      <td>...</td>\n",
       "      <td>...</td>\n",
       "      <td>...</td>\n",
       "      <td>...</td>\n",
       "      <td>...</td>\n",
       "      <td>...</td>\n",
       "      <td>...</td>\n",
       "      <td>...</td>\n",
       "      <td>...</td>\n",
       "      <td>...</td>\n",
       "      <td>...</td>\n",
       "      <td>...</td>\n",
       "      <td>...</td>\n",
       "      <td>...</td>\n",
       "      <td>...</td>\n",
       "      <td>...</td>\n",
       "    </tr>\n",
       "    <tr>\n",
       "      <th>Phaseolus.1</th>\n",
       "      <td>-0.009685</td>\n",
       "      <td>0.001702</td>\n",
       "      <td>-0.012127</td>\n",
       "      <td>-0.018373</td>\n",
       "      <td>-0.003146</td>\n",
       "      <td>-0.007044</td>\n",
       "      <td>-0.019966</td>\n",
       "      <td>-0.007874</td>\n",
       "      <td>-0.006115</td>\n",
       "      <td>-0.004672</td>\n",
       "      <td>...</td>\n",
       "      <td>-0.003814</td>\n",
       "      <td>-0.008906</td>\n",
       "      <td>-0.004685</td>\n",
       "      <td>-0.006398</td>\n",
       "      <td>-0.007001</td>\n",
       "      <td>1.000000</td>\n",
       "      <td>0.991457</td>\n",
       "      <td>-0.003802</td>\n",
       "      <td>-0.003802</td>\n",
       "      <td>-0.003802</td>\n",
       "    </tr>\n",
       "    <tr>\n",
       "      <th>SPA64</th>\n",
       "      <td>-0.008832</td>\n",
       "      <td>0.002921</td>\n",
       "      <td>-0.015179</td>\n",
       "      <td>-0.018046</td>\n",
       "      <td>-0.009574</td>\n",
       "      <td>-0.006423</td>\n",
       "      <td>-0.018207</td>\n",
       "      <td>-0.007180</td>\n",
       "      <td>-0.005576</td>\n",
       "      <td>-0.004260</td>\n",
       "      <td>...</td>\n",
       "      <td>-0.003478</td>\n",
       "      <td>-0.008121</td>\n",
       "      <td>-0.004272</td>\n",
       "      <td>-0.005834</td>\n",
       "      <td>-0.006384</td>\n",
       "      <td>0.991457</td>\n",
       "      <td>1.000000</td>\n",
       "      <td>-0.003467</td>\n",
       "      <td>-0.003467</td>\n",
       "      <td>-0.003467</td>\n",
       "    </tr>\n",
       "    <tr>\n",
       "      <th>SPA65</th>\n",
       "      <td>-0.008010</td>\n",
       "      <td>0.086228</td>\n",
       "      <td>0.000841</td>\n",
       "      <td>-0.014711</td>\n",
       "      <td>0.008531</td>\n",
       "      <td>-0.005825</td>\n",
       "      <td>-0.015373</td>\n",
       "      <td>-0.006512</td>\n",
       "      <td>-0.005057</td>\n",
       "      <td>-0.003864</td>\n",
       "      <td>...</td>\n",
       "      <td>-0.003155</td>\n",
       "      <td>-0.007365</td>\n",
       "      <td>-0.003875</td>\n",
       "      <td>-0.005291</td>\n",
       "      <td>0.464523</td>\n",
       "      <td>-0.003802</td>\n",
       "      <td>-0.003467</td>\n",
       "      <td>1.000000</td>\n",
       "      <td>-0.003145</td>\n",
       "      <td>-0.003145</td>\n",
       "    </tr>\n",
       "    <tr>\n",
       "      <th>Arachnida</th>\n",
       "      <td>-0.008010</td>\n",
       "      <td>-0.025231</td>\n",
       "      <td>-0.017513</td>\n",
       "      <td>0.041309</td>\n",
       "      <td>-0.014780</td>\n",
       "      <td>-0.005825</td>\n",
       "      <td>-0.015270</td>\n",
       "      <td>-0.006512</td>\n",
       "      <td>-0.005057</td>\n",
       "      <td>-0.003864</td>\n",
       "      <td>...</td>\n",
       "      <td>-0.003155</td>\n",
       "      <td>-0.007365</td>\n",
       "      <td>-0.003875</td>\n",
       "      <td>-0.005291</td>\n",
       "      <td>-0.005790</td>\n",
       "      <td>-0.003802</td>\n",
       "      <td>-0.003467</td>\n",
       "      <td>-0.003145</td>\n",
       "      <td>1.000000</td>\n",
       "      <td>-0.003145</td>\n",
       "    </tr>\n",
       "    <tr>\n",
       "      <th>Juniperus prob. deppeana</th>\n",
       "      <td>-0.008010</td>\n",
       "      <td>0.102079</td>\n",
       "      <td>-0.017513</td>\n",
       "      <td>0.006121</td>\n",
       "      <td>0.004135</td>\n",
       "      <td>-0.005825</td>\n",
       "      <td>0.022265</td>\n",
       "      <td>-0.006512</td>\n",
       "      <td>-0.005057</td>\n",
       "      <td>-0.003864</td>\n",
       "      <td>...</td>\n",
       "      <td>-0.003155</td>\n",
       "      <td>-0.007365</td>\n",
       "      <td>-0.003875</td>\n",
       "      <td>-0.005291</td>\n",
       "      <td>-0.005790</td>\n",
       "      <td>-0.003802</td>\n",
       "      <td>-0.003467</td>\n",
       "      <td>-0.003145</td>\n",
       "      <td>-0.003145</td>\n",
       "      <td>1.000000</td>\n",
       "    </tr>\n",
       "  </tbody>\n",
       "</table>\n",
       "<p>130 rows × 130 columns</p>\n",
       "</div>"
      ],
      "text/plain": [
       "                            Oxalis   Quercus  Cyp.bulb  Phaseolus  Tephoria  \\\n",
       "Oxalis                    1.000000 -0.056767 -0.013678  -0.027159 -0.013171   \n",
       "Quercus                  -0.056767  1.000000 -0.112893  -0.103958 -0.029679   \n",
       "Cyp.bulb                 -0.013678 -0.112893  1.000000  -0.087802 -0.064005   \n",
       "Phaseolus                -0.027159 -0.103958 -0.087802   1.000000  0.666866   \n",
       "Tephoria                 -0.013171 -0.029679 -0.064005   0.666866  1.000000   \n",
       "...                            ...       ...       ...        ...       ...   \n",
       "Phaseolus.1              -0.009685  0.001702 -0.012127  -0.018373 -0.003146   \n",
       "SPA64                    -0.008832  0.002921 -0.015179  -0.018046 -0.009574   \n",
       "SPA65                    -0.008010  0.086228  0.000841  -0.014711  0.008531   \n",
       "Arachnida                -0.008010 -0.025231 -0.017513   0.041309 -0.014780   \n",
       "Juniperus prob. deppeana -0.008010  0.102079 -0.017513   0.006121  0.004135   \n",
       "\n",
       "                          Caracoles  Insectos  Physalis  Vitis.arizonica  \\\n",
       "Oxalis                    -0.010850 -0.001060 -0.016587        -0.009894   \n",
       "Quercus                   -0.031719  0.129927 -0.008947        -0.015689   \n",
       "Cyp.bulb                  -0.028808  0.001124 -0.023934        -0.028165   \n",
       "Phaseolus                  0.011873 -0.051658 -0.036327        -0.019952   \n",
       "Tephoria                  -0.003294 -0.020366 -0.030607        -0.009863   \n",
       "...                             ...       ...       ...              ...   \n",
       "Phaseolus.1               -0.007044 -0.019966 -0.007874        -0.006115   \n",
       "SPA64                     -0.006423 -0.018207 -0.007180        -0.005576   \n",
       "SPA65                     -0.005825 -0.015373 -0.006512        -0.005057   \n",
       "Arachnida                 -0.005825 -0.015270 -0.006512        -0.005057   \n",
       "Juniperus prob. deppeana  -0.005825  0.022265 -0.006512        -0.005057   \n",
       "\n",
       "                           Lupinus  ...  Bothriochloa.1  Euphorbia.2  \\\n",
       "Oxalis                   -0.009841  ...       -0.008035    -0.018759   \n",
       "Quercus                  -0.023149  ...       -0.025319    -0.057018   \n",
       "Cyp.bulb                 -0.021518  ...       -0.017571    -0.038815   \n",
       "Phaseolus                -0.019690  ...        0.017713     0.034241   \n",
       "Tephoria                 -0.012161  ...        0.025051     0.079699   \n",
       "...                            ...  ...             ...          ...   \n",
       "Phaseolus.1              -0.004672  ...       -0.003814    -0.008906   \n",
       "SPA64                    -0.004260  ...       -0.003478    -0.008121   \n",
       "SPA65                    -0.003864  ...       -0.003155    -0.007365   \n",
       "Arachnida                -0.003864  ...       -0.003155    -0.007365   \n",
       "Juniperus prob. deppeana -0.003864  ...       -0.003155    -0.007365   \n",
       "\n",
       "                             SPA60     SPA61     SPA62  Phaseolus.1     SPA64  \\\n",
       "Oxalis                   -0.009869 -0.013477 -0.014747    -0.009685 -0.008832   \n",
       "Quercus                  -0.031089  0.009197  0.014957     0.001702  0.002921   \n",
       "Cyp.bulb                 -0.021579 -0.004139 -0.014993    -0.012127 -0.015179   \n",
       "Phaseolus                 0.018940 -0.026657 -0.020240    -0.018373 -0.018046   \n",
       "Tephoria                  0.020239  0.062193  0.008240    -0.003146 -0.009574   \n",
       "...                            ...       ...       ...          ...       ...   \n",
       "Phaseolus.1              -0.004685 -0.006398 -0.007001     1.000000  0.991457   \n",
       "SPA64                    -0.004272 -0.005834 -0.006384     0.991457  1.000000   \n",
       "SPA65                    -0.003875 -0.005291  0.464523    -0.003802 -0.003467   \n",
       "Arachnida                -0.003875 -0.005291 -0.005790    -0.003802 -0.003467   \n",
       "Juniperus prob. deppeana -0.003875 -0.005291 -0.005790    -0.003802 -0.003467   \n",
       "\n",
       "                             SPA65  Arachnida  Juniperus prob. deppeana  \n",
       "Oxalis                   -0.008010  -0.008010                 -0.008010  \n",
       "Quercus                   0.086228  -0.025231                  0.102079  \n",
       "Cyp.bulb                  0.000841  -0.017513                 -0.017513  \n",
       "Phaseolus                -0.014711   0.041309                  0.006121  \n",
       "Tephoria                  0.008531  -0.014780                  0.004135  \n",
       "...                            ...        ...                       ...  \n",
       "Phaseolus.1              -0.003802  -0.003802                 -0.003802  \n",
       "SPA64                    -0.003467  -0.003467                 -0.003467  \n",
       "SPA65                     1.000000  -0.003145                 -0.003145  \n",
       "Arachnida                -0.003145   1.000000                 -0.003145  \n",
       "Juniperus prob. deppeana -0.003145  -0.003145                  1.000000  \n",
       "\n",
       "[130 rows x 130 columns]"
      ]
     },
     "execution_count": 299,
     "metadata": {},
     "output_type": "execute_result"
    }
   ],
   "source": [
    "df_dieta.corr()"
   ]
  },
  {
   "cell_type": "code",
   "execution_count": null,
   "metadata": {},
   "outputs": [],
   "source": []
  }
 ],
 "metadata": {
  "kernelspec": {
   "display_name": "agricultura",
   "language": "python",
   "name": "python3"
  },
  "language_info": {
   "codemirror_mode": {
    "name": "ipython",
    "version": 3
   },
   "file_extension": ".py",
   "mimetype": "text/x-python",
   "name": "python",
   "nbconvert_exporter": "python",
   "pygments_lexer": "ipython3",
   "version": "3.11.5"
  }
 },
 "nbformat": 4,
 "nbformat_minor": 2
}
